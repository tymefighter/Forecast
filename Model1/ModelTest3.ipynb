{
 "cells": [
  {
   "cell_type": "code",
   "execution_count": 1,
   "metadata": {},
   "outputs": [
    {
     "data": {
      "text/plain": [
       "'2.3.0'"
      ]
     },
     "execution_count": 1,
     "metadata": {},
     "output_type": "execute_result"
    }
   ],
   "source": [
    "import tensorflow as tf\n",
    "import numpy as np\n",
    "import matplotlib.pyplot as plt\n",
    "import tensorflow.keras.backend as K\n",
    "from tensorflow.keras.layers import SimpleRNN, LSTM, GRU, Dense, TimeDistributed\n",
    "import model\n",
    "\n",
    "tf.__version__"
   ]
  },
  {
   "cell_type": "code",
   "execution_count": 2,
   "metadata": {},
   "outputs": [],
   "source": [
    "def generateArma(\n",
    "    n,\n",
    "    obsCoef,\n",
    "    noiseCoef,\n",
    "    noiseGenFunc,\n",
    "    noiseGenParams,\n",
    "    obsFunc = None,\n",
    "    noiseFunc = None\n",
    "):\n",
    "\n",
    "    p = len(obsCoef)\n",
    "    q = len(noiseCoef)    \n",
    "    \n",
    "    x = np.zeros(n)\n",
    "    eps = np.zeros(n)\n",
    "\n",
    "    for t in range(n):\n",
    "\n",
    "        obsVal = 0\n",
    "        for i in range(min(t, p)):\n",
    "            obsVal += obsCoef[i] * x[t - i - 1]\n",
    "        \n",
    "        if obsFunc is not None:\n",
    "            obsVal = obsFunc(obsVal)\n",
    "        x[t] += obsVal\n",
    "        \n",
    "        noiseVal = 0\n",
    "        for j in range(min(t, q)):\n",
    "            noiseVal += noiseCoef[j] * eps[t - j - 1]\n",
    "\n",
    "        if noiseFunc is not None:\n",
    "            noiseVal = noiseFunc(noiseVal)\n",
    "        x[t] += noiseVal\n",
    "\n",
    "        eps[t] = noiseGenFunc(*noiseGenParams)\n",
    "        x[t] += eps[t]\n",
    "\n",
    "    return x"
   ]
  },
  {
   "cell_type": "code",
   "execution_count": 3,
   "metadata": {},
   "outputs": [],
   "source": [
    "n = 10000\n",
    "P = 5\n",
    "Q = 5"
   ]
  },
  {
   "cell_type": "code",
   "execution_count": 4,
   "metadata": {},
   "outputs": [],
   "source": [
    "obsCoef = np.concatenate([\n",
    "    np.random.uniform(-0.1, 0, size = P // 2),\n",
    "    np.random.uniform(0, 0.1, size = P // 2)\n",
    "])\n",
    "\n",
    "noiseCoef = np.concatenate([\n",
    "    np.random.uniform(-0.01, 0, size = Q // 2),\n",
    "    np.random.uniform(0, 0.01, size = Q // 2)\n",
    "])\n",
    "\n",
    "noiseGenFunc = np.random.gumbel\n",
    "noiseGenParams = (100., 10.0)"
   ]
  },
  {
   "cell_type": "code",
   "execution_count": 5,
   "metadata": {},
   "outputs": [],
   "source": [
    "trainSeq = generateArma(n, obsCoef, noiseCoef, noiseGenFunc, noiseGenParams)"
   ]
  },
  {
   "cell_type": "code",
   "execution_count": 6,
   "metadata": {},
   "outputs": [
    {
     "name": "stdout",
     "output_type": "stream",
     "text": [
      "Plotting Sequence\n"
     ]
    },
    {
     "data": {
      "image/png": "[encoded data removed]",
      "text/plain": [
       "<Figure size 432x288 with 1 Axes>"
      ]
     },
     "metadata": {
      "needs_background": "light"
     },
     "output_type": "display_data"
    }
   ],
   "source": [
    "print('Plotting Sequence')\n",
    "plt.plot(trainSeq)\n",
    "plt.show()"
   ]
  },
  {
   "cell_type": "code",
   "execution_count": 7,
   "metadata": {},
   "outputs": [],
   "source": [
    "x = trainSeq[:n-1, np.newaxis]\n",
    "y = np.squeeze(trainSeq[1:, np.newaxis])"
   ]
  },
  {
   "cell_type": "code",
   "execution_count": 8,
   "metadata": {
    "scrolled": false
   },
   "outputs": [],
   "source": [
    "timeModel = model.Model(\n",
    "    memorySize = 40,\n",
    "    windowSize = 5,\n",
    "    threshold = 140,\n",
    "    inputDimension = 1,\n",
    "    hiddenStateSize = 20,\n",
    "    extremeValueIndex = 2.0,\n",
    "    optimizer = tf.keras.optimizers.Adam(),\n",
    "    extremeLossWeight = 50.0\n",
    ")"
   ]
  },
  {
   "cell_type": "code",
   "execution_count": 9,
   "metadata": {},
   "outputs": [
    {
     "name": "stdout",
     "output_type": "stream",
     "text": [
      "WARNING:tensorflow:Layer gru_cell is casting an input tensor from dtype float64 to the layer's dtype of float32, which is new behavior in TensorFlow 2.  The layer has dtype float32 because its dtype defaults to floatx.\n",
      "\n",
      "If you intended to run this layer in float32, you can safely ignore this warning. If in doubt, this warning is likely only an issue if you are porting a TensorFlow 1.X model to TensorFlow 2.\n",
      "\n",
      "To change all layers to have dtype float64 by default, call `tf.keras.backend.set_floatx('float64')`. To change just this layer, pass dtype='float64' to the layer constructor. If you are the author of this layer, you can disable autocasting by passing autocast=False to the base Layer constructor.\n",
      "\n",
      "start timestep: 6 | end timestep: 205  | time taken:  45.29 sec | Total Loss: 10449.4619140625 | Square Loss: 8625.814453125 | Extreme Loss (wt): 1823.6474609375\n",
      "start timestep: 206 | end timestep: 405  | time taken:  45.68 sec | Total Loss: 12156.078125 | Square Loss: 7666.03662109375 | Extreme Loss (wt): 4490.04150390625\n",
      "start timestep: 406 | end timestep: 605  | time taken:  46.56 sec | Total Loss: 10406.203125 | Square Loss: 7684.5478515625 | Extreme Loss (wt): 2721.65576171875\n",
      "start timestep: 606 | end timestep: 805  | time taken:  45.02 sec | Total Loss: 12874.765625 | Square Loss: 7514.34814453125 | Extreme Loss (wt): 5360.41796875\n",
      "start timestep: 806 | end timestep: 1005  | time taken:  42.09 sec | Total Loss: 7310.3359375 | Square Loss: 7310.3359375 | Extreme Loss (wt): 0.0\n",
      "start timestep: 1006 | end timestep: 1205  | time taken:  42.09 sec | Total Loss: 9201.529296875 | Square Loss: 7377.8818359375 | Extreme Loss (wt): 1823.6474609375\n",
      "start timestep: 1206 | end timestep: 1405  | time taken:  42.08 sec | Total Loss: 10866.05859375 | Square Loss: 7255.60498046875 | Extreme Loss (wt): 3610.453369140625\n",
      "start timestep: 1406 | end timestep: 1605  | time taken:  42.05 sec | Total Loss: 14808.2080078125 | Square Loss: 7660.9833984375 | Extreme Loss (wt): 7147.224609375\n",
      "start timestep: 1606 | end timestep: 1805  | time taken:  42.14 sec | Total Loss: 12062.0185546875 | Square Loss: 7456.84814453125 | Extreme Loss (wt): 4605.17041015625\n",
      "start timestep: 1806 | end timestep: 2005  | time taken:  41.96 sec | Total Loss: 12771.654296875 | Square Loss: 7328.34228515625 | Extreme Loss (wt): 5443.3115234375\n",
      "start timestep: 2006 | end timestep: 2205  | time taken:  41.93 sec | Total Loss: 6828.646484375 | Square Loss: 6828.646484375 | Extreme Loss (wt): 0.0\n",
      "start timestep: 2206 | end timestep: 2405  | time taken:  42.07 sec | Total Loss: 10824.4921875 | Square Loss: 7173.60888671875 | Extreme Loss (wt): 3650.883544921875\n",
      "start timestep: 2406 | end timestep: 2605  | time taken:  41.95 sec | Total Loss: 8404.1416015625 | Square Loss: 7473.89697265625 | Extreme Loss (wt): 930.2443237304688\n",
      "start timestep: 2606 | end timestep: 2805  | time taken:  42.88 sec | Total Loss: 10014.078125 | Square Loss: 7278.6064453125 | Extreme Loss (wt): 2735.47119140625\n",
      "start timestep: 2806 | end timestep: 3005  | time taken:  43.12 sec | Total Loss: 11004.82421875 | Square Loss: 7339.10888671875 | Extreme Loss (wt): 3665.7158203125\n",
      "start timestep: 3006 | end timestep: 3205  | time taken:  42.20 sec | Total Loss: 11774.96484375 | Square Loss: 6377.6953125 | Extreme Loss (wt): 5397.27001953125\n",
      "start timestep: 3206 | end timestep: 3405  | time taken:  42.23 sec | Total Loss: 9998.6962890625 | Square Loss: 6369.82177734375 | Extreme Loss (wt): 3628.874267578125\n",
      "start timestep: 3406 | end timestep: 3605  | time taken:  42.23 sec | Total Loss: 5787.02197265625 | Square Loss: 4865.98779296875 | Extreme Loss (wt): 921.0340576171875\n",
      "start timestep: 3606 | end timestep: 3805  | time taken:  42.16 sec | Total Loss: 8299.23046875 | Square Loss: 4633.51513671875 | Extreme Loss (wt): 3665.7158203125\n",
      "start timestep: 3806 | end timestep: 4005  | time taken:  42.10 sec | Total Loss: 7388.24365234375 | Square Loss: 4666.587890625 | Extreme Loss (wt): 2721.65576171875\n",
      "start timestep: 4006 | end timestep: 4205  | time taken:  42.22 sec | Total Loss: 8324.1416015625 | Square Loss: 4658.42626953125 | Extreme Loss (wt): 3665.71533203125\n",
      "start timestep: 4206 | end timestep: 4405  | time taken:  42.13 sec | Total Loss: 6349.44873046875 | Square Loss: 4507.34326171875 | Extreme Loss (wt): 1842.10546875\n",
      "start timestep: 4406 | end timestep: 4605  | time taken:  42.07 sec | Total Loss: 6266.21484375 | Square Loss: 4405.72607421875 | Extreme Loss (wt): 1860.4888916015625\n",
      "start timestep: 4606 | end timestep: 4805  | time taken:  42.96 sec | Total Loss: 4252.86865234375 | Square Loss: 4252.86865234375 | Extreme Loss (wt): 0.0\n",
      "start timestep: 4806 | end timestep: 5005  | time taken:  42.11 sec | Total Loss: 5912.763671875 | Square Loss: 4079.906005859375 | Extreme Loss (wt): 1832.85791015625\n",
      "start timestep: 5006 | end timestep: 5205  | time taken:  42.11 sec | Total Loss: 7830.134765625 | Square Loss: 4166.359375 | Extreme Loss (wt): 3663.775146484375\n",
      "start timestep: 5206 | end timestep: 5405  | time taken:  42.25 sec | Total Loss: 6351.748046875 | Square Loss: 5435.3193359375 | Extreme Loss (wt): 916.4288330078125\n",
      "start timestep: 5406 | end timestep: 5605  | time taken:  42.05 sec | Total Loss: 8419.2421875 | Square Loss: 5683.77099609375 | Extreme Loss (wt): 2735.47119140625\n",
      "start timestep: 5606 | end timestep: 5805  | time taken:  42.17 sec | Total Loss: 10990.974609375 | Square Loss: 5600.28173828125 | Extreme Loss (wt): 5390.6923828125\n",
      "start timestep: 5806 | end timestep: 6005  | time taken:  42.18 sec | Total Loss: 8217.8046875 | Square Loss: 5454.70263671875 | Extreme Loss (wt): 2763.10205078125\n",
      "start timestep: 6006 | end timestep: 6205  | time taken:  42.10 sec | Total Loss: 12111.2890625 | Square Loss: 5728.52294921875 | Extreme Loss (wt): 6382.76611328125\n",
      "start timestep: 6206 | end timestep: 6405  | time taken:  42.12 sec | Total Loss: 8678.119140625 | Square Loss: 5012.40380859375 | Extreme Loss (wt): 3665.71533203125\n",
      "start timestep: 6406 | end timestep: 6605  | time taken:  42.15 sec | Total Loss: 7056.47509765625 | Square Loss: 5223.6171875 | Extreme Loss (wt): 1832.85791015625\n",
      "start timestep: 6606 | end timestep: 6805  | time taken:  42.06 sec | Total Loss: 9653.4521484375 | Square Loss: 5094.3330078125 | Extreme Loss (wt): 4559.119140625\n",
      "start timestep: 6806 | end timestep: 7005  | time taken:  42.17 sec | Total Loss: 10441.40625 | Square Loss: 5053.357421875 | Extreme Loss (wt): 5388.04931640625\n",
      "start timestep: 7006 | end timestep: 7205  | time taken:  42.06 sec | Total Loss: 8565.953125 | Square Loss: 4918.658203125 | Extreme Loss (wt): 3647.294677734375\n",
      "start timestep: 7206 | end timestep: 7405  | time taken:  42.02 sec | Total Loss: 11219.873046875 | Square Loss: 4933.81640625 | Extreme Loss (wt): 6286.05712890625\n",
      "start timestep: 7406 | end timestep: 7605  | time taken:  42.07 sec | Total Loss: 6481.2724609375 | Square Loss: 4648.41455078125 | Extreme Loss (wt): 1832.85791015625\n",
      "start timestep: 7606 | end timestep: 7805  | time taken:  43.59 sec | Total Loss: 10158.7578125 | Square Loss: 4770.6953125 | Extreme Loss (wt): 5388.06201171875\n",
      "start timestep: 7806 | end timestep: 8005  | time taken:  42.50 sec | Total Loss: 7444.55078125 | Square Loss: 4667.6328125 | Extreme Loss (wt): 2776.917724609375\n",
      "start timestep: 8006 | end timestep: 8205  | time taken:  42.31 sec | Total Loss: 9259.595703125 | Square Loss: 4654.42529296875 | Extreme Loss (wt): 4605.17041015625\n",
      "start timestep: 8206 | end timestep: 8405  | time taken:  42.55 sec | Total Loss: 7175.0234375 | Square Loss: 4439.55224609375 | Extreme Loss (wt): 2735.47119140625\n",
      "start timestep: 8406 | end timestep: 8605  | time taken:  42.14 sec | Total Loss: 10031.998046875 | Square Loss: 4487.60400390625 | Extreme Loss (wt): 5544.39453125\n",
      "start timestep: 8606 | end timestep: 8805  | time taken:  47.30 sec | Total Loss: 10645.8671875 | Square Loss: 4295.33740234375 | Extreme Loss (wt): 6350.52978515625\n",
      "start timestep: 8806 | end timestep: 9005  | time taken:  43.43 sec | Total Loss: 5912.36181640625 | Square Loss: 4063.8916015625 | Extreme Loss (wt): 1848.4703369140625\n",
      "start timestep: 9006 | end timestep: 9205  | time taken:  44.14 sec | Total Loss: 8624.845703125 | Square Loss: 4111.77783203125 | Extreme Loss (wt): 4513.0673828125\n"
     ]
    },
    {
     "name": "stdout",
     "output_type": "stream",
     "text": [
      "start timestep: 9206 | end timestep: 9405  | time taken:  43.30 sec | Total Loss: 7612.35107421875 | Square Loss: 3973.62890625 | Extreme Loss (wt): 3638.72216796875\n",
      "start timestep: 9406 | end timestep: 9605  | time taken:  44.62 sec | Total Loss: 7823.7998046875 | Square Loss: 4176.5048828125 | Extreme Loss (wt): 3647.294677734375\n",
      "start timestep: 9606 | end timestep: 9805  | time taken:  42.58 sec | Total Loss: 7106.4306640625 | Square Loss: 4315.69775390625 | Extreme Loss (wt): 2790.733154296875\n",
      "start timestep: 9806 | end timestep: 9998  | time taken:  41.19 sec | Total Loss: 4884.740234375 | Square Loss: 3042.671875 | Extreme Loss (wt): 1842.068115234375\n"
     ]
    }
   ],
   "source": [
    "timeModel.train(x, y, 200, verbose = 2, modelFilepath = 'trainModel3.model')"
   ]
  },
  {
   "cell_type": "code",
   "execution_count": 10,
   "metadata": {},
   "outputs": [],
   "source": [
    "yPred = timeModel.predict(x[0:8000])"
   ]
  },
  {
   "cell_type": "code",
   "execution_count": 11,
   "metadata": {},
   "outputs": [],
   "source": [
    "yTrue = np.squeeze(y[0:8000])"
   ]
  },
  {
   "cell_type": "code",
   "execution_count": 15,
   "metadata": {},
   "outputs": [
    {
     "name": "stdout",
     "output_type": "stream",
     "text": [
      "[100.7739256   87.19823895  83.93593524 108.79749921  99.748695\n",
      " 102.12926466  95.25761378  99.94410437  91.393037   103.50442877\n",
      " 102.76666194 109.03808615 113.58645033  89.66708007 120.58165805\n",
      "  99.24288849 121.17698953 109.69591027  89.0794022  107.16785615]\n"
     ]
    }
   ],
   "source": [
    "print(yTrue[0:20])"
   ]
  },
  {
   "cell_type": "code",
   "execution_count": 16,
   "metadata": {},
   "outputs": [
    {
     "name": "stdout",
     "output_type": "stream",
     "text": [
      "[34.941605 53.143063 45.962994 42.19109  53.523163 50.99562  51.97298\n",
      " 48.300823 50.45727  46.604427 51.890118 51.87164  55.085052 57.15388\n",
      " 46.71019  59.530407 50.851505 60.832462 55.555267 46.618637]\n"
     ]
    }
   ],
   "source": [
    "print(yPred[0:20])"
   ]
  },
  {
   "cell_type": "code",
   "execution_count": 14,
   "metadata": {},
   "outputs": [
    {
     "data": {
      "text/plain": [
       "<tf.Variable 'Variable:0' shape=() dtype=float32, numpy=0.20157441>"
      ]
     },
     "execution_count": 14,
     "metadata": {},
     "output_type": "execute_result"
    }
   ],
   "source": [
    "timeModel.b"
   ]
  }
 ],
 "metadata": {
  "kernelspec": {
   "display_name": "Python 3",
   "language": "python",
   "name": "python3"
  },
  "language_info": {
   "codemirror_mode": {
    "name": "ipython",
    "version": 3
   },
   "file_extension": ".py",
   "mimetype": "text/x-python",
   "name": "python",
   "nbconvert_exporter": "python",
   "pygments_lexer": "ipython3",
   "version": "3.6.8"
  }
 },
 "nbformat": 4,
 "nbformat_minor": 2
}
