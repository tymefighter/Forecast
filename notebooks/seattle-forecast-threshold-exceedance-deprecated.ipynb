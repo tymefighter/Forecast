{
 "cells": [
  {
   "cell_type": "markdown",
   "metadata": {},
   "source": [
    "## Import Packages"
   ]
  },
  {
   "cell_type": "code",
   "execution_count": 1,
   "metadata": {},
   "outputs": [
    {
     "name": "stderr",
     "output_type": "stream",
     "text": [
      "/Users/ahmed/anaconda3/lib/python3.6/importlib/_bootstrap.py:219: RuntimeWarning: numpy.ufunc size changed, may indicate binary incompatibility. Expected 192 from C header, got 216 from PyObject\n",
      "  return f(*args, **kwds)\n",
      "/Users/ahmed/anaconda3/lib/python3.6/importlib/_bootstrap.py:219: RuntimeWarning: numpy.ufunc size changed, may indicate binary incompatibility. Expected 192 from C header, got 216 from PyObject\n",
      "  return f(*args, **kwds)\n"
     ]
    }
   ],
   "source": [
    "import numpy as np\n",
    "import matplotlib.pyplot as plt\n",
    "import pandas as pd\n",
    "import tensorflow as tf\n",
    "\n",
    "import random\n",
    "from pprint import pprint\n",
    "from tqdm import tqdm\n",
    "\n",
    "from tensorflow.keras import Sequential\n",
    "from tensorflow.keras.layers import Dense\n",
    "from tensorflow.keras.losses import MeanSquaredError, BinaryCrossentropy\n",
    "from tensorflow.keras.optimizers import Adam\n",
    "from tensorflow.keras.optimizers.schedules import ExponentialDecay\n",
    "\n",
    "from ts.data.dataset import SeattleRainfall\n",
    "from ts.utility import Utility\n",
    "from ts.experimental import GeneralizedParetoDistribution, GpdEstimate, Pso"
   ]
  },
  {
   "cell_type": "markdown",
   "metadata": {},
   "source": [
    "## Load Dataset"
   ]
  },
  {
   "cell_type": "code",
   "execution_count": 2,
   "metadata": {
    "scrolled": true
   },
   "outputs": [
    {
     "name": "stdout",
     "output_type": "stream",
     "text": [
      "Warning: Your Kaggle API key is readable by other users on this system! To fix this, you can run 'chmod 600 /Users/ahmed/.kaggle/kaggle.json'\n"
     ]
    },
    {
     "data": {
      "text/html": [
       "<div>\n",
       "<style scoped>\n",
       "    .dataframe tbody tr th:only-of-type {\n",
       "        vertical-align: middle;\n",
       "    }\n",
       "\n",
       "    .dataframe tbody tr th {\n",
       "        vertical-align: top;\n",
       "    }\n",
       "\n",
       "    .dataframe thead th {\n",
       "        text-align: right;\n",
       "    }\n",
       "</style>\n",
       "<table border=\"1\" class=\"dataframe\">\n",
       "  <thead>\n",
       "    <tr style=\"text-align: right;\">\n",
       "      <th></th>\n",
       "      <th>DATE</th>\n",
       "      <th>PRCP</th>\n",
       "      <th>TMAX</th>\n",
       "      <th>TMIN</th>\n",
       "      <th>RAIN</th>\n",
       "    </tr>\n",
       "  </thead>\n",
       "  <tbody>\n",
       "    <tr>\n",
       "      <th>0</th>\n",
       "      <td>1948-01-01</td>\n",
       "      <td>0.47</td>\n",
       "      <td>51</td>\n",
       "      <td>42</td>\n",
       "      <td>True</td>\n",
       "    </tr>\n",
       "    <tr>\n",
       "      <th>1</th>\n",
       "      <td>1948-01-02</td>\n",
       "      <td>0.59</td>\n",
       "      <td>45</td>\n",
       "      <td>36</td>\n",
       "      <td>True</td>\n",
       "    </tr>\n",
       "    <tr>\n",
       "      <th>2</th>\n",
       "      <td>1948-01-03</td>\n",
       "      <td>0.42</td>\n",
       "      <td>45</td>\n",
       "      <td>35</td>\n",
       "      <td>True</td>\n",
       "    </tr>\n",
       "    <tr>\n",
       "      <th>3</th>\n",
       "      <td>1948-01-04</td>\n",
       "      <td>0.31</td>\n",
       "      <td>45</td>\n",
       "      <td>34</td>\n",
       "      <td>True</td>\n",
       "    </tr>\n",
       "    <tr>\n",
       "      <th>4</th>\n",
       "      <td>1948-01-05</td>\n",
       "      <td>0.17</td>\n",
       "      <td>45</td>\n",
       "      <td>32</td>\n",
       "      <td>True</td>\n",
       "    </tr>\n",
       "    <tr>\n",
       "      <th>...</th>\n",
       "      <td>...</td>\n",
       "      <td>...</td>\n",
       "      <td>...</td>\n",
       "      <td>...</td>\n",
       "      <td>...</td>\n",
       "    </tr>\n",
       "    <tr>\n",
       "      <th>25546</th>\n",
       "      <td>2017-12-10</td>\n",
       "      <td>0.00</td>\n",
       "      <td>49</td>\n",
       "      <td>34</td>\n",
       "      <td>False</td>\n",
       "    </tr>\n",
       "    <tr>\n",
       "      <th>25547</th>\n",
       "      <td>2017-12-11</td>\n",
       "      <td>0.00</td>\n",
       "      <td>49</td>\n",
       "      <td>29</td>\n",
       "      <td>False</td>\n",
       "    </tr>\n",
       "    <tr>\n",
       "      <th>25548</th>\n",
       "      <td>2017-12-12</td>\n",
       "      <td>0.00</td>\n",
       "      <td>46</td>\n",
       "      <td>32</td>\n",
       "      <td>False</td>\n",
       "    </tr>\n",
       "    <tr>\n",
       "      <th>25549</th>\n",
       "      <td>2017-12-13</td>\n",
       "      <td>0.00</td>\n",
       "      <td>48</td>\n",
       "      <td>34</td>\n",
       "      <td>False</td>\n",
       "    </tr>\n",
       "    <tr>\n",
       "      <th>25550</th>\n",
       "      <td>2017-12-14</td>\n",
       "      <td>0.00</td>\n",
       "      <td>50</td>\n",
       "      <td>36</td>\n",
       "      <td>False</td>\n",
       "    </tr>\n",
       "  </tbody>\n",
       "</table>\n",
       "<p>25551 rows × 5 columns</p>\n",
       "</div>"
      ],
      "text/plain": [
       "            DATE  PRCP  TMAX  TMIN   RAIN\n",
       "0     1948-01-01  0.47    51    42   True\n",
       "1     1948-01-02  0.59    45    36   True\n",
       "2     1948-01-03  0.42    45    35   True\n",
       "3     1948-01-04  0.31    45    34   True\n",
       "4     1948-01-05  0.17    45    32   True\n",
       "...          ...   ...   ...   ...    ...\n",
       "25546 2017-12-10  0.00    49    34  False\n",
       "25547 2017-12-11  0.00    49    29  False\n",
       "25548 2017-12-12  0.00    46    32  False\n",
       "25549 2017-12-13  0.00    48    34  False\n",
       "25550 2017-12-14  0.00    50    36  False\n",
       "\n",
       "[25551 rows x 5 columns]"
      ]
     },
     "execution_count": 2,
     "metadata": {},
     "output_type": "execute_result"
    }
   ],
   "source": [
    "rainfall_df = SeattleRainfall.loadData('/Users/ahmed/Downloads/Datasets/SeattleRainfall')\n",
    "rainfall_df"
   ]
  },
  {
   "cell_type": "markdown",
   "metadata": {},
   "source": [
    "### Get Rainfall Series"
   ]
  },
  {
   "cell_type": "code",
   "execution_count": 3,
   "metadata": {
    "scrolled": true
   },
   "outputs": [
    {
     "name": "stdout",
     "output_type": "stream",
     "text": [
      "Rainfall data: datatype: float64, shape: (25551,), Contains NaN: True\n"
     ]
    }
   ],
   "source": [
    "rainfall_series = rainfall_df['PRCP'].to_numpy()\n",
    "n = rainfall_series.shape[0]\n",
    "\n",
    "print(f'Rainfall data: datatype: {rainfall_series.dtype}, '\n",
    "    + f'shape: {rainfall_series.shape}, '\n",
    "    + f'Contains NaN: {np.isnan(rainfall_series).any()}')"
   ]
  },
  {
   "cell_type": "markdown",
   "metadata": {},
   "source": [
    "### Fill Missing Data"
   ]
  },
  {
   "cell_type": "code",
   "execution_count": 10,
   "metadata": {},
   "outputs": [
    {
     "name": "stdout",
     "output_type": "stream",
     "text": [
      "18415\n",
      "18416\n",
      "21067\n",
      "Contains NaN: False\n"
     ]
    }
   ],
   "source": [
    "nan_indices = list(np.where(np.isnan(rainfall_series))[0])\n",
    "left_length = 5\n",
    "right_length = 5\n",
    "\n",
    "for idx in list(nan_indices):\n",
    "    values = rainfall_series[\n",
    "        max(idx - left_length, 0): min(idx + right_length + 1, n)\n",
    "    ]\n",
    "    \n",
    "    values = values[np.logical_not(np.isnan(values))]\n",
    "    rainfall_series[idx] = values.mean()\n",
    "\n",
    "print(f'Contains NaN: {np.isnan(rainfall_series).any()}')"
   ]
  },
  {
   "cell_type": "markdown",
   "metadata": {},
   "source": [
    "## Train-Test Split"
   ]
  },
  {
   "cell_type": "code",
   "execution_count": 11,
   "metadata": {},
   "outputs": [
    {
     "name": "stdout",
     "output_type": "stream",
     "text": [
      "Length of training series: 22995, Length of test series: 2556\n"
     ]
    }
   ],
   "source": [
    "train_frac = 0.90\n",
    "num_train = int(n * train_frac)\n",
    "\n",
    "print(f'Length of training series: {num_train}, '\n",
    "     + f'Length of test series: {n - num_train}')"
   ]
  },
  {
   "cell_type": "markdown",
   "metadata": {},
   "source": [
    "### Plot Entire Data"
   ]
  },
  {
   "cell_type": "code",
   "execution_count": 12,
   "metadata": {
    "scrolled": false
   },
   "outputs": [
    {
     "data": {
      "image/png": "[encoded data removed]",
      "text/plain": [
       "<Figure size 432x288 with 1 Axes>"
      ]
     },
     "metadata": {
      "needs_background": "light"
     },
     "output_type": "display_data"
    }
   ],
   "source": [
    "plt.plot(rainfall_series)\n",
    "plt.title('Entire Data')\n",
    "plt.show()"
   ]
  },
  {
   "cell_type": "markdown",
   "metadata": {},
   "source": [
    "### All Data Histogram"
   ]
  },
  {
   "cell_type": "code",
   "execution_count": 18,
   "metadata": {},
   "outputs": [
    {
     "data": {
      "image/png": "[encoded data removed]",
      "text/plain": [
       "<Figure size 1152x1152 with 1 Axes>"
      ]
     },
     "metadata": {
      "needs_background": "light"
     },
     "output_type": "display_data"
    }
   ],
   "source": [
    "bin_width = 0.1\n",
    "bins = np.arange(\n",
    "    rainfall_series.min(), rainfall_series.max() + 1, \n",
    "    bin_width\n",
    ")\n",
    "\n",
    "plt.figure(figsize=(16, 16))\n",
    "plt.hist(rainfall_series, bins)\n",
    "plt.xlabel('Rainfall Values')\n",
    "plt.ylabel('Count')\n",
    "plt.title('Rainfall Values Histogram Plot')\n",
    "plt.show()"
   ]
  },
  {
   "cell_type": "markdown",
   "metadata": {},
   "source": [
    "### Data histogram of values above a lower bound"
   ]
  },
  {
   "cell_type": "code",
   "execution_count": 22,
   "metadata": {},
   "outputs": [
    {
     "data": {
      "image/png": "[encoded data removed]",
      "text/plain": [
       "<Figure size 864x432 with 1 Axes>"
      ]
     },
     "metadata": {
      "needs_background": "light"
     },
     "output_type": "display_data"
    }
   ],
   "source": [
    "lower_bound = 0.8\n",
    "\n",
    "bounded_rainfall_series = \\\n",
    "    rainfall_series[rainfall_series > lower_bound]\n",
    "\n",
    "bin_width = 0.1\n",
    "bins = np.arange(\n",
    "    bounded_rainfall_series.min(), \n",
    "    bounded_rainfall_series.max() + 1, \n",
    "    bin_width\n",
    ")\n",
    "\n",
    "plt.figure(figsize=(12, 6))\n",
    "plt.hist(bounded_rainfall_series, bins)\n",
    "plt.xlabel('Rainfall Values')\n",
    "plt.ylabel('Count')\n",
    "plt.title('Rainfall Values Histogram Plot')\n",
    "plt.show()"
   ]
  },
  {
   "cell_type": "markdown",
   "metadata": {},
   "source": [
    "### Complementary Cumulative Data of values above a lower bound"
   ]
  },
  {
   "cell_type": "code",
   "execution_count": 23,
   "metadata": {},
   "outputs": [
    {
     "data": {
      "image/png": "[encoded data removed]",
      "text/plain": [
       "<Figure size 1152x576 with 1 Axes>"
      ]
     },
     "metadata": {
      "needs_background": "light"
     },
     "output_type": "display_data"
    }
   ],
   "source": [
    "lower_bound = 0.8\n",
    "\n",
    "bounded_count = dict()\n",
    "\n",
    "for rain_value in rainfall_series:\n",
    "    \n",
    "    if rain_value <= lower_bound:\n",
    "        continue\n",
    "    \n",
    "    if rain_value not in bounded_count:\n",
    "        bounded_count[rain_value] = 1\n",
    "    else:\n",
    "        bounded_count[rain_value] += 1\n",
    "        \n",
    "rainfall_count = list(bounded_count.items())\n",
    "rainfall_count.sort(key=lambda rain_count: rain_count[0])\n",
    "rainfall_arr, count_arr = list(zip(*rainfall_count))\n",
    "count_cusum_rev = [0] * len(count_arr)\n",
    "\n",
    "count_cusum_rev[-1] = count_arr[-1]\n",
    "for i in range(len(count_cusum_rev) - 2, -1, -1):\n",
    "    count_cusum_rev[i] = count_cusum_rev[i + 1] + count_arr[i]\n",
    "\n",
    "plt.figure(figsize=(16, 8))\n",
    "plt.plot(rainfall_arr, count_cusum_rev)\n",
    "plt.xlabel('Rainfall Values')\n",
    "plt.ylabel('Number of Values with equal or higher value')\n",
    "plt.title('Complementary Cumulative Plot')\n",
    "plt.show()"
   ]
  },
  {
   "cell_type": "markdown",
   "metadata": {},
   "source": [
    "## Computing Threshold Exceedances"
   ]
  },
  {
   "cell_type": "code",
   "execution_count": 24,
   "metadata": {},
   "outputs": [
    {
     "name": "stdout",
     "output_type": "stream",
     "text": [
      "Exceedances Series: datatype: float64, shape: (524,)\n"
     ]
    }
   ],
   "source": [
    "threshold = 0.8 # Rainfall in inches\n",
    "\n",
    "exceed_series = []\n",
    "\n",
    "for i in range(num_train):\n",
    "    \n",
    "    if rainfall_series[i] > threshold:\n",
    "        exceed_series.append(rainfall_series[i] - threshold)\n",
    "        \n",
    "exceed_series = np.array(exceed_series)\n",
    "\n",
    "print(f'Exceedances Series: datatype: {exceed_series.dtype}, '\n",
    "    + f'shape: {exceed_series.shape}')"
   ]
  },
  {
   "cell_type": "markdown",
   "metadata": {},
   "source": [
    "# Parameter Estimation of GEV fitted to Remainder Series"
   ]
  },
  {
   "cell_type": "code",
   "execution_count": 25,
   "metadata": {
    "scrolled": true
   },
   "outputs": [
    {
     "name": "stdout",
     "output_type": "stream",
     "text": [
      "Shape Parameter: 0.12482373448236281 \n",
      "Scale Parameter: 0.35479727096211466 \n",
      "Log Likelihood: -46.43426596333518\n"
     ]
    },
    {
     "data": {
      "image/png": "[encoded data removed]",
      "text/plain": [
       "<Figure size 432x288 with 1 Axes>"
      ]
     },
     "metadata": {
      "needs_background": "light"
     },
     "output_type": "display_data"
    }
   ],
   "source": [
    "params, max_log_likelihood, max_log_likelihood_vals = GpdEstimate.psoMethod(\n",
    "    exceed_series,\n",
    "    Pso.computeInitialPos([(-10, 10), (5, 30)], 200),\n",
    "    numIterations=120\n",
    ")\n",
    "\n",
    "shape, scale = params\n",
    "print(f'Shape Parameter: {shape} \\n'\n",
    "    + f'Scale Parameter: {scale} \\n'\n",
    "    + f'Log Likelihood: {max_log_likelihood}')\n",
    "\n",
    "plt.plot(max_log_likelihood_vals)\n",
    "plt.title('Convergence Plot')\n",
    "plt.xlabel('Num. Iterations')\n",
    "plt.ylabel('Log Likelihood Values')\n",
    "plt.show()"
   ]
  },
  {
   "cell_type": "code",
   "execution_count": 26,
   "metadata": {},
   "outputs": [],
   "source": [
    "gpd_dist = GeneralizedParetoDistribution(*tuple(params))"
   ]
  },
  {
   "cell_type": "code",
   "execution_count": 29,
   "metadata": {},
   "outputs": [
    {
     "data": {
      "image/png": "[encoded data removed]",
      "text/plain": [
       "<Figure size 432x288 with 1 Axes>"
      ]
     },
     "metadata": {
      "needs_background": "light"
     },
     "output_type": "display_data"
    },
    {
     "data": {
      "image/png": "[encoded data removed]",
      "text/plain": [
       "<Figure size 432x288 with 1 Axes>"
      ]
     },
     "metadata": {
      "needs_background": "light"
     },
     "output_type": "display_data"
    }
   ],
   "source": [
    "x = np.linspace(0, 10, 10000)\n",
    "\n",
    "plt.plot(x, gpd_dist.pdf(x))\n",
    "plt.title('PDF')\n",
    "plt.show()\n",
    "\n",
    "plt.plot(x, gpd_dist.cdf(x))\n",
    "plt.title('CDF')\n",
    "plt.show()"
   ]
  },
  {
   "cell_type": "markdown",
   "metadata": {},
   "source": [
    "# Algorithm"
   ]
  },
  {
   "cell_type": "markdown",
   "metadata": {},
   "source": [
    "## Part 1: Extreme Value CDF Prediction Algorithm"
   ]
  },
  {
   "cell_type": "markdown",
   "metadata": {},
   "source": [
    "### Build Model Architecture"
   ]
  },
  {
   "cell_type": "code",
   "execution_count": 30,
   "metadata": {},
   "outputs": [],
   "source": [
    "lag = 50\n",
    "\n",
    "model_extreme = Sequential([\n",
    "    Dense(16, activation='relu'),\n",
    "    Dense(32, activation='relu'),\n",
    "    Dense(64, activation='relu'),\n",
    "    Dense(32, activation='relu'),\n",
    "    Dense(16, activation='relu'),\n",
    "    Dense(1, activation='sigmoid'),\n",
    "])\n",
    "\n",
    "model_extreme.build(input_shape=(None, lag))\n",
    "model_extreme.compile(\n",
    "    optimizer=Adam(\n",
    "        ExponentialDecay(\n",
    "            0.01, 50, 0.9\n",
    "        )\n",
    "    ),\n",
    "    loss=tf.losses.MeanSquaredError()\n",
    ")"
   ]
  },
  {
   "cell_type": "markdown",
   "metadata": {},
   "source": [
    "### Build Training Data"
   ]
  },
  {
   "cell_type": "code",
   "execution_count": 31,
   "metadata": {
    "scrolled": true
   },
   "outputs": [
    {
     "name": "stdout",
     "output_type": "stream",
     "text": [
      "Input Data: datatype: float64, shape: (523, 50)\n",
      "Output Data: datatype: float64, shape: (523, 1)\n"
     ]
    }
   ],
   "source": [
    "input_data = []\n",
    "output_data = []\n",
    "\n",
    "for i in range(lag, num_train):\n",
    "    \n",
    "    if rainfall_series[i] > threshold:\n",
    "        input_data.append(rainfall_series[i - lag: i])\n",
    "        \n",
    "        exceedance = rainfall_series[i] - threshold\n",
    "        output_data.append(gpd_dist.cdf(exceedance))\n",
    "\n",
    "input_data = np.array(input_data)\n",
    "output_data = np.expand_dims(np.array(output_data), axis=1)\n",
    "\n",
    "print(f'Input Data: datatype: {input_data.dtype}, shape: {input_data.shape}')\n",
    "print(f'Output Data: datatype: {output_data.dtype}, shape: {output_data.shape}')"
   ]
  },
  {
   "cell_type": "code",
   "execution_count": 32,
   "metadata": {
    "scrolled": true
   },
   "outputs": [
    {
     "name": "stdout",
     "output_type": "stream",
     "text": [
      "First few inputs:\n",
      "array([[0.44, 0.41, 0.04, 0.12, 0.74, 0.01, 0.  , 0.  , 0.  , 0.  , 0.  ,\n",
      "        0.  , 0.  , 0.  , 0.  , 0.  , 0.21, 0.  , 0.1 , 0.  , 0.  , 0.  ,\n",
      "        0.  , 0.22, 0.03, 0.21, 0.03, 0.  , 0.2 , 0.14, 0.  , 0.  , 0.06,\n",
      "        0.56, 0.  , 0.  , 0.  , 0.  , 0.  , 0.5 , 0.35, 0.84, 0.13, 0.01,\n",
      "        0.  , 0.74, 0.46, 0.11, 0.  , 0.05],\n",
      "       [0.21, 0.03, 0.  , 0.2 , 0.14, 0.  , 0.  , 0.06, 0.56, 0.  , 0.  ,\n",
      "        0.  , 0.  , 0.  , 0.5 , 0.35, 0.84, 0.13, 0.01, 0.  , 0.74, 0.46,\n",
      "        0.11, 0.  , 0.05, 0.98, 0.09, 0.  , 0.  , 0.  , 0.19, 0.  , 0.  ,\n",
      "        0.  , 0.  , 0.06, 0.16, 0.11, 0.  , 0.  , 0.08, 0.06, 0.02, 0.  ,\n",
      "        0.  , 0.  , 0.01, 0.13, 0.  , 0.06],\n",
      "       [0.  , 0.11, 0.54, 0.18, 0.  , 0.03, 0.01, 0.  , 0.33, 0.  , 0.37,\n",
      "        0.  , 0.  , 0.  , 0.09, 0.24, 0.02, 0.7 , 0.02, 0.  , 0.  , 0.05,\n",
      "        0.  , 0.16, 0.01, 0.08, 0.59, 0.  , 0.56, 0.27, 0.  , 0.02, 0.  ,\n",
      "        0.26, 0.  , 0.39, 0.14, 0.03, 0.  , 0.29, 0.  , 0.01, 0.1 , 0.  ,\n",
      "        0.  , 0.  , 0.  , 0.  , 0.  , 0.  ],\n",
      "       [0.11, 0.54, 0.18, 0.  , 0.03, 0.01, 0.  , 0.33, 0.  , 0.37, 0.  ,\n",
      "        0.  , 0.  , 0.09, 0.24, 0.02, 0.7 , 0.02, 0.  , 0.  , 0.05, 0.  ,\n",
      "        0.16, 0.01, 0.08, 0.59, 0.  , 0.56, 0.27, 0.  , 0.02, 0.  , 0.26,\n",
      "        0.  , 0.39, 0.14, 0.03, 0.  , 0.29, 0.  , 0.01, 0.1 , 0.  , 0.  ,\n",
      "        0.  , 0.  , 0.  , 0.  , 0.  , 0.83],\n",
      "       [0.24, 0.02, 0.7 , 0.02, 0.  , 0.  , 0.05, 0.  , 0.16, 0.01, 0.08,\n",
      "        0.59, 0.  , 0.56, 0.27, 0.  , 0.02, 0.  , 0.26, 0.  , 0.39, 0.14,\n",
      "        0.03, 0.  , 0.29, 0.  , 0.01, 0.1 , 0.  , 0.  , 0.  , 0.  , 0.  ,\n",
      "        0.  , 0.  , 0.83, 0.88, 0.3 , 0.  , 0.  , 0.  , 0.  , 0.01, 0.  ,\n",
      "        0.  , 0.  , 0.  , 0.  , 0.  , 0.  ]])\n",
      "\n",
      "First few outputs:\n",
      "array([[0.38854602],\n",
      "       [0.94499834],\n",
      "       [0.08067192],\n",
      "       [0.19937777],\n",
      "       [0.28199345]])\n",
      "\n",
      "Last few inputs:\n",
      "array([[0.  , 0.  , 0.  , 0.14, 0.6 , 1.49, 0.78, 0.36, 0.02, 0.  , 0.  ,\n",
      "        0.26, 0.  , 0.  , 0.39, 0.03, 0.  , 0.  , 0.  , 0.  , 0.  , 0.  ,\n",
      "        0.  , 0.  , 0.  , 0.  , 0.12, 1.21, 0.74, 0.  , 0.  , 0.  , 0.12,\n",
      "        0.  , 0.  , 0.  , 0.  , 0.  , 0.  , 0.  , 0.05, 0.38, 0.72, 1.08,\n",
      "        0.19, 0.  , 0.07, 0.01, 0.39, 0.16],\n",
      "       [0.  , 0.  , 0.05, 0.38, 0.72, 1.08, 0.19, 0.  , 0.07, 0.01, 0.39,\n",
      "        0.16, 1.56, 0.02, 0.  , 0.  , 0.17, 0.7 , 0.06, 0.  , 0.22, 0.  ,\n",
      "        0.13, 0.  , 0.12, 0.27, 0.14, 0.  , 0.17, 0.2 , 0.06, 0.  , 0.01,\n",
      "        0.15, 0.  , 0.  , 0.01, 0.29, 0.01, 0.02, 0.1 , 0.64, 0.  , 0.  ,\n",
      "        0.  , 0.  , 0.  , 0.01, 0.35, 0.51],\n",
      "       [0.05, 0.38, 0.72, 1.08, 0.19, 0.  , 0.07, 0.01, 0.39, 0.16, 1.56,\n",
      "        0.02, 0.  , 0.  , 0.17, 0.7 , 0.06, 0.  , 0.22, 0.  , 0.13, 0.  ,\n",
      "        0.12, 0.27, 0.14, 0.  , 0.17, 0.2 , 0.06, 0.  , 0.01, 0.15, 0.  ,\n",
      "        0.  , 0.01, 0.29, 0.01, 0.02, 0.1 , 0.64, 0.  , 0.  , 0.  , 0.  ,\n",
      "        0.  , 0.01, 0.35, 0.51, 0.89, 0.  ],\n",
      "       [0.38, 0.72, 1.08, 0.19, 0.  , 0.07, 0.01, 0.39, 0.16, 1.56, 0.02,\n",
      "        0.  , 0.  , 0.17, 0.7 , 0.06, 0.  , 0.22, 0.  , 0.13, 0.  , 0.12,\n",
      "        0.27, 0.14, 0.  , 0.17, 0.2 , 0.06, 0.  , 0.01, 0.15, 0.  , 0.  ,\n",
      "        0.01, 0.29, 0.01, 0.02, 0.1 , 0.64, 0.  , 0.  , 0.  , 0.  , 0.  ,\n",
      "        0.01, 0.35, 0.51, 0.89, 0.  , 1.42],\n",
      "       [1.08, 0.19, 0.  , 0.07, 0.01, 0.39, 0.16, 1.56, 0.02, 0.  , 0.  ,\n",
      "        0.17, 0.7 , 0.06, 0.  , 0.22, 0.  , 0.13, 0.  , 0.12, 0.27, 0.14,\n",
      "        0.  , 0.17, 0.2 , 0.06, 0.  , 0.01, 0.15, 0.  , 0.  , 0.01, 0.29,\n",
      "        0.01, 0.02, 0.1 , 0.64, 0.  , 0.  , 0.  , 0.  , 0.  , 0.01, 0.35,\n",
      "        0.51, 0.89, 0.  , 1.42, 2.19, 0.46]])\n",
      "\n",
      "Last few outputs:\n",
      "array([[0.85017647],\n",
      "       [0.22099111],\n",
      "       [0.79417763],\n",
      "       [0.95880646],\n",
      "       [0.05462426]])\n",
      "\n"
     ]
    }
   ],
   "source": [
    "# First Few Data Points\n",
    "first_few = 5\n",
    "\n",
    "print('First few inputs:')\n",
    "pprint(input_data[:first_few])\n",
    "print()\n",
    "\n",
    "print(f'First few outputs:')\n",
    "pprint(output_data[:first_few])\n",
    "print()\n",
    "\n",
    "# Last Few Data Points\n",
    "last_few = 5\n",
    "\n",
    "print('Last few inputs:')\n",
    "pprint(input_data[-first_few:])\n",
    "print()\n",
    "\n",
    "print(f'Last few outputs:')\n",
    "pprint(output_data[-first_few:])\n",
    "print()"
   ]
  },
  {
   "cell_type": "markdown",
   "metadata": {},
   "source": [
    "### Train the Model"
   ]
  },
  {
   "cell_type": "code",
   "execution_count": 33,
   "metadata": {
    "scrolled": true
   },
   "outputs": [
    {
     "name": "stdout",
     "output_type": "stream",
     "text": [
      "Epoch 1/100\n",
      "17/17 [==============================] - 0s 918us/step - loss: 0.0822\n",
      "Epoch 2/100\n",
      "17/17 [==============================] - 0s 1ms/step - loss: 0.0811\n",
      "Epoch 3/100\n",
      "17/17 [==============================] - 0s 1ms/step - loss: 0.0799\n",
      "Epoch 4/100\n",
      "17/17 [==============================] - 0s 1ms/step - loss: 0.0764\n",
      "Epoch 5/100\n",
      "17/17 [==============================] - 0s 2ms/step - loss: 0.0698\n",
      "Epoch 6/100\n",
      "17/17 [==============================] - 0s 1ms/step - loss: 0.0654\n",
      "Epoch 7/100\n",
      "17/17 [==============================] - 0s 1ms/step - loss: 0.0572\n",
      "Epoch 8/100\n",
      "17/17 [==============================] - 0s 1ms/step - loss: 0.0516\n",
      "Epoch 9/100\n",
      "17/17 [==============================] - 0s 2ms/step - loss: 0.0486\n",
      "Epoch 10/100\n",
      "17/17 [==============================] - 0s 1ms/step - loss: 0.0424\n",
      "Epoch 11/100\n",
      "17/17 [==============================] - 0s 1ms/step - loss: 0.0363\n",
      "Epoch 12/100\n",
      "17/17 [==============================] - 0s 2ms/step - loss: 0.0342\n",
      "Epoch 13/100\n",
      "17/17 [==============================] - 0s 1ms/step - loss: 0.0295\n",
      "Epoch 14/100\n",
      "17/17 [==============================] - 0s 1ms/step - loss: 0.0283\n",
      "Epoch 15/100\n",
      "17/17 [==============================] - 0s 1ms/step - loss: 0.0259\n",
      "Epoch 16/100\n",
      "17/17 [==============================] - 0s 1ms/step - loss: 0.0234\n",
      "Epoch 17/100\n",
      "17/17 [==============================] - 0s 1ms/step - loss: 0.0216\n",
      "Epoch 18/100\n",
      "17/17 [==============================] - 0s 1ms/step - loss: 0.0198\n",
      "Epoch 19/100\n",
      "17/17 [==============================] - 0s 1ms/step - loss: 0.0180\n",
      "Epoch 20/100\n",
      "17/17 [==============================] - 0s 1ms/step - loss: 0.0178\n",
      "Epoch 21/100\n",
      "17/17 [==============================] - 0s 1ms/step - loss: 0.0163\n",
      "Epoch 22/100\n",
      "17/17 [==============================] - 0s 1ms/step - loss: 0.0149\n",
      "Epoch 23/100\n",
      "17/17 [==============================] - 0s 1ms/step - loss: 0.0137\n",
      "Epoch 24/100\n",
      "17/17 [==============================] - 0s 1ms/step - loss: 0.0123\n",
      "Epoch 25/100\n",
      "17/17 [==============================] - 0s 1ms/step - loss: 0.0110\n",
      "Epoch 26/100\n",
      "17/17 [==============================] - 0s 1ms/step - loss: 0.0103\n",
      "Epoch 27/100\n",
      "17/17 [==============================] - 0s 1ms/step - loss: 0.0094\n",
      "Epoch 28/100\n",
      "17/17 [==============================] - 0s 1ms/step - loss: 0.0088\n",
      "Epoch 29/100\n",
      "17/17 [==============================] - 0s 1ms/step - loss: 0.0089\n",
      "Epoch 30/100\n",
      "17/17 [==============================] - 0s 1ms/step - loss: 0.0083\n",
      "Epoch 31/100\n",
      "17/17 [==============================] - 0s 1ms/step - loss: 0.0073\n",
      "Epoch 32/100\n",
      "17/17 [==============================] - 0s 1ms/step - loss: 0.0070\n",
      "Epoch 33/100\n",
      "17/17 [==============================] - 0s 1ms/step - loss: 0.0065\n",
      "Epoch 34/100\n",
      "17/17 [==============================] - 0s 1ms/step - loss: 0.0060\n",
      "Epoch 35/100\n",
      "17/17 [==============================] - 0s 1ms/step - loss: 0.0058\n",
      "Epoch 36/100\n",
      "17/17 [==============================] - 0s 1ms/step - loss: 0.0056\n",
      "Epoch 37/100\n",
      "17/17 [==============================] - 0s 1ms/step - loss: 0.0055\n",
      "Epoch 38/100\n",
      "17/17 [==============================] - 0s 1ms/step - loss: 0.0056\n",
      "Epoch 39/100\n",
      "17/17 [==============================] - 0s 1ms/step - loss: 0.0053\n",
      "Epoch 40/100\n",
      "17/17 [==============================] - 0s 1ms/step - loss: 0.0049\n",
      "Epoch 41/100\n",
      "17/17 [==============================] - 0s 1ms/step - loss: 0.0044\n",
      "Epoch 42/100\n",
      "17/17 [==============================] - 0s 1ms/step - loss: 0.0043\n",
      "Epoch 43/100\n",
      "17/17 [==============================] - 0s 1ms/step - loss: 0.0042\n",
      "Epoch 44/100\n",
      "17/17 [==============================] - 0s 1ms/step - loss: 0.0041\n",
      "Epoch 45/100\n",
      "17/17 [==============================] - 0s 1ms/step - loss: 0.0039\n",
      "Epoch 46/100\n",
      "17/17 [==============================] - 0s 1ms/step - loss: 0.0035\n",
      "Epoch 47/100\n",
      "17/17 [==============================] - 0s 2ms/step - loss: 0.0034\n",
      "Epoch 48/100\n",
      "17/17 [==============================] - 0s 1ms/step - loss: 0.0032\n",
      "Epoch 49/100\n",
      "17/17 [==============================] - 0s 1ms/step - loss: 0.0032\n",
      "Epoch 50/100\n",
      "17/17 [==============================] - 0s 1ms/step - loss: 0.0029\n",
      "Epoch 51/100\n",
      "17/17 [==============================] - 0s 1ms/step - loss: 0.0029\n",
      "Epoch 52/100\n",
      "17/17 [==============================] - 0s 1ms/step - loss: 0.0028\n",
      "Epoch 53/100\n",
      "17/17 [==============================] - 0s 1ms/step - loss: 0.0025\n",
      "Epoch 54/100\n",
      "17/17 [==============================] - 0s 990us/step - loss: 0.0023\n",
      "Epoch 55/100\n",
      "17/17 [==============================] - 0s 1ms/step - loss: 0.0023\n",
      "Epoch 56/100\n",
      "17/17 [==============================] - 0s 1ms/step - loss: 0.0023\n",
      "Epoch 57/100\n",
      "17/17 [==============================] - 0s 1ms/step - loss: 0.0021\n",
      "Epoch 58/100\n",
      "17/17 [==============================] - 0s 1ms/step - loss: 0.0021\n",
      "Epoch 59/100\n",
      "17/17 [==============================] - 0s 1ms/step - loss: 0.0020\n",
      "Epoch 60/100\n",
      "17/17 [==============================] - 0s 1ms/step - loss: 0.0019\n",
      "Epoch 61/100\n",
      "17/17 [==============================] - 0s 2ms/step - loss: 0.0019\n",
      "Epoch 62/100\n",
      "17/17 [==============================] - 0s 2ms/step - loss: 0.0019\n",
      "Epoch 63/100\n",
      "17/17 [==============================] - 0s 1ms/step - loss: 0.0018\n",
      "Epoch 64/100\n",
      "17/17 [==============================] - 0s 1ms/step - loss: 0.0018\n",
      "Epoch 65/100\n",
      "17/17 [==============================] - 0s 1ms/step - loss: 0.0017\n",
      "Epoch 66/100\n",
      "17/17 [==============================] - 0s 2ms/step - loss: 0.0018\n",
      "Epoch 67/100\n",
      "17/17 [==============================] - 0s 1ms/step - loss: 0.0017\n",
      "Epoch 68/100\n",
      "17/17 [==============================] - 0s 1ms/step - loss: 0.0017\n",
      "Epoch 69/100\n",
      "17/17 [==============================] - 0s 1ms/step - loss: 0.0016\n",
      "Epoch 70/100\n",
      "17/17 [==============================] - 0s 1ms/step - loss: 0.0016\n",
      "Epoch 71/100\n",
      "17/17 [==============================] - 0s 1ms/step - loss: 0.0015\n",
      "Epoch 72/100\n",
      "17/17 [==============================] - 0s 1ms/step - loss: 0.0015\n",
      "Epoch 73/100\n",
      "17/17 [==============================] - 0s 1ms/step - loss: 0.0015\n",
      "Epoch 74/100\n",
      "17/17 [==============================] - 0s 1ms/step - loss: 0.0015\n",
      "Epoch 75/100\n",
      "17/17 [==============================] - 0s 1ms/step - loss: 0.0014\n",
      "Epoch 76/100\n",
      "17/17 [==============================] - 0s 1ms/step - loss: 0.0014\n",
      "Epoch 77/100\n",
      "17/17 [==============================] - 0s 1ms/step - loss: 0.0014\n",
      "Epoch 78/100\n",
      "17/17 [==============================] - 0s 1ms/step - loss: 0.0014\n",
      "Epoch 79/100\n",
      "17/17 [==============================] - 0s 1ms/step - loss: 0.0014\n",
      "Epoch 80/100\n",
      "17/17 [==============================] - 0s 1ms/step - loss: 0.0014\n",
      "Epoch 81/100\n",
      "17/17 [==============================] - 0s 1ms/step - loss: 0.0014\n",
      "Epoch 82/100\n",
      "17/17 [==============================] - 0s 1ms/step - loss: 0.0014\n",
      "Epoch 83/100\n",
      "17/17 [==============================] - 0s 1ms/step - loss: 0.0013\n",
      "Epoch 84/100\n",
      "17/17 [==============================] - 0s 2ms/step - loss: 0.0013\n",
      "Epoch 85/100\n",
      "17/17 [==============================] - 0s 1ms/step - loss: 0.0013\n",
      "Epoch 86/100\n",
      "17/17 [==============================] - 0s 1ms/step - loss: 0.0013\n",
      "Epoch 87/100\n",
      "17/17 [==============================] - 0s 1ms/step - loss: 0.0013\n",
      "Epoch 88/100\n",
      "17/17 [==============================] - 0s 1ms/step - loss: 0.0013\n",
      "Epoch 89/100\n",
      "17/17 [==============================] - 0s 1ms/step - loss: 0.0013\n",
      "Epoch 90/100\n",
      "17/17 [==============================] - 0s 1ms/step - loss: 0.0013\n",
      "Epoch 91/100\n",
      "17/17 [==============================] - 0s 1ms/step - loss: 0.0012\n",
      "Epoch 92/100\n",
      "17/17 [==============================] - 0s 1ms/step - loss: 0.0012\n",
      "Epoch 93/100\n",
      "17/17 [==============================] - 0s 1ms/step - loss: 0.0012\n",
      "Epoch 94/100\n",
      "17/17 [==============================] - 0s 1ms/step - loss: 0.0012\n",
      "Epoch 95/100\n",
      "17/17 [==============================] - 0s 1ms/step - loss: 0.0012\n",
      "Epoch 96/100\n",
      "17/17 [==============================] - 0s 2ms/step - loss: 0.0012\n",
      "Epoch 97/100\n",
      "17/17 [==============================] - 0s 2ms/step - loss: 0.0012\n",
      "Epoch 98/100\n",
      "17/17 [==============================] - 0s 1ms/step - loss: 0.0012\n",
      "Epoch 99/100\n",
      "17/17 [==============================] - 0s 1ms/step - loss: 0.0012\n",
      "Epoch 100/100\n",
      "17/17 [==============================] - 0s 1ms/step - loss: 0.0012\n"
     ]
    },
    {
     "data": {
      "text/plain": [
       "[<matplotlib.lines.Line2D at 0x7feb920cd630>]"
      ]
     },
     "execution_count": 33,
     "metadata": {},
     "output_type": "execute_result"
    },
    {
     "data": {
      "image/png": "[encoded data removed]",
      "text/plain": [
       "<Figure size 432x288 with 1 Axes>"
      ]
     },
     "metadata": {
      "needs_background": "light"
     },
     "output_type": "display_data"
    }
   ],
   "source": [
    "history = model_extreme.fit(input_data, output_data, epochs=100)\n",
    "plt.plot(history.history['loss'])"
   ]
  },
  {
   "cell_type": "markdown",
   "metadata": {},
   "source": [
    "### Compute Test Loss"
   ]
  },
  {
   "cell_type": "code",
   "execution_count": 34,
   "metadata": {
    "scrolled": true
   },
   "outputs": [
    {
     "name": "stdout",
     "output_type": "stream",
     "text": [
      "Input Test Data: datatype: float64, shape: (84, 50)\n",
      "Output Test Data: datatype: float64, shape: (84, 1)\n",
      "\n",
      "Test Loss (CDF): 0.18678978085517883\n",
      "Test Loss (Actual): 0.28385594487190247\n"
     ]
    }
   ],
   "source": [
    "input_data = []\n",
    "output_data = []\n",
    "output_actual = []\n",
    "\n",
    "for i in range(max(num_train, lag), n):\n",
    "    \n",
    "    if rainfall_series[i] > threshold:\n",
    "        input_data.append(rainfall_series[i - lag: i])\n",
    "        \n",
    "        exceedance = rainfall_series[i] - threshold\n",
    "        output_data.append(gpd_dist.cdf(exceedance))\n",
    "        \n",
    "        output_actual.append(rainfall_series[i])\n",
    "\n",
    "input_data = np.array(input_data)\n",
    "output_data = np.expand_dims(np.array(output_data), axis=1)\n",
    "output_actual = np.expand_dims(np.array(output_actual), axis=1)\n",
    "\n",
    "print(f'Input Test Data: datatype: {input_data.dtype}, shape: {input_data.shape}')\n",
    "print(f'Output Test Data: datatype: {output_data.dtype}, shape: {output_data.shape}')\n",
    "print('')\n",
    "\n",
    "true_val = output_data\n",
    "pred_val = model_extreme.predict(input_data)\n",
    "pred_actual = threshold + gpd_dist.computeQuantile(pred_val)\n",
    "\n",
    "test_loss_cdf = MeanSquaredError()(true_val, pred_val)\n",
    "print(f'Test Loss (CDF): {test_loss_cdf}')\n",
    "\n",
    "test_loss = MeanSquaredError()(output_actual, pred_actual)\n",
    "print(f'Test Loss (Actual): {test_loss}')"
   ]
  },
  {
   "cell_type": "markdown",
   "metadata": {},
   "source": [
    "## Part 2: Extreme Value Detection (Classification) Algorithm"
   ]
  },
  {
   "cell_type": "code",
   "execution_count": 35,
   "metadata": {},
   "outputs": [],
   "source": [
    "class MlpEnsemble:\n",
    "    \n",
    "    def get_model(self, lag):\n",
    "        \n",
    "        model = Sequential([\n",
    "            Dense(16, activation='relu'),\n",
    "            Dense(32, activation='relu'),\n",
    "            Dense(64, activation='relu'),\n",
    "            Dense(128, activation='relu'),\n",
    "            Dense(64, activation='relu'),\n",
    "            Dense(32, activation='relu'),\n",
    "            Dense(16, activation='relu'),\n",
    "            Dense(1, activation='linear'),\n",
    "        ])\n",
    "        \n",
    "        model.build(input_shape=(None, lag))\n",
    "        model.compile(\n",
    "            optimizer=Adam(\n",
    "                ExponentialDecay(\n",
    "                    1e-3, 50, 0.9\n",
    "                )\n",
    "            ),\n",
    "            loss=BinaryCrossentropy(from_logits=True)\n",
    "        )\n",
    "        \n",
    "        return model\n",
    "    \n",
    "    def __init__(self, lag, num_models=10):\n",
    "        \n",
    "        self.models = [self.get_model(lag) for _ in range(num_models)]\n",
    "        \n",
    "    def train(self, input_data, output_data, each_model_epochs):\n",
    "        \n",
    "        pos_data = []\n",
    "        neg_data = []\n",
    "        \n",
    "        for i in range(input_data.shape[0]):\n",
    "            \n",
    "            if output_data[i, 0] == 1:\n",
    "                pos_data.append((input_data[i], output_data[i]))\n",
    "                \n",
    "            else:\n",
    "                neg_data.append((input_data[i], output_data[i]))\n",
    "        \n",
    "        assert len(pos_data) < len(neg_data)\n",
    "        \n",
    "        losses = np.zeros(each_model_epochs)\n",
    "        \n",
    "        for model in self.models:\n",
    "            \n",
    "            data = pos_data.copy()\n",
    "            data.extend(random.sample(neg_data, k=len(pos_data)))\n",
    "            \n",
    "            input_data, output_data = [], []\n",
    "            for inp, out in data:\n",
    "                input_data.append(inp)\n",
    "                output_data.append(out)\n",
    "                \n",
    "            input_data = np.array(input_data)\n",
    "            output_data = np.array(output_data)\n",
    "        \n",
    "            history = model.fit(\n",
    "                input_data, \n",
    "                output_data, \n",
    "                epochs=each_model_epochs,\n",
    "                verbose=0\n",
    "            )\n",
    "            \n",
    "            losses += np.array(history.history['loss'])\n",
    "                \n",
    "        losses /= len(self.models)\n",
    "        return losses\n",
    "    \n",
    "    def predict(self, input_data):\n",
    "        \n",
    "        num_pos = np.zeros((input_data.shape[0], 1), dtype=np.int64)\n",
    "        num_neg = np.zeros((input_data.shape[0], 1), dtype=np.int64)\n",
    "        \n",
    "        for model in self.models:\n",
    "            \n",
    "            model_out = model.predict(input_data)\n",
    "            model_pred = (tf.sigmoid(model_out).numpy() > 0.5) \\\n",
    "                .astype(np.int64)\n",
    "            \n",
    "            num_pos += model_pred\n",
    "            num_neg += (1 - model_pred)\n",
    "            \n",
    "        pred = (num_pos > num_neg).astype(np.int64)\n",
    "        return pred"
   ]
  },
  {
   "cell_type": "code",
   "execution_count": 36,
   "metadata": {},
   "outputs": [],
   "source": [
    "model_detect = MlpEnsemble(lag=50, num_models=10)"
   ]
  },
  {
   "cell_type": "markdown",
   "metadata": {},
   "source": [
    "### Build Training Data"
   ]
  },
  {
   "cell_type": "code",
   "execution_count": 37,
   "metadata": {},
   "outputs": [
    {
     "name": "stdout",
     "output_type": "stream",
     "text": [
      "Input Data: datatype: float64, shape: (22945, 50)\n",
      "Output Data: datatype: int64, shape: (22945, 1)\n"
     ]
    }
   ],
   "source": [
    "input_data = []\n",
    "output_data = []\n",
    "\n",
    "for i in range(lag, num_train):\n",
    "    \n",
    "    input_data.append(rainfall_series[i - lag: i])\n",
    "    \n",
    "    if rainfall_series[i] > threshold:\n",
    "        output_data.append(1)\n",
    "    \n",
    "    else:\n",
    "        output_data.append(0)\n",
    "\n",
    "        \n",
    "input_data = np.array(input_data)\n",
    "output_data = np.expand_dims(np.array(output_data), axis=1)\n",
    "\n",
    "print(f'Input Data: datatype: {input_data.dtype}, shape: {input_data.shape}')\n",
    "print(f'Output Data: datatype: {output_data.dtype}, shape: {output_data.shape}')"
   ]
  },
  {
   "cell_type": "code",
   "execution_count": 38,
   "metadata": {
    "scrolled": true
   },
   "outputs": [
    {
     "name": "stdout",
     "output_type": "stream",
     "text": [
      "First few inputs:\n",
      "array([[0.47, 0.59, 0.42, 0.31, 0.17, 0.44, 0.41, 0.04, 0.12, 0.74, 0.01,\n",
      "        0.  , 0.  , 0.  , 0.  , 0.  , 0.  , 0.  , 0.  , 0.  , 0.  , 0.21,\n",
      "        0.  , 0.1 , 0.  , 0.  , 0.  , 0.  , 0.22, 0.03, 0.21, 0.03, 0.  ,\n",
      "        0.2 , 0.14, 0.  , 0.  , 0.06, 0.56, 0.  , 0.  , 0.  , 0.  , 0.  ,\n",
      "        0.5 , 0.35, 0.84, 0.13, 0.01, 0.  ],\n",
      "       [0.59, 0.42, 0.31, 0.17, 0.44, 0.41, 0.04, 0.12, 0.74, 0.01, 0.  ,\n",
      "        0.  , 0.  , 0.  , 0.  , 0.  , 0.  , 0.  , 0.  , 0.  , 0.21, 0.  ,\n",
      "        0.1 , 0.  , 0.  , 0.  , 0.  , 0.22, 0.03, 0.21, 0.03, 0.  , 0.2 ,\n",
      "        0.14, 0.  , 0.  , 0.06, 0.56, 0.  , 0.  , 0.  , 0.  , 0.  , 0.5 ,\n",
      "        0.35, 0.84, 0.13, 0.01, 0.  , 0.74],\n",
      "       [0.42, 0.31, 0.17, 0.44, 0.41, 0.04, 0.12, 0.74, 0.01, 0.  , 0.  ,\n",
      "        0.  , 0.  , 0.  , 0.  , 0.  , 0.  , 0.  , 0.  , 0.21, 0.  , 0.1 ,\n",
      "        0.  , 0.  , 0.  , 0.  , 0.22, 0.03, 0.21, 0.03, 0.  , 0.2 , 0.14,\n",
      "        0.  , 0.  , 0.06, 0.56, 0.  , 0.  , 0.  , 0.  , 0.  , 0.5 , 0.35,\n",
      "        0.84, 0.13, 0.01, 0.  , 0.74, 0.46],\n",
      "       [0.31, 0.17, 0.44, 0.41, 0.04, 0.12, 0.74, 0.01, 0.  , 0.  , 0.  ,\n",
      "        0.  , 0.  , 0.  , 0.  , 0.  , 0.  , 0.  , 0.21, 0.  , 0.1 , 0.  ,\n",
      "        0.  , 0.  , 0.  , 0.22, 0.03, 0.21, 0.03, 0.  , 0.2 , 0.14, 0.  ,\n",
      "        0.  , 0.06, 0.56, 0.  , 0.  , 0.  , 0.  , 0.  , 0.5 , 0.35, 0.84,\n",
      "        0.13, 0.01, 0.  , 0.74, 0.46, 0.11],\n",
      "       [0.17, 0.44, 0.41, 0.04, 0.12, 0.74, 0.01, 0.  , 0.  , 0.  , 0.  ,\n",
      "        0.  , 0.  , 0.  , 0.  , 0.  , 0.  , 0.21, 0.  , 0.1 , 0.  , 0.  ,\n",
      "        0.  , 0.  , 0.22, 0.03, 0.21, 0.03, 0.  , 0.2 , 0.14, 0.  , 0.  ,\n",
      "        0.06, 0.56, 0.  , 0.  , 0.  , 0.  , 0.  , 0.5 , 0.35, 0.84, 0.13,\n",
      "        0.01, 0.  , 0.74, 0.46, 0.11, 0.  ]])\n",
      "\n",
      "First few outputs:\n",
      "array([[0],\n",
      "       [0],\n",
      "       [0],\n",
      "       [0],\n",
      "       [0]])\n",
      "\n",
      "Last few inputs:\n",
      "array([[0.05, 0.38, 0.72, 1.08, 0.19, 0.  , 0.07, 0.01, 0.39, 0.16, 1.56,\n",
      "        0.02, 0.  , 0.  , 0.17, 0.7 , 0.06, 0.  , 0.22, 0.  , 0.13, 0.  ,\n",
      "        0.12, 0.27, 0.14, 0.  , 0.17, 0.2 , 0.06, 0.  , 0.01, 0.15, 0.  ,\n",
      "        0.  , 0.01, 0.29, 0.01, 0.02, 0.1 , 0.64, 0.  , 0.  , 0.  , 0.  ,\n",
      "        0.  , 0.01, 0.35, 0.51, 0.89, 0.  ],\n",
      "       [0.38, 0.72, 1.08, 0.19, 0.  , 0.07, 0.01, 0.39, 0.16, 1.56, 0.02,\n",
      "        0.  , 0.  , 0.17, 0.7 , 0.06, 0.  , 0.22, 0.  , 0.13, 0.  , 0.12,\n",
      "        0.27, 0.14, 0.  , 0.17, 0.2 , 0.06, 0.  , 0.01, 0.15, 0.  , 0.  ,\n",
      "        0.01, 0.29, 0.01, 0.02, 0.1 , 0.64, 0.  , 0.  , 0.  , 0.  , 0.  ,\n",
      "        0.01, 0.35, 0.51, 0.89, 0.  , 1.42],\n",
      "       [0.72, 1.08, 0.19, 0.  , 0.07, 0.01, 0.39, 0.16, 1.56, 0.02, 0.  ,\n",
      "        0.  , 0.17, 0.7 , 0.06, 0.  , 0.22, 0.  , 0.13, 0.  , 0.12, 0.27,\n",
      "        0.14, 0.  , 0.17, 0.2 , 0.06, 0.  , 0.01, 0.15, 0.  , 0.  , 0.01,\n",
      "        0.29, 0.01, 0.02, 0.1 , 0.64, 0.  , 0.  , 0.  , 0.  , 0.  , 0.01,\n",
      "        0.35, 0.51, 0.89, 0.  , 1.42, 2.19],\n",
      "       [1.08, 0.19, 0.  , 0.07, 0.01, 0.39, 0.16, 1.56, 0.02, 0.  , 0.  ,\n",
      "        0.17, 0.7 , 0.06, 0.  , 0.22, 0.  , 0.13, 0.  , 0.12, 0.27, 0.14,\n",
      "        0.  , 0.17, 0.2 , 0.06, 0.  , 0.01, 0.15, 0.  , 0.  , 0.01, 0.29,\n",
      "        0.01, 0.02, 0.1 , 0.64, 0.  , 0.  , 0.  , 0.  , 0.  , 0.01, 0.35,\n",
      "        0.51, 0.89, 0.  , 1.42, 2.19, 0.46],\n",
      "       [0.19, 0.  , 0.07, 0.01, 0.39, 0.16, 1.56, 0.02, 0.  , 0.  , 0.17,\n",
      "        0.7 , 0.06, 0.  , 0.22, 0.  , 0.13, 0.  , 0.12, 0.27, 0.14, 0.  ,\n",
      "        0.17, 0.2 , 0.06, 0.  , 0.01, 0.15, 0.  , 0.  , 0.01, 0.29, 0.01,\n",
      "        0.02, 0.1 , 0.64, 0.  , 0.  , 0.  , 0.  , 0.  , 0.01, 0.35, 0.51,\n",
      "        0.89, 0.  , 1.42, 2.19, 0.46, 0.82]])\n",
      "\n",
      "Last few outputs:\n",
      "array([[1],\n",
      "       [1],\n",
      "       [0],\n",
      "       [1],\n",
      "       [0]])\n",
      "\n"
     ]
    }
   ],
   "source": [
    "# First Few Data Points\n",
    "first_few = 5\n",
    "\n",
    "print('First few inputs:')\n",
    "pprint(input_data[:first_few])\n",
    "print()\n",
    "\n",
    "print(f'First few outputs:')\n",
    "pprint(output_data[:first_few])\n",
    "print()\n",
    "\n",
    "# Last Few Data Points\n",
    "last_few = 5\n",
    "\n",
    "print('Last few inputs:')\n",
    "pprint(input_data[-first_few:])\n",
    "print()\n",
    "\n",
    "print(f'Last few outputs:')\n",
    "pprint(output_data[-first_few:])\n",
    "print()"
   ]
  },
  {
   "cell_type": "code",
   "execution_count": 39,
   "metadata": {
    "scrolled": true
   },
   "outputs": [
    {
     "data": {
      "text/plain": [
       "[<matplotlib.lines.Line2D at 0x7feb938ef080>]"
      ]
     },
     "execution_count": 39,
     "metadata": {},
     "output_type": "execute_result"
    },
    {
     "data": {
      "image/png": "[encoded data removed]",
      "text/plain": [
       "<Figure size 432x288 with 1 Axes>"
      ]
     },
     "metadata": {
      "needs_background": "light"
     },
     "output_type": "display_data"
    }
   ],
   "source": [
    "losses = model_detect.train(input_data, output_data, 20)\n",
    "plt.plot(losses)"
   ]
  },
  {
   "cell_type": "code",
   "execution_count": 40,
   "metadata": {},
   "outputs": [
    {
     "name": "stdout",
     "output_type": "stream",
     "text": [
      "Train: True Pos: 487, Total Pos: 523\n",
      "Train: True Neg: 15350, Total Neg: 22422\n"
     ]
    }
   ],
   "source": [
    "is_pos = output_data == 1.\n",
    "\n",
    "num_true_pos = np.sum(model_detect.predict(input_data)[is_pos])\n",
    "total_pos = np.sum(is_pos)\n",
    "\n",
    "is_neg = np.logical_not(is_pos)\n",
    "num_true_neg = np.sum(1 - model_detect.predict(input_data)[is_neg])\n",
    "total_neg = np.sum(is_neg)\n",
    "\n",
    "print(f'Train: True Pos: {num_true_pos}, Total Pos: {total_pos}')\n",
    "print(f'Train: True Neg: {num_true_neg}, Total Neg: {total_neg}')"
   ]
  },
  {
   "cell_type": "markdown",
   "metadata": {},
   "source": [
    "## Part 3: Normal Value Prediction Algorithm"
   ]
  },
  {
   "cell_type": "code",
   "execution_count": 42,
   "metadata": {},
   "outputs": [],
   "source": [
    "model_normal = Sequential([\n",
    "    Dense(16, activation='relu'),\n",
    "    Dense(32, activation='relu'),\n",
    "    Dense(64, activation='relu'),\n",
    "    Dense(32, activation='relu'),\n",
    "    Dense(16, activation='relu'),\n",
    "    Dense(1, activation='linear'),\n",
    "])    \n",
    "    \n",
    "model_normal.build(input_shape=(None, lag))\n",
    "model_normal.compile(\n",
    "    optimizer=Adam(\n",
    "        ExponentialDecay(\n",
    "            0.01, 50, 0.9\n",
    "        )\n",
    "    ),\n",
    "    loss=MeanSquaredError()\n",
    ")"
   ]
  },
  {
   "cell_type": "markdown",
   "metadata": {},
   "source": [
    "### Build Training Data"
   ]
  },
  {
   "cell_type": "code",
   "execution_count": 43,
   "metadata": {},
   "outputs": [
    {
     "name": "stdout",
     "output_type": "stream",
     "text": [
      "Input Data: datatype: float64, shape: (22422, 50)\n",
      "Output Data: datatype: float64, shape: (22422, 1)\n"
     ]
    }
   ],
   "source": [
    "input_data = []\n",
    "output_data = []\n",
    "\n",
    "for i in range(lag, num_train):\n",
    "    \n",
    "    if rainfall_series[i] <= threshold:\n",
    "        input_data.append(rainfall_series[i - lag: i])\n",
    "        output_data.append(rainfall_series[i])\n",
    "\n",
    "input_data = np.array(input_data)\n",
    "output_data = np.expand_dims(np.array(output_data), axis=1)\n",
    "\n",
    "print(f'Input Data: datatype: {input_data.dtype}, shape: {input_data.shape}')\n",
    "print(f'Output Data: datatype: {output_data.dtype}, shape: {output_data.shape}')"
   ]
  },
  {
   "cell_type": "code",
   "execution_count": 44,
   "metadata": {
    "scrolled": true
   },
   "outputs": [
    {
     "name": "stdout",
     "output_type": "stream",
     "text": [
      "First few inputs:\n",
      "array([[0.47, 0.59, 0.42, 0.31, 0.17, 0.44, 0.41, 0.04, 0.12, 0.74, 0.01,\n",
      "        0.  , 0.  , 0.  , 0.  , 0.  , 0.  , 0.  , 0.  , 0.  , 0.  , 0.21,\n",
      "        0.  , 0.1 , 0.  , 0.  , 0.  , 0.  , 0.22, 0.03, 0.21, 0.03, 0.  ,\n",
      "        0.2 , 0.14, 0.  , 0.  , 0.06, 0.56, 0.  , 0.  , 0.  , 0.  , 0.  ,\n",
      "        0.5 , 0.35, 0.84, 0.13, 0.01, 0.  ],\n",
      "       [0.59, 0.42, 0.31, 0.17, 0.44, 0.41, 0.04, 0.12, 0.74, 0.01, 0.  ,\n",
      "        0.  , 0.  , 0.  , 0.  , 0.  , 0.  , 0.  , 0.  , 0.  , 0.21, 0.  ,\n",
      "        0.1 , 0.  , 0.  , 0.  , 0.  , 0.22, 0.03, 0.21, 0.03, 0.  , 0.2 ,\n",
      "        0.14, 0.  , 0.  , 0.06, 0.56, 0.  , 0.  , 0.  , 0.  , 0.  , 0.5 ,\n",
      "        0.35, 0.84, 0.13, 0.01, 0.  , 0.74],\n",
      "       [0.42, 0.31, 0.17, 0.44, 0.41, 0.04, 0.12, 0.74, 0.01, 0.  , 0.  ,\n",
      "        0.  , 0.  , 0.  , 0.  , 0.  , 0.  , 0.  , 0.  , 0.21, 0.  , 0.1 ,\n",
      "        0.  , 0.  , 0.  , 0.  , 0.22, 0.03, 0.21, 0.03, 0.  , 0.2 , 0.14,\n",
      "        0.  , 0.  , 0.06, 0.56, 0.  , 0.  , 0.  , 0.  , 0.  , 0.5 , 0.35,\n",
      "        0.84, 0.13, 0.01, 0.  , 0.74, 0.46],\n",
      "       [0.31, 0.17, 0.44, 0.41, 0.04, 0.12, 0.74, 0.01, 0.  , 0.  , 0.  ,\n",
      "        0.  , 0.  , 0.  , 0.  , 0.  , 0.  , 0.  , 0.21, 0.  , 0.1 , 0.  ,\n",
      "        0.  , 0.  , 0.  , 0.22, 0.03, 0.21, 0.03, 0.  , 0.2 , 0.14, 0.  ,\n",
      "        0.  , 0.06, 0.56, 0.  , 0.  , 0.  , 0.  , 0.  , 0.5 , 0.35, 0.84,\n",
      "        0.13, 0.01, 0.  , 0.74, 0.46, 0.11],\n",
      "       [0.17, 0.44, 0.41, 0.04, 0.12, 0.74, 0.01, 0.  , 0.  , 0.  , 0.  ,\n",
      "        0.  , 0.  , 0.  , 0.  , 0.  , 0.  , 0.21, 0.  , 0.1 , 0.  , 0.  ,\n",
      "        0.  , 0.  , 0.22, 0.03, 0.21, 0.03, 0.  , 0.2 , 0.14, 0.  , 0.  ,\n",
      "        0.06, 0.56, 0.  , 0.  , 0.  , 0.  , 0.  , 0.5 , 0.35, 0.84, 0.13,\n",
      "        0.01, 0.  , 0.74, 0.46, 0.11, 0.  ]])\n",
      "\n",
      "First few outputs:\n",
      "array([[0.74],\n",
      "       [0.46],\n",
      "       [0.11],\n",
      "       [0.  ],\n",
      "       [0.05]])\n",
      "\n",
      "Last few inputs:\n",
      "array([[0.  , 0.  , 0.  , 0.  , 0.05, 0.38, 0.72, 1.08, 0.19, 0.  , 0.07,\n",
      "        0.01, 0.39, 0.16, 1.56, 0.02, 0.  , 0.  , 0.17, 0.7 , 0.06, 0.  ,\n",
      "        0.22, 0.  , 0.13, 0.  , 0.12, 0.27, 0.14, 0.  , 0.17, 0.2 , 0.06,\n",
      "        0.  , 0.01, 0.15, 0.  , 0.  , 0.01, 0.29, 0.01, 0.02, 0.1 , 0.64,\n",
      "        0.  , 0.  , 0.  , 0.  , 0.  , 0.01],\n",
      "       [0.  , 0.  , 0.  , 0.05, 0.38, 0.72, 1.08, 0.19, 0.  , 0.07, 0.01,\n",
      "        0.39, 0.16, 1.56, 0.02, 0.  , 0.  , 0.17, 0.7 , 0.06, 0.  , 0.22,\n",
      "        0.  , 0.13, 0.  , 0.12, 0.27, 0.14, 0.  , 0.17, 0.2 , 0.06, 0.  ,\n",
      "        0.01, 0.15, 0.  , 0.  , 0.01, 0.29, 0.01, 0.02, 0.1 , 0.64, 0.  ,\n",
      "        0.  , 0.  , 0.  , 0.  , 0.01, 0.35],\n",
      "       [0.  , 0.05, 0.38, 0.72, 1.08, 0.19, 0.  , 0.07, 0.01, 0.39, 0.16,\n",
      "        1.56, 0.02, 0.  , 0.  , 0.17, 0.7 , 0.06, 0.  , 0.22, 0.  , 0.13,\n",
      "        0.  , 0.12, 0.27, 0.14, 0.  , 0.17, 0.2 , 0.06, 0.  , 0.01, 0.15,\n",
      "        0.  , 0.  , 0.01, 0.29, 0.01, 0.02, 0.1 , 0.64, 0.  , 0.  , 0.  ,\n",
      "        0.  , 0.  , 0.01, 0.35, 0.51, 0.89],\n",
      "       [0.72, 1.08, 0.19, 0.  , 0.07, 0.01, 0.39, 0.16, 1.56, 0.02, 0.  ,\n",
      "        0.  , 0.17, 0.7 , 0.06, 0.  , 0.22, 0.  , 0.13, 0.  , 0.12, 0.27,\n",
      "        0.14, 0.  , 0.17, 0.2 , 0.06, 0.  , 0.01, 0.15, 0.  , 0.  , 0.01,\n",
      "        0.29, 0.01, 0.02, 0.1 , 0.64, 0.  , 0.  , 0.  , 0.  , 0.  , 0.01,\n",
      "        0.35, 0.51, 0.89, 0.  , 1.42, 2.19],\n",
      "       [0.19, 0.  , 0.07, 0.01, 0.39, 0.16, 1.56, 0.02, 0.  , 0.  , 0.17,\n",
      "        0.7 , 0.06, 0.  , 0.22, 0.  , 0.13, 0.  , 0.12, 0.27, 0.14, 0.  ,\n",
      "        0.17, 0.2 , 0.06, 0.  , 0.01, 0.15, 0.  , 0.  , 0.01, 0.29, 0.01,\n",
      "        0.02, 0.1 , 0.64, 0.  , 0.  , 0.  , 0.  , 0.  , 0.01, 0.35, 0.51,\n",
      "        0.89, 0.  , 1.42, 2.19, 0.46, 0.82]])\n",
      "\n",
      "Last few outputs:\n",
      "array([[0.35],\n",
      "       [0.51],\n",
      "       [0.  ],\n",
      "       [0.46],\n",
      "       [0.11]])\n",
      "\n"
     ]
    }
   ],
   "source": [
    "# First Few Data Points\n",
    "first_few = 5\n",
    "\n",
    "print('First few inputs:')\n",
    "pprint(input_data[:first_few])\n",
    "print()\n",
    "\n",
    "print(f'First few outputs:')\n",
    "pprint(output_data[:first_few])\n",
    "print()\n",
    "\n",
    "# Last Few Data Points\n",
    "last_few = 5\n",
    "\n",
    "print('Last few inputs:')\n",
    "pprint(input_data[-first_few:])\n",
    "print()\n",
    "\n",
    "print(f'Last few outputs:')\n",
    "pprint(output_data[-first_few:])\n",
    "print()"
   ]
  },
  {
   "cell_type": "code",
   "execution_count": 45,
   "metadata": {
    "scrolled": true
   },
   "outputs": [
    {
     "name": "stdout",
     "output_type": "stream",
     "text": [
      "Epoch 1/100\n",
      "701/701 [==============================] - 1s 858us/step - loss: 0.0217\n",
      "Epoch 2/100\n",
      "701/701 [==============================] - 1s 758us/step - loss: 0.0206\n",
      "Epoch 3/100\n",
      "701/701 [==============================] - 1s 773us/step - loss: 0.0204\n",
      "Epoch 4/100\n",
      "701/701 [==============================] - 1s 768us/step - loss: 0.0203\n",
      "Epoch 5/100\n",
      "701/701 [==============================] - 1s 768us/step - loss: 0.0203\n",
      "Epoch 6/100\n",
      "701/701 [==============================] - 1s 813us/step - loss: 0.0203\n",
      "Epoch 7/100\n",
      "701/701 [==============================] - 1s 776us/step - loss: 0.0203\n",
      "Epoch 8/100\n",
      "701/701 [==============================] - 1s 780us/step - loss: 0.0203\n",
      "Epoch 9/100\n",
      "701/701 [==============================] - 1s 738us/step - loss: 0.0203\n",
      "Epoch 10/100\n",
      "701/701 [==============================] - 1s 822us/step - loss: 0.0203\n",
      "Epoch 11/100\n",
      "701/701 [==============================] - 1s 849us/step - loss: 0.0203\n",
      "Epoch 12/100\n",
      "701/701 [==============================] - 1s 723us/step - loss: 0.0203\n",
      "Epoch 13/100\n",
      "701/701 [==============================] - 1s 834us/step - loss: 0.0203\n",
      "Epoch 14/100\n",
      "701/701 [==============================] - 1s 1ms/step - loss: 0.0203\n",
      "Epoch 15/100\n",
      "701/701 [==============================] - 1s 1ms/step - loss: 0.0203\n",
      "Epoch 16/100\n",
      "701/701 [==============================] - 1s 1ms/step - loss: 0.0203\n",
      "Epoch 17/100\n",
      "701/701 [==============================] - 1s 1ms/step - loss: 0.0203\n",
      "Epoch 18/100\n",
      "701/701 [==============================] - 1s 1ms/step - loss: 0.0203\n",
      "Epoch 19/100\n",
      "701/701 [==============================] - 1s 801us/step - loss: 0.0203\n",
      "Epoch 20/100\n",
      "701/701 [==============================] - 1s 1ms/step - loss: 0.0203\n",
      "Epoch 21/100\n",
      "701/701 [==============================] - 1s 1ms/step - loss: 0.0203\n",
      "Epoch 22/100\n",
      "701/701 [==============================] - 1s 1ms/step - loss: 0.0203\n",
      "Epoch 23/100\n",
      "701/701 [==============================] - 1s 1ms/step - loss: 0.0203\n",
      "Epoch 24/100\n",
      "701/701 [==============================] - 1s 793us/step - loss: 0.0203\n",
      "Epoch 25/100\n",
      "701/701 [==============================] - 1s 842us/step - loss: 0.0203\n",
      "Epoch 26/100\n",
      "701/701 [==============================] - 1s 784us/step - loss: 0.0203\n",
      "Epoch 27/100\n",
      "701/701 [==============================] - 1s 782us/step - loss: 0.0203\n",
      "Epoch 28/100\n",
      "701/701 [==============================] - 1s 788us/step - loss: 0.0203\n",
      "Epoch 29/100\n",
      "701/701 [==============================] - 1s 768us/step - loss: 0.0203\n",
      "Epoch 30/100\n",
      "701/701 [==============================] - 1s 789us/step - loss: 0.0203\n",
      "Epoch 31/100\n",
      "701/701 [==============================] - 1s 784us/step - loss: 0.0203\n",
      "Epoch 32/100\n",
      "701/701 [==============================] - 1s 832us/step - loss: 0.0203\n",
      "Epoch 33/100\n",
      "701/701 [==============================] - 1s 872us/step - loss: 0.0203\n",
      "Epoch 34/100\n",
      "701/701 [==============================] - 1s 820us/step - loss: 0.0203\n",
      "Epoch 35/100\n",
      "701/701 [==============================] - 1s 816us/step - loss: 0.0203\n",
      "Epoch 36/100\n",
      "701/701 [==============================] - 1s 1ms/step - loss: 0.0203\n",
      "Epoch 37/100\n",
      "701/701 [==============================] - 1s 988us/step - loss: 0.0203\n",
      "Epoch 38/100\n",
      "701/701 [==============================] - 1s 927us/step - loss: 0.0203\n",
      "Epoch 39/100\n",
      "701/701 [==============================] - 0s 693us/step - loss: 0.0203\n",
      "Epoch 40/100\n",
      "701/701 [==============================] - 1s 747us/step - loss: 0.0203\n",
      "Epoch 41/100\n",
      "701/701 [==============================] - 0s 689us/step - loss: 0.0203\n",
      "Epoch 42/100\n",
      "701/701 [==============================] - 0s 681us/step - loss: 0.0203\n",
      "Epoch 43/100\n",
      "701/701 [==============================] - 0s 685us/step - loss: 0.0203\n",
      "Epoch 44/100\n",
      "701/701 [==============================] - 0s 680us/step - loss: 0.0203\n",
      "Epoch 45/100\n",
      "701/701 [==============================] - 0s 683us/step - loss: 0.0203\n",
      "Epoch 46/100\n",
      "701/701 [==============================] - 0s 706us/step - loss: 0.0203\n",
      "Epoch 47/100\n",
      "701/701 [==============================] - 0s 701us/step - loss: 0.0203\n",
      "Epoch 48/100\n",
      "701/701 [==============================] - 1s 738us/step - loss: 0.0203\n",
      "Epoch 49/100\n",
      "701/701 [==============================] - 0s 691us/step - loss: 0.0203\n",
      "Epoch 50/100\n",
      "701/701 [==============================] - 0s 695us/step - loss: 0.0203\n",
      "Epoch 51/100\n",
      "701/701 [==============================] - 0s 690us/step - loss: 0.0203\n",
      "Epoch 52/100\n",
      "701/701 [==============================] - 1s 724us/step - loss: 0.0203\n",
      "Epoch 53/100\n",
      "701/701 [==============================] - 0s 702us/step - loss: 0.0203\n",
      "Epoch 54/100\n",
      "701/701 [==============================] - 0s 696us/step - loss: 0.0203\n",
      "Epoch 55/100\n",
      "701/701 [==============================] - 0s 703us/step - loss: 0.0203\n",
      "Epoch 56/100\n",
      "701/701 [==============================] - 1s 725us/step - loss: 0.0203\n",
      "Epoch 57/100\n",
      "701/701 [==============================] - 1s 819us/step - loss: 0.0203\n",
      "Epoch 58/100\n",
      "701/701 [==============================] - 1s 715us/step - loss: 0.0203\n",
      "Epoch 59/100\n",
      "701/701 [==============================] - 1s 756us/step - loss: 0.0203\n",
      "Epoch 60/100\n",
      "701/701 [==============================] - 0s 707us/step - loss: 0.0203\n",
      "Epoch 61/100\n",
      "701/701 [==============================] - 0s 697us/step - loss: 0.0203\n",
      "Epoch 62/100\n",
      "701/701 [==============================] - 0s 705us/step - loss: 0.0203\n",
      "Epoch 63/100\n",
      "701/701 [==============================] - 0s 695us/step - loss: 0.0203\n",
      "Epoch 64/100\n",
      "701/701 [==============================] - 0s 703us/step - loss: 0.0203\n",
      "Epoch 65/100\n",
      "701/701 [==============================] - 1s 748us/step - loss: 0.0203\n",
      "Epoch 66/100\n",
      "701/701 [==============================] - 0s 711us/step - loss: 0.0203\n",
      "Epoch 67/100\n",
      "701/701 [==============================] - 0s 705us/step - loss: 0.0203\n",
      "Epoch 68/100\n",
      "701/701 [==============================] - 0s 700us/step - loss: 0.0203\n",
      "Epoch 69/100\n",
      "701/701 [==============================] - 0s 695us/step - loss: 0.0203\n",
      "Epoch 70/100\n",
      "701/701 [==============================] - 0s 696us/step - loss: 0.0203\n",
      "Epoch 71/100\n",
      "701/701 [==============================] - 0s 705us/step - loss: 0.0203\n",
      "Epoch 72/100\n",
      "701/701 [==============================] - 0s 695us/step - loss: 0.0203\n",
      "Epoch 73/100\n",
      "701/701 [==============================] - 0s 698us/step - loss: 0.0203\n",
      "Epoch 74/100\n",
      "701/701 [==============================] - 1s 745us/step - loss: 0.0203\n",
      "Epoch 75/100\n",
      "701/701 [==============================] - 1s 728us/step - loss: 0.0203\n",
      "Epoch 76/100\n",
      "701/701 [==============================] - 1s 732us/step - loss: 0.0203\n",
      "Epoch 77/100\n",
      "701/701 [==============================] - 1s 726us/step - loss: 0.0203\n",
      "Epoch 78/100\n",
      "701/701 [==============================] - 0s 712us/step - loss: 0.0203\n",
      "Epoch 79/100\n",
      "701/701 [==============================] - 0s 695us/step - loss: 0.0203\n",
      "Epoch 80/100\n",
      "701/701 [==============================] - 0s 697us/step - loss: 0.0203\n",
      "Epoch 81/100\n",
      "701/701 [==============================] - 0s 702us/step - loss: 0.0203\n",
      "Epoch 82/100\n",
      "701/701 [==============================] - 1s 758us/step - loss: 0.0203\n",
      "Epoch 83/100\n",
      "701/701 [==============================] - 0s 695us/step - loss: 0.0203\n",
      "Epoch 84/100\n",
      "701/701 [==============================] - 0s 709us/step - loss: 0.0203\n",
      "Epoch 85/100\n",
      "701/701 [==============================] - 0s 696us/step - loss: 0.0203\n",
      "Epoch 86/100\n",
      "701/701 [==============================] - 0s 703us/step - loss: 0.0203\n",
      "Epoch 87/100\n",
      "701/701 [==============================] - 1s 718us/step - loss: 0.0203\n",
      "Epoch 88/100\n",
      "701/701 [==============================] - 0s 697us/step - loss: 0.0203\n",
      "Epoch 89/100\n",
      "701/701 [==============================] - 1s 714us/step - loss: 0.0203\n",
      "Epoch 90/100\n",
      "701/701 [==============================] - 1s 737us/step - loss: 0.0203\n",
      "Epoch 91/100\n",
      "701/701 [==============================] - 1s 723us/step - loss: 0.0203\n",
      "Epoch 92/100\n",
      "701/701 [==============================] - 0s 710us/step - loss: 0.0203\n",
      "Epoch 93/100\n",
      "701/701 [==============================] - 0s 704us/step - loss: 0.0203\n",
      "Epoch 94/100\n",
      "701/701 [==============================] - 0s 701us/step - loss: 0.0203\n",
      "Epoch 95/100\n",
      "701/701 [==============================] - 1s 714us/step - loss: 0.0203\n",
      "Epoch 96/100\n",
      "701/701 [==============================] - 0s 706us/step - loss: 0.0203\n",
      "Epoch 97/100\n",
      "701/701 [==============================] - 0s 695us/step - loss: 0.0203\n",
      "Epoch 98/100\n",
      "701/701 [==============================] - 0s 689us/step - loss: 0.0203\n",
      "Epoch 99/100\n",
      "701/701 [==============================] - 1s 733us/step - loss: 0.0203\n",
      "Epoch 100/100\n",
      "701/701 [==============================] - 0s 696us/step - loss: 0.0203\n"
     ]
    },
    {
     "data": {
      "text/plain": [
       "[<matplotlib.lines.Line2D at 0x7feb9008e860>]"
      ]
     },
     "execution_count": 45,
     "metadata": {},
     "output_type": "execute_result"
    },
    {
     "data": {
      "image/png": "[encoded data removed]",
      "text/plain": [
       "<Figure size 432x288 with 1 Axes>"
      ]
     },
     "metadata": {
      "needs_background": "light"
     },
     "output_type": "display_data"
    }
   ],
   "source": [
    "history = model_normal.fit(input_data, output_data, epochs=100)\n",
    "plt.plot(history.history['loss'])"
   ]
  },
  {
   "cell_type": "markdown",
   "metadata": {},
   "source": [
    "## Compute Test Loss"
   ]
  },
  {
   "cell_type": "code",
   "execution_count": 46,
   "metadata": {},
   "outputs": [
    {
     "name": "stdout",
     "output_type": "stream",
     "text": [
      "Input Test Data: datatype: float64, shape: (2472, 50)\n",
      "Output Test Data: datatype: float64, shape: (2472, 1)\n",
      "\n",
      "Test Loss: 0.264615535736084\n"
     ]
    }
   ],
   "source": [
    "input_data = []\n",
    "output_data = []\n",
    "output_actual = []\n",
    "\n",
    "for i in range(max(num_train, lag), n):\n",
    "    \n",
    "    if rainfall_series[i] <= threshold:\n",
    "        input_data.append(rainfall_series[i - lag: i])\n",
    "        output_data.append(rainfall_series[i])\n",
    "\n",
    "input_data = np.array(input_data)\n",
    "output_data = np.expand_dims(np.array(output_data), axis=1)\n",
    "\n",
    "print(f'Input Test Data: datatype: {input_data.dtype}, shape: {input_data.shape}')\n",
    "print(f'Output Test Data: datatype: {output_data.dtype}, shape: {output_data.shape}')\n",
    "print('')\n",
    "\n",
    "true_val = output_data\n",
    "pred_val = model_extreme.predict(input_data)\n",
    "\n",
    "test_loss_cdf = MeanSquaredError()(true_val, pred_val)\n",
    "print(f'Test Loss: {test_loss_cdf}')"
   ]
  },
  {
   "cell_type": "markdown",
   "metadata": {},
   "source": [
    "# Combining Algorithms"
   ]
  },
  {
   "cell_type": "markdown",
   "metadata": {},
   "source": [
    "## Forecasting Training Data"
   ]
  },
  {
   "cell_type": "code",
   "execution_count": 47,
   "metadata": {},
   "outputs": [
    {
     "name": "stdout",
     "output_type": "stream",
     "text": [
      "Input Test Data: datatype: float64, shape: (22945, 50)\n",
      "Output Test Data: datatype: float64, shape: (22945, 1)\n",
      "\n"
     ]
    }
   ],
   "source": [
    "input_data = []\n",
    "output_data = []\n",
    "\n",
    "for i in range(lag, num_train):\n",
    "\n",
    "    input_data.append(rainfall_series[i - lag: i])\n",
    "    output_data.append(rainfall_series[i])\n",
    "\n",
    "input_data = np.array(input_data)\n",
    "output_data = np.expand_dims(np.array(output_data), axis=1)\n",
    "\n",
    "print(f'Input Test Data: datatype: {input_data.dtype}, shape: {input_data.shape}')\n",
    "print(f'Output Test Data: datatype: {output_data.dtype}, shape: {output_data.shape}')\n",
    "print('')"
   ]
  },
  {
   "cell_type": "code",
   "execution_count": 48,
   "metadata": {},
   "outputs": [],
   "source": [
    "is_extreme = model_detect.predict(input_data)\n",
    "\n",
    "pred_extreme = gpd_dist.computeQuantile(model_extreme.predict(input_data)) \\\n",
    "            + threshold\n",
    "\n",
    "pred_normal = model_normal.predict(input_data)\n",
    "\n",
    "pred_outputs = np.zeros(output_data.shape)\n",
    "\n",
    "for i in range(pred_outputs.shape[0]):\n",
    "    if is_extreme[i, 0]:\n",
    "        pred_outputs[i] = pred_extreme[i]\n",
    "    else:\n",
    "        pred_outputs[i] = pred_normal[i]"
   ]
  },
  {
   "cell_type": "code",
   "execution_count": 49,
   "metadata": {},
   "outputs": [
    {
     "data": {
      "image/png": "[encoded data removed]",
      "text/plain": [
       "<Figure size 432x288 with 1 Axes>"
      ]
     },
     "metadata": {
      "needs_background": "light"
     },
     "output_type": "display_data"
    }
   ],
   "source": [
    "plt.plot(output_data, label='true outputs')\n",
    "plt.plot(pred_outputs, label='pred outputs')\n",
    "plt.legend()\n",
    "plt.show()"
   ]
  },
  {
   "cell_type": "code",
   "execution_count": 50,
   "metadata": {},
   "outputs": [
    {
     "data": {
      "image/png": "[encoded data removed]",
      "text/plain": [
       "<Figure size 432x288 with 1 Axes>"
      ]
     },
     "metadata": {
      "needs_background": "light"
     },
     "output_type": "display_data"
    }
   ],
   "source": [
    "plt.plot(output_data, label='true outputs')\n",
    "plt.plot(pred_normal, label='normal pred outputs')\n",
    "plt.legend()\n",
    "plt.show()"
   ]
  },
  {
   "cell_type": "code",
   "execution_count": 51,
   "metadata": {},
   "outputs": [
    {
     "data": {
      "image/png": "[encoded data removed]",
      "text/plain": [
       "<Figure size 432x288 with 1 Axes>"
      ]
     },
     "metadata": {
      "needs_background": "light"
     },
     "output_type": "display_data"
    }
   ],
   "source": [
    "plt.plot(output_data, label='true outputs')\n",
    "plt.plot(pred_extreme, label='extreme pred outputs')\n",
    "plt.legend()\n",
    "plt.show()"
   ]
  },
  {
   "cell_type": "markdown",
   "metadata": {},
   "source": [
    "## Forecasting Test Data"
   ]
  },
  {
   "cell_type": "code",
   "execution_count": 52,
   "metadata": {},
   "outputs": [
    {
     "name": "stdout",
     "output_type": "stream",
     "text": [
      "Input Test Data: datatype: float64, shape: (2556, 50)\n",
      "Output Test Data: datatype: float64, shape: (2556, 1)\n",
      "\n"
     ]
    }
   ],
   "source": [
    "input_data = []\n",
    "output_data = []\n",
    "\n",
    "for i in range(max(num_train, lag), n):\n",
    "\n",
    "    input_data.append(rainfall_series[i - lag: i])\n",
    "    output_data.append(rainfall_series[i])\n",
    "\n",
    "input_data = np.array(input_data)\n",
    "output_data = np.expand_dims(np.array(output_data), axis=1)\n",
    "\n",
    "print(f'Input Test Data: datatype: {input_data.dtype}, shape: {input_data.shape}')\n",
    "print(f'Output Test Data: datatype: {output_data.dtype}, shape: {output_data.shape}')\n",
    "print('')"
   ]
  },
  {
   "cell_type": "code",
   "execution_count": 53,
   "metadata": {},
   "outputs": [],
   "source": [
    "is_extreme = model_detect.predict(input_data)\n",
    "\n",
    "pred_extreme = gpd_dist.computeQuantile(model_extreme.predict(input_data)) \\\n",
    "            + threshold\n",
    "\n",
    "pred_normal = model_normal.predict(input_data)\n",
    "\n",
    "pred_outputs = np.zeros(output_data.shape)\n",
    "\n",
    "for i in range(pred_outputs.shape[0]):\n",
    "    if is_extreme[i, 0]:\n",
    "        pred_outputs[i] = pred_extreme[i]\n",
    "    else:\n",
    "        pred_outputs[i] = pred_normal[i]"
   ]
  },
  {
   "cell_type": "code",
   "execution_count": 57,
   "metadata": {},
   "outputs": [
    {
     "data": {
      "image/png": "[encoded data removed]",
      "text/plain": [
       "<Figure size 432x288 with 1 Axes>"
      ]
     },
     "metadata": {
      "needs_background": "light"
     },
     "output_type": "display_data"
    }
   ],
   "source": [
    "plt.plot(output_data, label='true outputs')\n",
    "plt.plot(pred_outputs, label='pred outputs')\n",
    "plt.legend()\n",
    "plt.show()"
   ]
  },
  {
   "cell_type": "code",
   "execution_count": 58,
   "metadata": {},
   "outputs": [
    {
     "data": {
      "image/png": "[encoded data removed]",
      "text/plain": [
       "<Figure size 432x288 with 1 Axes>"
      ]
     },
     "metadata": {
      "needs_background": "light"
     },
     "output_type": "display_data"
    }
   ],
   "source": [
    "plt.plot(output_data, label='true outputs')\n",
    "plt.plot(pred_normal, label='normal pred outputs')\n",
    "plt.legend()\n",
    "plt.show()"
   ]
  },
  {
   "cell_type": "code",
   "execution_count": 59,
   "metadata": {},
   "outputs": [
    {
     "data": {
      "image/png": "[encoded data removed]",
      "text/plain": [
       "<Figure size 432x288 with 1 Axes>"
      ]
     },
     "metadata": {
      "needs_background": "light"
     },
     "output_type": "display_data"
    }
   ],
   "source": [
    "plt.plot(output_data, label='true outputs')\n",
    "plt.plot(pred_extreme, label='extreme pred outputs')\n",
    "plt.legend()\n",
    "plt.show()"
   ]
  },
  {
   "cell_type": "code",
   "execution_count": null,
   "metadata": {},
   "outputs": [],
   "source": []
  }
 ],
 "metadata": {
  "kernelspec": {
   "display_name": "Python 3",
   "language": "python",
   "name": "python3"
  },
  "language_info": {
   "codemirror_mode": {
    "name": "ipython",
    "version": 3
   },
   "file_extension": ".py",
   "mimetype": "text/x-python",
   "name": "python",
   "nbconvert_exporter": "python",
   "pygments_lexer": "ipython3",
   "version": "3.6.8"
  }
 },
 "nbformat": 4,
 "nbformat_minor": 2
}
