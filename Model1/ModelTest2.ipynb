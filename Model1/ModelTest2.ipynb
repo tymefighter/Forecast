{
 "cells": [
  {
   "cell_type": "code",
   "execution_count": 1,
   "metadata": {},
   "outputs": [
    {
     "data": {
      "text/plain": [
       "'2.3.0'"
      ]
     },
     "execution_count": 1,
     "metadata": {},
     "output_type": "execute_result"
    }
   ],
   "source": [
    "import tensorflow as tf\n",
    "import numpy as np\n",
    "import matplotlib.pyplot as plt\n",
    "import tensorflow.keras.backend as K\n",
    "from tensorflow.keras.layers import SimpleRNN, LSTM, GRU, Dense, TimeDistributed\n",
    "import model\n",
    "\n",
    "tf.__version__"
   ]
  },
  {
   "cell_type": "code",
   "execution_count": 2,
   "metadata": {},
   "outputs": [],
   "source": [
    "def generateArma(\n",
    "    n,\n",
    "    obsCoef,\n",
    "    noiseCoef,\n",
    "    noiseGenFunc,\n",
    "    noiseGenParams,\n",
    "    obsFunc = None,\n",
    "    noiseFunc = None\n",
    "):\n",
    "\n",
    "    p = len(obsCoef)\n",
    "    q = len(noiseCoef)    \n",
    "    \n",
    "    x = np.zeros(n)\n",
    "    eps = np.zeros(n)\n",
    "\n",
    "    for t in range(n):\n",
    "\n",
    "        obsVal = 0\n",
    "        for i in range(min(t, p)):\n",
    "            obsVal += obsCoef[i] * x[t - i - 1]\n",
    "        \n",
    "        if obsFunc is not None:\n",
    "            obsVal = obsFunc(obsVal)\n",
    "        x[t] += obsVal\n",
    "        \n",
    "        noiseVal = 0\n",
    "        for j in range(min(t, q)):\n",
    "            noiseVal += noiseCoef[j] * eps[t - j - 1]\n",
    "\n",
    "        if noiseFunc is not None:\n",
    "            noiseVal = noiseFunc(noiseVal)\n",
    "        x[t] += noiseVal\n",
    "\n",
    "        eps[t] = noiseGenFunc(*noiseGenParams)\n",
    "        x[t] += eps[t]\n",
    "\n",
    "    return x"
   ]
  },
  {
   "cell_type": "code",
   "execution_count": 3,
   "metadata": {},
   "outputs": [],
   "source": [
    "n = 10000\n",
    "P = 50\n",
    "Q = 50"
   ]
  },
  {
   "cell_type": "code",
   "execution_count": 4,
   "metadata": {},
   "outputs": [],
   "source": [
    "obsCoef = np.concatenate([\n",
    "    np.random.uniform(-0.1, 0, size = P // 2),\n",
    "    np.random.uniform(0, 0.1, size = P // 2)\n",
    "])\n",
    "\n",
    "noiseCoef = np.concatenate([\n",
    "    np.random.uniform(-0.01, 0, size = Q // 2),\n",
    "    np.random.uniform(0, 0.01, size = Q // 2)\n",
    "])\n",
    "\n",
    "noiseGenFunc = np.random.normal\n",
    "noiseGenParams = (1.0, 1.0)"
   ]
  },
  {
   "cell_type": "code",
   "execution_count": 5,
   "metadata": {},
   "outputs": [],
   "source": [
    "trainSeq = generateArma(n, obsCoef, noiseCoef, noiseGenFunc, noiseGenParams)"
   ]
  },
  {
   "cell_type": "code",
   "execution_count": 6,
   "metadata": {},
   "outputs": [
    {
     "name": "stdout",
     "output_type": "stream",
     "text": [
      "Plotting Sequence\n"
     ]
    },
    {
     "data": {
      "image/png": "[encoded data removed]",
      "text/plain": [
       "<Figure size 432x288 with 1 Axes>"
      ]
     },
     "metadata": {
      "needs_background": "light"
     },
     "output_type": "display_data"
    }
   ],
   "source": [
    "print('Plotting Sequence')\n",
    "plt.plot(trainSeq)\n",
    "plt.show()"
   ]
  },
  {
   "cell_type": "code",
   "execution_count": 7,
   "metadata": {},
   "outputs": [],
   "source": [
    "x = trainSeq[:n-1, np.newaxis]\n",
    "y = trainSeq[1:, np.newaxis]"
   ]
  },
  {
   "cell_type": "code",
   "execution_count": 8,
   "metadata": {
    "scrolled": false
   },
   "outputs": [],
   "source": [
    "timeModel = model.Model(\n",
    "    memorySize = 80,\n",
    "    windowSize = 5,\n",
    "    threshold = 20,\n",
    "    inputDimension = 1,\n",
    "    hiddenStateSize = 20,\n",
    "    extremeValueIndex = 3.0,\n",
    "    optimizer = tf.keras.optimizers.Adam(),\n",
    "    extremeLossWeight = 2.0\n",
    ")"
   ]
  },
  {
   "cell_type": "code",
   "execution_count": 9,
   "metadata": {},
   "outputs": [
    {
     "name": "stdout",
     "output_type": "stream",
     "text": [
      "WARNING:tensorflow:Layer gru_cell is casting an input tensor from dtype float64 to the layer's dtype of float32, which is new behavior in TensorFlow 2.  The layer has dtype float32 because its dtype defaults to floatx.\n",
      "\n",
      "If you intended to run this layer in float32, you can safely ignore this warning. If in doubt, this warning is likely only an issue if you are porting a TensorFlow 1.X model to TensorFlow 2.\n",
      "\n",
      "To change all layers to have dtype float64 by default, call `tf.keras.backend.set_floatx('float64')`. To change just this layer, pass dtype='float64' to the layer constructor. If you are the author of this layer, you can disable autocasting by passing autocast=False to the base Layer constructor.\n",
      "\n",
      "start timestep: 6 | end timestep: 205  | time taken:  100.23 sec | Loss: 149782.25\n",
      "start timestep: 206 | end timestep: 405  | time taken:  99.67 sec | Loss: 176140.890625\n",
      "start timestep: 406 | end timestep: 605  | time taken:  98.90 sec | Loss: 164940.6875\n",
      "start timestep: 606 | end timestep: 805  | time taken:  100.00 sec | Loss: 143640.3125\n",
      "start timestep: 806 | end timestep: 1005  | time taken:  100.57 sec | Loss: 144593.96875\n",
      "start timestep: 1006 | end timestep: 1205  | time taken:  99.67 sec | Loss: 118321.7109375\n",
      "start timestep: 1206 | end timestep: 1405  | time taken:  99.73 sec | Loss: 125310.1640625\n",
      "start timestep: 1406 | end timestep: 1605  | time taken:  100.52 sec | Loss: 137829.84375\n",
      "start timestep: 1606 | end timestep: 1805  | time taken:  98.59 sec | Loss: 141485.375\n",
      "start timestep: 1806 | end timestep: 2005  | time taken:  101.92 sec | Loss: 117654.078125\n",
      "start timestep: 2006 | end timestep: 2205  | time taken:  100.84 sec | Loss: 119832.421875\n",
      "start timestep: 2206 | end timestep: 2405  | time taken:  98.68 sec | Loss: 143696.6875\n",
      "start timestep: 2406 | end timestep: 2605  | time taken:  99.45 sec | Loss: 143213.59375\n",
      "start timestep: 2606 | end timestep: 2805  | time taken:  98.72 sec | Loss: 115532.109375\n",
      "start timestep: 2806 | end timestep: 3005  | time taken:  98.79 sec | Loss: 112637.28125\n",
      "start timestep: 3006 | end timestep: 3205  | time taken:  98.69 sec | Loss: 108716.078125\n",
      "start timestep: 3206 | end timestep: 3405  | time taken:  100.36 sec | Loss: 120838.0078125\n",
      "start timestep: 3406 | end timestep: 3605  | time taken:  106.99 sec | Loss: 103108.5859375\n",
      "start timestep: 3606 | end timestep: 3805  | time taken:  103.00 sec | Loss: 122824.96875\n",
      "start timestep: 3806 | end timestep: 4005  | time taken:  99.58 sec | Loss: 134851.328125\n",
      "start timestep: 4006 | end timestep: 4205  | time taken:  107.12 sec | Loss: 115501.34375\n",
      "start timestep: 4206 | end timestep: 4405  | time taken:  102.25 sec | Loss: 106007.6328125\n",
      "start timestep: 4406 | end timestep: 4605  | time taken:  106.22 sec | Loss: 103094.328125\n",
      "start timestep: 4606 | end timestep: 4805  | time taken:  98.13 sec | Loss: 98194.7734375\n",
      "start timestep: 4806 | end timestep: 5005  | time taken:  98.81 sec | Loss: 92823.484375\n",
      "start timestep: 5006 | end timestep: 5205  | time taken:  99.82 sec | Loss: 89615.9921875\n",
      "start timestep: 5206 | end timestep: 5405  | time taken:  102.13 sec | Loss: 105060.875\n",
      "start timestep: 5406 | end timestep: 5605  | time taken:  102.46 sec | Loss: 92109.5703125\n",
      "start timestep: 5606 | end timestep: 5805  | time taken:  99.25 sec | Loss: 79519.578125\n",
      "start timestep: 5806 | end timestep: 6005  | time taken:  94.76 sec | Loss: 93511.921875\n",
      "start timestep: 6006 | end timestep: 6205  | time taken:  126.64 sec | Loss: 98108.6875\n",
      "start timestep: 6206 | end timestep: 6405  | time taken:  83.85 sec | Loss: 76362.7265625\n",
      "start timestep: 6406 | end timestep: 6605  | time taken:  83.72 sec | Loss: 80519.09375\n",
      "start timestep: 6606 | end timestep: 6805  | time taken:  84.49 sec | Loss: 82717.1328125\n",
      "start timestep: 6806 | end timestep: 7005  | time taken:  84.50 sec | Loss: 87746.9453125\n",
      "start timestep: 7006 | end timestep: 7205  | time taken:  84.15 sec | Loss: 71670.9609375\n",
      "start timestep: 7206 | end timestep: 7405  | time taken:  84.30 sec | Loss: 70031.796875\n",
      "start timestep: 7406 | end timestep: 7605  | time taken:  84.42 sec | Loss: 67556.59375\n",
      "start timestep: 7606 | end timestep: 7805  | time taken:  93.63 sec | Loss: 77291.078125\n",
      "start timestep: 7806 | end timestep: 8005  | time taken:  91.62 sec | Loss: 62833.3984375\n",
      "start timestep: 8006 | end timestep: 8205  | time taken:  98.10 sec | Loss: 67574.78125\n",
      "start timestep: 8206 | end timestep: 8405  | time taken:  92.76 sec | Loss: 71157.28125\n",
      "start timestep: 8406 | end timestep: 8605  | time taken:  98.79 sec | Loss: 78970.953125\n",
      "start timestep: 8606 | end timestep: 8805  | time taken:  95.87 sec | Loss: 71617.5390625\n",
      "start timestep: 8806 | end timestep: 9005  | time taken:  95.14 sec | Loss: 73449.1484375\n",
      "start timestep: 9006 | end timestep: 9205  | time taken:  98.05 sec | Loss: 69823.671875\n",
      "start timestep: 9206 | end timestep: 9405  | time taken:  95.16 sec | Loss: 68902.453125\n",
      "start timestep: 9406 | end timestep: 9605  | time taken:  91.35 sec | Loss: 66978.0\n",
      "start timestep: 9606 | end timestep: 9805  | time taken:  87.83 sec | Loss: 59800.20703125\n",
      "start timestep: 9806 | end timestep: 9998  | time taken:  85.36 sec | Loss: 56742.0859375\n"
     ]
    }
   ],
   "source": [
    "timeModel.train(x, y, 200, verbose = 2, modelFilepath = 'trainModel.model')"
   ]
  },
  {
   "cell_type": "code",
   "execution_count": 16,
   "metadata": {},
   "outputs": [],
   "source": [
    "yPred = timeModel.predict(x[400:420])"
   ]
  },
  {
   "cell_type": "code",
   "execution_count": 17,
   "metadata": {},
   "outputs": [],
   "source": [
    "yTrue = y[400:420]"
   ]
  },
  {
   "cell_type": "code",
   "execution_count": 18,
   "metadata": {
    "scrolled": true
   },
   "outputs": [
    {
     "name": "stdout",
     "output_type": "stream",
     "text": [
      "[[ 0.19875616]\n",
      " [ 0.3704685 ]\n",
      " [ 0.4343448 ]\n",
      " [ 0.2746786 ]\n",
      " [ 0.39846024]\n",
      " [ 0.6327278 ]\n",
      " [ 1.0085325 ]\n",
      " [ 0.84799105]\n",
      " [ 0.41541874]\n",
      " [ 0.60231555]\n",
      " [ 0.25687793]\n",
      " [ 0.16780975]\n",
      " [-0.01984119]\n",
      " [ 0.24245232]\n",
      " [ 0.98098016]\n",
      " [ 1.0702744 ]\n",
      " [ 0.54080003]\n",
      " [ 0.29071614]\n",
      " [ 0.7398588 ]\n",
      " [ 1.1387651 ]]\n"
     ]
    }
   ],
   "source": [
    "np.set_printoptions(suppress=True)\n",
    "print(np.expand_dims(yPred, axis = 1))"
   ]
  },
  {
   "cell_type": "code",
   "execution_count": 19,
   "metadata": {
    "scrolled": true
   },
   "outputs": [
    {
     "name": "stdout",
     "output_type": "stream",
     "text": [
      "[[ 0.79311992]\n",
      " [ 0.80016809]\n",
      " [-0.21179579]\n",
      " [ 0.86904951]\n",
      " [ 1.72273901]\n",
      " [ 2.91383496]\n",
      " [ 2.08523125]\n",
      " [ 0.33199106]\n",
      " [ 1.90622145]\n",
      " [-0.32367736]\n",
      " [-0.12735837]\n",
      " [-1.62080791]\n",
      " [ 0.62414647]\n",
      " [ 2.99920644]\n",
      " [ 2.63154157]\n",
      " [ 0.37759609]\n",
      " [ 0.00142273]\n",
      " [ 2.41812326]\n",
      " [ 3.31712519]\n",
      " [ 2.34294   ]]\n"
     ]
    }
   ],
   "source": [
    "print(yTrue)"
   ]
  },
  {
   "cell_type": "code",
   "execution_count": null,
   "metadata": {},
   "outputs": [],
   "source": []
  }
 ],
 "metadata": {
  "kernelspec": {
   "display_name": "Python 3",
   "language": "python",
   "name": "python3"
  },
  "language_info": {
   "codemirror_mode": {
    "name": "ipython",
    "version": 3
   },
   "file_extension": ".py",
   "mimetype": "text/x-python",
   "name": "python",
   "nbconvert_exporter": "python",
   "pygments_lexer": "ipython3",
   "version": "3.6.8"
  }
 },
 "nbformat": 4,
 "nbformat_minor": 2
}
