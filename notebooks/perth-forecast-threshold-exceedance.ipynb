{
 "cells": [
  {
   "cell_type": "markdown",
   "metadata": {},
   "source": [
    "## Import Packages"
   ]
  },
  {
   "cell_type": "code",
   "execution_count": 76,
   "metadata": {},
   "outputs": [],
   "source": [
    "import numpy as np\n",
    "import matplotlib.pyplot as plt\n",
    "import pandas as pd\n",
    "import tensorflow as tf\n",
    "\n",
    "import random\n",
    "from pprint import pprint\n",
    "from tqdm import tqdm\n",
    "\n",
    "from tensorflow.keras import Sequential\n",
    "from tensorflow.keras.layers import Dense\n",
    "from tensorflow.keras.losses import MeanSquaredError, BinaryCrossentropy\n",
    "from tensorflow.keras.optimizers import Adam\n",
    "from tensorflow.keras.optimizers.schedules import ExponentialDecay\n",
    "\n",
    "from ts.data.dataset import PerthTempAndRainfall\n",
    "from ts.utility import Utility\n",
    "from ts.experimental import GeneralizedParetoDistribution, GpdEstimate, Pso"
   ]
  },
  {
   "cell_type": "markdown",
   "metadata": {},
   "source": [
    "## Load Dataset"
   ]
  },
  {
   "cell_type": "code",
   "execution_count": 2,
   "metadata": {
    "scrolled": true
   },
   "outputs": [
    {
     "data": {
      "text/html": [
       "<div>\n",
       "<style scoped>\n",
       "    .dataframe tbody tr th:only-of-type {\n",
       "        vertical-align: middle;\n",
       "    }\n",
       "\n",
       "    .dataframe tbody tr th {\n",
       "        vertical-align: top;\n",
       "    }\n",
       "\n",
       "    .dataframe thead th {\n",
       "        text-align: right;\n",
       "    }\n",
       "</style>\n",
       "<table border=\"1\" class=\"dataframe\">\n",
       "  <thead>\n",
       "    <tr style=\"text-align: right;\">\n",
       "      <th></th>\n",
       "      <th>Year</th>\n",
       "      <th>Month</th>\n",
       "      <th>Day</th>\n",
       "      <th>Minimum temperature (Degree C)</th>\n",
       "      <th>Maximum temperature (Degree C)</th>\n",
       "      <th>Rainfall amount (millimetres)</th>\n",
       "      <th>Quality</th>\n",
       "      <th>Date</th>\n",
       "    </tr>\n",
       "  </thead>\n",
       "  <tbody>\n",
       "    <tr>\n",
       "      <th>0</th>\n",
       "      <td>1944.0</td>\n",
       "      <td>6.0</td>\n",
       "      <td>3.0</td>\n",
       "      <td>11.0</td>\n",
       "      <td>22.3</td>\n",
       "      <td>0.0</td>\n",
       "      <td>N</td>\n",
       "      <td>1944-06-03</td>\n",
       "    </tr>\n",
       "    <tr>\n",
       "      <th>1</th>\n",
       "      <td>1944.0</td>\n",
       "      <td>6.0</td>\n",
       "      <td>4.0</td>\n",
       "      <td>12.2</td>\n",
       "      <td>23.4</td>\n",
       "      <td>0.0</td>\n",
       "      <td>Y</td>\n",
       "      <td>1944-06-04</td>\n",
       "    </tr>\n",
       "    <tr>\n",
       "      <th>2</th>\n",
       "      <td>1944.0</td>\n",
       "      <td>6.0</td>\n",
       "      <td>5.0</td>\n",
       "      <td>12.0</td>\n",
       "      <td>20.3</td>\n",
       "      <td>2.0</td>\n",
       "      <td>Y</td>\n",
       "      <td>1944-06-05</td>\n",
       "    </tr>\n",
       "    <tr>\n",
       "      <th>3</th>\n",
       "      <td>1944.0</td>\n",
       "      <td>6.0</td>\n",
       "      <td>6.0</td>\n",
       "      <td>7.4</td>\n",
       "      <td>18.7</td>\n",
       "      <td>3.3</td>\n",
       "      <td>Y</td>\n",
       "      <td>1944-06-06</td>\n",
       "    </tr>\n",
       "    <tr>\n",
       "      <th>4</th>\n",
       "      <td>1944.0</td>\n",
       "      <td>6.0</td>\n",
       "      <td>7.0</td>\n",
       "      <td>5.9</td>\n",
       "      <td>21.3</td>\n",
       "      <td>0.3</td>\n",
       "      <td>Y</td>\n",
       "      <td>1944-06-07</td>\n",
       "    </tr>\n",
       "    <tr>\n",
       "      <th>...</th>\n",
       "      <td>...</td>\n",
       "      <td>...</td>\n",
       "      <td>...</td>\n",
       "      <td>...</td>\n",
       "      <td>...</td>\n",
       "      <td>...</td>\n",
       "      <td>...</td>\n",
       "      <td>...</td>\n",
       "    </tr>\n",
       "    <tr>\n",
       "      <th>27642</th>\n",
       "      <td>1991.0</td>\n",
       "      <td>6.0</td>\n",
       "      <td>23.0</td>\n",
       "      <td>NaN</td>\n",
       "      <td>18.6</td>\n",
       "      <td>25.4</td>\n",
       "      <td>Y</td>\n",
       "      <td>None</td>\n",
       "    </tr>\n",
       "    <tr>\n",
       "      <th>27643</th>\n",
       "      <td>1997.0</td>\n",
       "      <td>1.0</td>\n",
       "      <td>1.0</td>\n",
       "      <td>NaN</td>\n",
       "      <td>43.5</td>\n",
       "      <td>0.0</td>\n",
       "      <td>Y</td>\n",
       "      <td>None</td>\n",
       "    </tr>\n",
       "    <tr>\n",
       "      <th>27644</th>\n",
       "      <td>1999.0</td>\n",
       "      <td>8.0</td>\n",
       "      <td>11.0</td>\n",
       "      <td>NaN</td>\n",
       "      <td>15.4</td>\n",
       "      <td>31.4</td>\n",
       "      <td>Y</td>\n",
       "      <td>None</td>\n",
       "    </tr>\n",
       "    <tr>\n",
       "      <th>27645</th>\n",
       "      <td>2018.0</td>\n",
       "      <td>5.0</td>\n",
       "      <td>26.0</td>\n",
       "      <td>NaN</td>\n",
       "      <td>18.8</td>\n",
       "      <td>27.4</td>\n",
       "      <td>N</td>\n",
       "      <td>None</td>\n",
       "    </tr>\n",
       "    <tr>\n",
       "      <th>27646</th>\n",
       "      <td>NaN</td>\n",
       "      <td>NaN</td>\n",
       "      <td>NaN</td>\n",
       "      <td>18.7</td>\n",
       "      <td>NaN</td>\n",
       "      <td>0.0</td>\n",
       "      <td>NaN</td>\n",
       "      <td>None</td>\n",
       "    </tr>\n",
       "  </tbody>\n",
       "</table>\n",
       "<p>27647 rows × 8 columns</p>\n",
       "</div>"
      ],
      "text/plain": [
       "         Year  Month   Day  Minimum temperature (Degree C)  \\\n",
       "0      1944.0    6.0   3.0                            11.0   \n",
       "1      1944.0    6.0   4.0                            12.2   \n",
       "2      1944.0    6.0   5.0                            12.0   \n",
       "3      1944.0    6.0   6.0                             7.4   \n",
       "4      1944.0    6.0   7.0                             5.9   \n",
       "...       ...    ...   ...                             ...   \n",
       "27642  1991.0    6.0  23.0                             NaN   \n",
       "27643  1997.0    1.0   1.0                             NaN   \n",
       "27644  1999.0    8.0  11.0                             NaN   \n",
       "27645  2018.0    5.0  26.0                             NaN   \n",
       "27646     NaN    NaN   NaN                            18.7   \n",
       "\n",
       "       Maximum temperature (Degree C)  Rainfall amount (millimetres) Quality  \\\n",
       "0                                22.3                            0.0       N   \n",
       "1                                23.4                            0.0       Y   \n",
       "2                                20.3                            2.0       Y   \n",
       "3                                18.7                            3.3       Y   \n",
       "4                                21.3                            0.3       Y   \n",
       "...                               ...                            ...     ...   \n",
       "27642                            18.6                           25.4       Y   \n",
       "27643                            43.5                            0.0       Y   \n",
       "27644                            15.4                           31.4       Y   \n",
       "27645                            18.8                           27.4       N   \n",
       "27646                             NaN                            0.0     NaN   \n",
       "\n",
       "             Date  \n",
       "0      1944-06-03  \n",
       "1      1944-06-04  \n",
       "2      1944-06-05  \n",
       "3      1944-06-06  \n",
       "4      1944-06-07  \n",
       "...           ...  \n",
       "27642        None  \n",
       "27643        None  \n",
       "27644        None  \n",
       "27645        None  \n",
       "27646        None  \n",
       "\n",
       "[27647 rows x 8 columns]"
      ]
     },
     "execution_count": 2,
     "metadata": {},
     "output_type": "execute_result"
    }
   ],
   "source": [
    "rainfall_df = PerthTempAndRainfall.loadData('/Users/ahmed/Downloads/Datasets/PerthTempAndRainfall')\n",
    "rainfall_df"
   ]
  },
  {
   "cell_type": "markdown",
   "metadata": {},
   "source": [
    "### Get Rainfall Series"
   ]
  },
  {
   "cell_type": "code",
   "execution_count": 4,
   "metadata": {
    "scrolled": true
   },
   "outputs": [
    {
     "name": "stdout",
     "output_type": "stream",
     "text": [
      "Rainfall data: datatype: float64, shape: (27647,), Contains NaN: False\n"
     ]
    }
   ],
   "source": [
    "rainfall_series = rainfall_df['Rainfall amount (millimetres)'].to_numpy()\n",
    "n = rainfall_series.shape[0]\n",
    "\n",
    "print(f'Rainfall data: datatype: {rainfall_series.dtype}, '\n",
    "    + f'shape: {rainfall_series.shape}, '\n",
    "    + f'Contains NaN: {np.isnan(rainfall_series).any()}')"
   ]
  },
  {
   "cell_type": "markdown",
   "metadata": {},
   "source": [
    "## Train-Test Split"
   ]
  },
  {
   "cell_type": "code",
   "execution_count": 74,
   "metadata": {},
   "outputs": [
    {
     "name": "stdout",
     "output_type": "stream",
     "text": [
      "Length of training series: 24882, Length of test series: 2765\n"
     ]
    }
   ],
   "source": [
    "train_frac = 0.90\n",
    "num_train = int(n * train_frac)\n",
    "\n",
    "print(f'Length of training series: {num_train}, '\n",
    "     + f'Length of test series: {n - num_train}')"
   ]
  },
  {
   "cell_type": "markdown",
   "metadata": {},
   "source": [
    "### Plot Entire Data"
   ]
  },
  {
   "cell_type": "code",
   "execution_count": 6,
   "metadata": {
    "scrolled": false
   },
   "outputs": [
    {
     "data": {
      "image/png": "[encoded data removed]",
      "text/plain": [
       "<Figure size 432x288 with 1 Axes>"
      ]
     },
     "metadata": {
      "needs_background": "light"
     },
     "output_type": "display_data"
    }
   ],
   "source": [
    "plt.plot(rainfall_series)\n",
    "plt.title('Entire Data')\n",
    "plt.show()"
   ]
  },
  {
   "cell_type": "markdown",
   "metadata": {},
   "source": [
    "### All Data Histogram"
   ]
  },
  {
   "cell_type": "code",
   "execution_count": 7,
   "metadata": {},
   "outputs": [
    {
     "data": {
      "image/png": "[encoded data removed]",
      "text/plain": [
       "<Figure size 1152x1152 with 1 Axes>"
      ]
     },
     "metadata": {
      "needs_background": "light"
     },
     "output_type": "display_data"
    }
   ],
   "source": [
    "bin_width = 5\n",
    "bins = np.arange(\n",
    "    rainfall_series.min(), rainfall_series.max() + 1, \n",
    "    bin_width\n",
    ")\n",
    "\n",
    "plt.figure(figsize=(16, 16))\n",
    "plt.hist(rainfall_series, bins)\n",
    "plt.xlabel('Rainfall Values')\n",
    "plt.ylabel('Count')\n",
    "plt.title('Rainfall Values Histogram Plot')\n",
    "plt.show()"
   ]
  },
  {
   "cell_type": "markdown",
   "metadata": {},
   "source": [
    "### Data histogram of values above a lower bound"
   ]
  },
  {
   "cell_type": "code",
   "execution_count": 8,
   "metadata": {},
   "outputs": [
    {
     "data": {
      "image/png": "[encoded data removed]",
      "text/plain": [
       "<Figure size 864x432 with 1 Axes>"
      ]
     },
     "metadata": {
      "needs_background": "light"
     },
     "output_type": "display_data"
    }
   ],
   "source": [
    "lower_bound = 20\n",
    "\n",
    "bounded_rainfall_series = \\\n",
    "    rainfall_series[rainfall_series > lower_bound]\n",
    "\n",
    "bin_width = 5\n",
    "bins = np.arange(\n",
    "    bounded_rainfall_series.min(), \n",
    "    bounded_rainfall_series.max() + 1, \n",
    "    bin_width\n",
    ")\n",
    "\n",
    "plt.figure(figsize=(12, 6))\n",
    "plt.hist(bounded_rainfall_series, bins)\n",
    "plt.xlabel('Rainfall Values')\n",
    "plt.ylabel('Count')\n",
    "plt.title('Rainfall Values Histogram Plot')\n",
    "plt.show()"
   ]
  },
  {
   "cell_type": "markdown",
   "metadata": {},
   "source": [
    "### Complementary Cumulative Data of values above a lower bound"
   ]
  },
  {
   "cell_type": "code",
   "execution_count": 10,
   "metadata": {},
   "outputs": [
    {
     "data": {
      "image/png": "[encoded data removed]",
      "text/plain": [
       "<Figure size 1152x576 with 1 Axes>"
      ]
     },
     "metadata": {
      "needs_background": "light"
     },
     "output_type": "display_data"
    }
   ],
   "source": [
    "lower_bound = 20\n",
    "\n",
    "bounded_count = dict()\n",
    "\n",
    "for rain_value in rainfall_series:\n",
    "    \n",
    "    if rain_value <= lower_bound:\n",
    "        continue\n",
    "    \n",
    "    if rain_value not in bounded_count:\n",
    "        bounded_count[rain_value] = 1\n",
    "    else:\n",
    "        bounded_count[rain_value] += 1\n",
    "        \n",
    "rainfall_count = list(bounded_count.items())\n",
    "rainfall_count.sort(key=lambda rain_count: rain_count[0])\n",
    "rainfall_arr, count_arr = list(zip(*rainfall_count))\n",
    "count_cusum_rev = [0] * len(count_arr)\n",
    "\n",
    "count_cusum_rev[-1] = count_arr[-1]\n",
    "for i in range(len(count_cusum_rev) - 2, -1, -1):\n",
    "    count_cusum_rev[i] = count_cusum_rev[i + 1] + count_arr[i]\n",
    "\n",
    "plt.figure(figsize=(16, 8))\n",
    "plt.plot(rainfall_arr, count_cusum_rev)\n",
    "plt.xlabel('Rainfall Values')\n",
    "plt.ylabel('Number of Values with equal or higher value')\n",
    "plt.title('Complementary Cumulative Plot')\n",
    "plt.show()"
   ]
  },
  {
   "cell_type": "markdown",
   "metadata": {},
   "source": [
    "## Computing Threshold Exceedances"
   ]
  },
  {
   "cell_type": "code",
   "execution_count": 11,
   "metadata": {},
   "outputs": [
    {
     "name": "stdout",
     "output_type": "stream",
     "text": [
      "Exceedances Series: datatype: float64, shape: (604,)\n"
     ]
    }
   ],
   "source": [
    "threshold = 20 # Rainfall in mm\n",
    "\n",
    "exceed_series = []\n",
    "\n",
    "for i in range(num_train):\n",
    "    \n",
    "    if rainfall_series[i] > threshold:\n",
    "        exceed_series.append(rainfall_series[i] - threshold)\n",
    "        \n",
    "exceed_series = np.array(exceed_series)\n",
    "\n",
    "print(f'Exceedances Series: datatype: {exceed_series.dtype}, '\n",
    "    + f'shape: {exceed_series.shape}')"
   ]
  },
  {
   "cell_type": "markdown",
   "metadata": {},
   "source": [
    "# Parameter Estimation of GEV fitted to Remainder Series"
   ]
  },
  {
   "cell_type": "code",
   "execution_count": 15,
   "metadata": {
    "scrolled": true
   },
   "outputs": [
    {
     "name": "stdout",
     "output_type": "stream",
     "text": [
      "Shape Parameter: 0.10855840612874654 \n",
      "Scale Parameter: 8.732771706736383 \n",
      "Log Likelihood: -1978.4872986001062\n"
     ]
    },
    {
     "data": {
      "image/png": "[encoded data removed]",
      "text/plain": [
       "<Figure size 432x288 with 1 Axes>"
      ]
     },
     "metadata": {
      "needs_background": "light"
     },
     "output_type": "display_data"
    }
   ],
   "source": [
    "params, max_log_likelihood, max_log_likelihood_vals = GpdEstimate.psoMethod(\n",
    "    exceed_series,\n",
    "    Pso.computeInitialPos([(-10, 10), (5, 30)], 200),\n",
    "    numIterations=120\n",
    ")\n",
    "\n",
    "shape, scale = params\n",
    "print(f'Shape Parameter: {shape} \\n'\n",
    "    + f'Scale Parameter: {scale} \\n'\n",
    "    + f'Log Likelihood: {max_log_likelihood}')\n",
    "\n",
    "plt.plot(max_log_likelihood_vals)\n",
    "plt.title('Convergence Plot')\n",
    "plt.xlabel('Num. Iterations')\n",
    "plt.ylabel('Log Likelihood Values')\n",
    "plt.show()"
   ]
  },
  {
   "cell_type": "code",
   "execution_count": 16,
   "metadata": {},
   "outputs": [],
   "source": [
    "gpd_dist = GeneralizedParetoDistribution(*tuple(params))"
   ]
  },
  {
   "cell_type": "code",
   "execution_count": 17,
   "metadata": {},
   "outputs": [
    {
     "data": {
      "image/png": "[encoded data removed]",
      "text/plain": [
       "<Figure size 432x288 with 1 Axes>"
      ]
     },
     "metadata": {
      "needs_background": "light"
     },
     "output_type": "display_data"
    },
    {
     "data": {
      "image/png": "[encoded data removed]",
      "text/plain": [
       "<Figure size 432x288 with 1 Axes>"
      ]
     },
     "metadata": {
      "needs_background": "light"
     },
     "output_type": "display_data"
    }
   ],
   "source": [
    "x = np.linspace(0, 100, 10000)\n",
    "\n",
    "plt.plot(x, gpd_dist.pdf(x))\n",
    "plt.title('PDF')\n",
    "plt.show()\n",
    "\n",
    "plt.plot(x, gpd_dist.cdf(x))\n",
    "plt.title('CDF')\n",
    "plt.show()"
   ]
  },
  {
   "cell_type": "markdown",
   "metadata": {},
   "source": [
    "# Algorithm"
   ]
  },
  {
   "cell_type": "markdown",
   "metadata": {},
   "source": [
    "## Part 1: Extreme Value CDF Prediction Algorithm"
   ]
  },
  {
   "cell_type": "markdown",
   "metadata": {},
   "source": [
    "### Build Model Architecture"
   ]
  },
  {
   "cell_type": "code",
   "execution_count": 56,
   "metadata": {},
   "outputs": [],
   "source": [
    "lag = 50\n",
    "\n",
    "model_extreme = Sequential([\n",
    "    Dense(16, activation='relu'),\n",
    "    Dense(32, activation='relu'),\n",
    "    Dense(64, activation='relu'),\n",
    "    Dense(32, activation='relu'),\n",
    "    Dense(16, activation='relu'),\n",
    "    Dense(1, activation='sigmoid'),\n",
    "])\n",
    "\n",
    "model_extreme.build(input_shape=(None, lag))\n",
    "model_extreme.compile(\n",
    "    optimizer=Adam(\n",
    "        ExponentialDecay(\n",
    "            0.01, 50, 0.9\n",
    "        )\n",
    "    ),\n",
    "    loss=tf.losses.MeanSquaredError()\n",
    ")"
   ]
  },
  {
   "cell_type": "markdown",
   "metadata": {},
   "source": [
    "### Build Training Data"
   ]
  },
  {
   "cell_type": "code",
   "execution_count": 65,
   "metadata": {
    "scrolled": true
   },
   "outputs": [
    {
     "name": "stdout",
     "output_type": "stream",
     "text": [
      "Input Data: datatype: float64, shape: (601, 50)\n",
      "Output Data: datatype: float64, shape: (601, 1)\n"
     ]
    }
   ],
   "source": [
    "input_data = []\n",
    "output_data = []\n",
    "\n",
    "for i in range(lag, num_train):\n",
    "    \n",
    "    if rainfall_series[i] > threshold:\n",
    "        input_data.append(rainfall_series[i - lag: i])\n",
    "        \n",
    "        exceedance = rainfall_series[i] - threshold\n",
    "        output_data.append(gpd_dist.cdf(exceedance))\n",
    "\n",
    "input_data = np.array(input_data)\n",
    "output_data = np.expand_dims(np.array(output_data), axis=1)\n",
    "\n",
    "print(f'Input Data: datatype: {input_data.dtype}, shape: {input_data.shape}')\n",
    "print(f'Output Data: datatype: {output_data.dtype}, shape: {output_data.shape}')"
   ]
  },
  {
   "cell_type": "code",
   "execution_count": 66,
   "metadata": {
    "scrolled": true
   },
   "outputs": [
    {
     "name": "stdout",
     "output_type": "stream",
     "text": [
      "First few inputs:\n",
      "array([[ 0. ,  2. ,  3.3,  0.3,  0. ,  0. ,  0. ,  9.9, 10.2, 14.7,  0.8,\n",
      "         0. ,  0. ,  0. ,  0. ,  0. ,  0. ,  0. ,  0. ,  0. ,  0. ,  0. ,\n",
      "        11.4,  5.1, 19.3,  0. ,  0. ,  0. , 26.9,  5.6,  0. ,  0. ,  0. ,\n",
      "         0. , 41.4,  1.8,  2.5,  0. ,  3.8,  0.5,  0.5,  0.3,  0. ,  0. ,\n",
      "         0. ,  0. ,  0. , 34.3,  0.8,  0. ],\n",
      "       [ 0. ,  0. ,  0. ,  0. ,  0. ,  0. , 11.4,  5.1, 19.3,  0. ,  0. ,\n",
      "         0. , 26.9,  5.6,  0. ,  0. ,  0. ,  0. , 41.4,  1.8,  2.5,  0. ,\n",
      "         3.8,  0.5,  0.5,  0.3,  0. ,  0. ,  0. ,  0. ,  0. , 34.3,  0.8,\n",
      "         0. , 34.3,  6.1, 10.9,  0.8,  5.6,  0. ,  0. ,  0. ,  0. ,  0. ,\n",
      "         0. ,  0. ,  0. ,  0. ,  0. ,  0. ],\n",
      "       [26.9,  5.6,  0. ,  0. ,  0. ,  0. , 41.4,  1.8,  2.5,  0. ,  3.8,\n",
      "         0.5,  0.5,  0.3,  0. ,  0. ,  0. ,  0. ,  0. , 34.3,  0.8,  0. ,\n",
      "        34.3,  6.1, 10.9,  0.8,  5.6,  0. ,  0. ,  0. ,  0. ,  0. ,  0. ,\n",
      "         0. ,  0. ,  0. ,  0. ,  0. , 50.3,  9.1,  0. ,  0. ,  0. ,  0. ,\n",
      "         0. ,  0.8,  0. ,  0. ,  0. ,  0. ],\n",
      "       [ 0. ,  0. ,  0.3,  0. ,  0.3,  0. ,  0. ,  0. ,  0. ,  0. ,  0. ,\n",
      "         1. ,  9.9,  0. ,  0. ,  0. ,  0. ,  0. ,  0. ,  0. ,  0. ,  0. ,\n",
      "         0. ,  0. ,  5.3,  0. ,  0. ,  0. ,  0. ,  0.8, 14.7,  1.8,  4.1,\n",
      "         0. ,  0. ,  0. ,  0. ,  0. ,  0. ,  0. ,  0.3,  0. ,  0. ,  0. ,\n",
      "         0. ,  0. ,  0.3,  2.5,  0. ,  2.5],\n",
      "       [ 0.5, 14.5,  0. ,  0.3,  0. ,  0. ,  0. ,  0. ,  0. ,  0. ,  0. ,\n",
      "         0. ,  0. ,  0. ,  4.1,  0. ,  0. ,  0. ,  0. ,  0. ,  0.3,  0. ,\n",
      "         0. ,  0. ,  0. ,  0. ,  0. ,  0. ,  0. ,  0. ,  1. ,  0.3,  0. ,\n",
      "         0. ,  0. ,  2. ,  0.8,  5.8,  0.5,  0. ,  0. ,  0. ,  0. ,  0. ,\n",
      "         3.6,  4.8,  0. ,  0. ,  0.8,  0.8]])\n",
      "\n",
      "First few outputs:\n",
      "array([[0.77847007],\n",
      "       [0.94737787],\n",
      "       [0.56917339],\n",
      "       [0.52142603],\n",
      "       [0.71659105]])\n",
      "\n",
      "Last few inputs:\n",
      "array([[ 0.2,  0.6,  3.6,  0. ,  7.6,  6.4,  0.2,  3.6,  0. ,  0. ,  0. ,\n",
      "         0. ,  0. ,  6.8,  4.4,  3.4, 16. ,  0.8,  0. ,  0. ,  6.2,  0. ,\n",
      "         0. , 49.4,  0. ,  0. ,  0. ,  0. ,  0. ,  0. ,  0. ,  5.2, 16.8,\n",
      "         0.2,  3.4,  0. ,  0. ,  8.6, 27.8,  8.4,  5.2,  0. ,  0. ,  0. ,\n",
      "         0. ,  0. ,  0. ,  3.2,  0. ,  1.8],\n",
      "       [ 0. ,  0. ,  6.2,  0. ,  0. , 49.4,  0. ,  0. ,  0. ,  0. ,  0. ,\n",
      "         0. ,  0. ,  5.2, 16.8,  0.2,  3.4,  0. ,  0. ,  8.6, 27.8,  8.4,\n",
      "         5.2,  0. ,  0. ,  0. ,  0. ,  0. ,  0. ,  3.2,  0. ,  1.8, 33. ,\n",
      "         6.8,  0.2,  0. ,  0. ,  0.4,  2. ,  4.2,  5.2,  0. ,  0. ,  5.8,\n",
      "         4.2,  2. ,  2.8,  0.2,  0. ,  0. ],\n",
      "       [ 0. ,  0. ,  0. ,  0. ,  0. ,  5.2, 16.8,  0.2,  3.4,  0. ,  0. ,\n",
      "         8.6, 27.8,  8.4,  5.2,  0. ,  0. ,  0. ,  0. ,  0. ,  0. ,  3.2,\n",
      "         0. ,  1.8, 33. ,  6.8,  0.2,  0. ,  0. ,  0.4,  2. ,  4.2,  5.2,\n",
      "         0. ,  0. ,  5.8,  4.2,  2. ,  2.8,  0.2,  0. ,  0. , 27.8,  2.8,\n",
      "        19.6, 17.4,  0. ,  0. ,  0. ,  0. ],\n",
      "       [ 0. ,  0. ,  0. ,  5.2, 16.8,  0.2,  3.4,  0. ,  0. ,  8.6, 27.8,\n",
      "         8.4,  5.2,  0. ,  0. ,  0. ,  0. ,  0. ,  0. ,  3.2,  0. ,  1.8,\n",
      "        33. ,  6.8,  0.2,  0. ,  0. ,  0.4,  2. ,  4.2,  5.2,  0. ,  0. ,\n",
      "         5.8,  4.2,  2. ,  2.8,  0.2,  0. ,  0. , 27.8,  2.8, 19.6, 17.4,\n",
      "         0. ,  0. ,  0. ,  0. , 20.4,  0.4],\n",
      "       [16.8,  0.2,  3.4,  0. ,  0. ,  8.6, 27.8,  8.4,  5.2,  0. ,  0. ,\n",
      "         0. ,  0. ,  0. ,  0. ,  3.2,  0. ,  1.8, 33. ,  6.8,  0.2,  0. ,\n",
      "         0. ,  0.4,  2. ,  4.2,  5.2,  0. ,  0. ,  5.8,  4.2,  2. ,  2.8,\n",
      "         0.2,  0. ,  0. , 27.8,  2.8, 19.6, 17.4,  0. ,  0. ,  0. ,  0. ,\n",
      "        20.4,  0.4, 22.4,  4.4,  4.6, 16.8]])\n",
      "\n",
      "Last few outputs:\n",
      "array([[0.748403  ],\n",
      "       [0.57364989],\n",
      "       [0.04466285],\n",
      "       [0.23723623],\n",
      "       [0.92421194]])\n",
      "\n"
     ]
    }
   ],
   "source": [
    "# First Few Data Points\n",
    "first_few = 5\n",
    "\n",
    "print('First few inputs:')\n",
    "pprint(input_data[:first_few])\n",
    "print()\n",
    "\n",
    "print(f'First few outputs:')\n",
    "pprint(output_data[:first_few])\n",
    "print()\n",
    "\n",
    "# Last Few Data Points\n",
    "last_few = 5\n",
    "\n",
    "print('Last few inputs:')\n",
    "pprint(input_data[-first_few:])\n",
    "print()\n",
    "\n",
    "print(f'Last few outputs:')\n",
    "pprint(output_data[-first_few:])\n",
    "print()"
   ]
  },
  {
   "cell_type": "markdown",
   "metadata": {},
   "source": [
    "### Train the Model"
   ]
  },
  {
   "cell_type": "code",
   "execution_count": 68,
   "metadata": {
    "scrolled": true
   },
   "outputs": [
    {
     "name": "stdout",
     "output_type": "stream",
     "text": [
      "Epoch 1/100\n",
      "19/19 [==============================] - 0s 2ms/step - loss: 4.2201e-04\n",
      "Epoch 2/100\n",
      "19/19 [==============================] - 0s 1ms/step - loss: 4.2189e-04\n",
      "Epoch 3/100\n",
      "19/19 [==============================] - 0s 1ms/step - loss: 4.2180e-04\n",
      "Epoch 4/100\n",
      "19/19 [==============================] - 0s 1ms/step - loss: 4.2168e-04\n",
      "Epoch 5/100\n",
      "19/19 [==============================] - 0s 1ms/step - loss: 4.2158e-04\n",
      "Epoch 6/100\n",
      "19/19 [==============================] - 0s 1ms/step - loss: 4.2147e-04\n",
      "Epoch 7/100\n",
      "19/19 [==============================] - 0s 1ms/step - loss: 4.2137e-04\n",
      "Epoch 8/100\n",
      "19/19 [==============================] - 0s 1ms/step - loss: 4.2129e-04\n",
      "Epoch 9/100\n",
      "19/19 [==============================] - 0s 1ms/step - loss: 4.2121e-04\n",
      "Epoch 10/100\n",
      "19/19 [==============================] - 0s 1ms/step - loss: 4.2112e-04\n",
      "Epoch 11/100\n",
      "19/19 [==============================] - 0s 1ms/step - loss: 4.2105e-04\n",
      "Epoch 12/100\n",
      "19/19 [==============================] - 0s 1ms/step - loss: 4.2097e-04\n",
      "Epoch 13/100\n",
      "19/19 [==============================] - 0s 1ms/step - loss: 4.2091e-04\n",
      "Epoch 14/100\n",
      "19/19 [==============================] - 0s 2ms/step - loss: 4.2080e-04\n",
      "Epoch 15/100\n",
      "19/19 [==============================] - 0s 1ms/step - loss: 4.2076e-04\n",
      "Epoch 16/100\n",
      "19/19 [==============================] - 0s 1ms/step - loss: 4.2069e-04\n",
      "Epoch 17/100\n",
      "19/19 [==============================] - 0s 1ms/step - loss: 4.2063e-04\n",
      "Epoch 18/100\n",
      "19/19 [==============================] - 0s 1ms/step - loss: 4.2056e-04\n",
      "Epoch 19/100\n",
      "19/19 [==============================] - 0s 1ms/step - loss: 4.2051e-04\n",
      "Epoch 20/100\n",
      "19/19 [==============================] - 0s 1ms/step - loss: 4.2042e-04\n",
      "Epoch 21/100\n",
      "19/19 [==============================] - 0s 1ms/step - loss: 4.2037e-04\n",
      "Epoch 22/100\n",
      "19/19 [==============================] - 0s 1ms/step - loss: 4.2033e-04\n",
      "Epoch 23/100\n",
      "19/19 [==============================] - 0s 1ms/step - loss: 4.2027e-04\n",
      "Epoch 24/100\n",
      "19/19 [==============================] - 0s 1ms/step - loss: 4.2021e-04\n",
      "Epoch 25/100\n",
      "19/19 [==============================] - 0s 1ms/step - loss: 4.2019e-04\n",
      "Epoch 26/100\n",
      "19/19 [==============================] - 0s 1ms/step - loss: 4.2012e-04\n",
      "Epoch 27/100\n",
      "19/19 [==============================] - 0s 1ms/step - loss: 4.2007e-04\n",
      "Epoch 28/100\n",
      "19/19 [==============================] - 0s 1ms/step - loss: 4.2004e-04\n",
      "Epoch 29/100\n",
      "19/19 [==============================] - 0s 1ms/step - loss: 4.1998e-04\n",
      "Epoch 30/100\n",
      "19/19 [==============================] - 0s 2ms/step - loss: 4.1994e-04\n",
      "Epoch 31/100\n",
      "19/19 [==============================] - 0s 1ms/step - loss: 4.1989e-04\n",
      "Epoch 32/100\n",
      "19/19 [==============================] - 0s 1ms/step - loss: 4.1985e-04\n",
      "Epoch 33/100\n",
      "19/19 [==============================] - 0s 2ms/step - loss: 4.1982e-04\n",
      "Epoch 34/100\n",
      "19/19 [==============================] - 0s 1ms/step - loss: 4.1978e-04\n",
      "Epoch 35/100\n",
      "19/19 [==============================] - 0s 1ms/step - loss: 4.1975e-04\n",
      "Epoch 36/100\n",
      "19/19 [==============================] - 0s 1ms/step - loss: 4.1972e-04\n",
      "Epoch 37/100\n",
      "19/19 [==============================] - 0s 1ms/step - loss: 4.1967e-04\n",
      "Epoch 38/100\n",
      "19/19 [==============================] - 0s 1ms/step - loss: 4.1964e-04\n",
      "Epoch 39/100\n",
      "19/19 [==============================] - 0s 1ms/step - loss: 4.1962e-04\n",
      "Epoch 40/100\n",
      "19/19 [==============================] - 0s 1ms/step - loss: 4.1958e-04\n",
      "Epoch 41/100\n",
      "19/19 [==============================] - 0s 2ms/step - loss: 4.1955e-04\n",
      "Epoch 42/100\n",
      "19/19 [==============================] - 0s 2ms/step - loss: 4.1953e-04\n",
      "Epoch 43/100\n",
      "19/19 [==============================] - 0s 2ms/step - loss: 4.1952e-04\n",
      "Epoch 44/100\n",
      "19/19 [==============================] - 0s 2ms/step - loss: 4.1948e-04\n",
      "Epoch 45/100\n",
      "19/19 [==============================] - 0s 2ms/step - loss: 4.1945e-04\n",
      "Epoch 46/100\n",
      "19/19 [==============================] - 0s 2ms/step - loss: 4.1943e-04\n",
      "Epoch 47/100\n",
      "19/19 [==============================] - 0s 2ms/step - loss: 4.1940e-04\n",
      "Epoch 48/100\n",
      "19/19 [==============================] - 0s 2ms/step - loss: 4.1938e-04\n",
      "Epoch 49/100\n",
      "19/19 [==============================] - 0s 1ms/step - loss: 4.1936e-04\n",
      "Epoch 50/100\n",
      "19/19 [==============================] - 0s 1ms/step - loss: 4.1934e-04\n",
      "Epoch 51/100\n",
      "19/19 [==============================] - 0s 1ms/step - loss: 4.1932e-04\n",
      "Epoch 52/100\n",
      "19/19 [==============================] - 0s 1ms/step - loss: 4.1930e-04\n",
      "Epoch 53/100\n",
      "19/19 [==============================] - 0s 1ms/step - loss: 4.1928e-04\n",
      "Epoch 54/100\n",
      "19/19 [==============================] - 0s 1ms/step - loss: 4.1926e-04\n",
      "Epoch 55/100\n",
      "19/19 [==============================] - 0s 1ms/step - loss: 4.1924e-04\n",
      "Epoch 56/100\n",
      "19/19 [==============================] - 0s 1ms/step - loss: 4.1922e-04\n",
      "Epoch 57/100\n",
      "19/19 [==============================] - 0s 1ms/step - loss: 4.1921e-04\n",
      "Epoch 58/100\n",
      "19/19 [==============================] - 0s 1ms/step - loss: 4.1919e-04\n",
      "Epoch 59/100\n",
      "19/19 [==============================] - 0s 1ms/step - loss: 4.1918e-04\n",
      "Epoch 60/100\n",
      "19/19 [==============================] - 0s 1ms/step - loss: 4.1917e-04\n",
      "Epoch 61/100\n",
      "19/19 [==============================] - 0s 1ms/step - loss: 4.1916e-04\n",
      "Epoch 62/100\n",
      "19/19 [==============================] - 0s 1ms/step - loss: 4.1913e-04\n",
      "Epoch 63/100\n",
      "19/19 [==============================] - 0s 1ms/step - loss: 4.1912e-04\n",
      "Epoch 64/100\n",
      "19/19 [==============================] - 0s 1ms/step - loss: 4.1911e-04\n",
      "Epoch 65/100\n",
      "19/19 [==============================] - 0s 1ms/step - loss: 4.1910e-04\n",
      "Epoch 66/100\n",
      "19/19 [==============================] - 0s 1ms/step - loss: 4.1908e-04\n",
      "Epoch 67/100\n",
      "19/19 [==============================] - 0s 1ms/step - loss: 4.1907e-04\n",
      "Epoch 68/100\n",
      "19/19 [==============================] - 0s 1ms/step - loss: 4.1906e-04\n",
      "Epoch 69/100\n",
      "19/19 [==============================] - 0s 1ms/step - loss: 4.1905e-04\n",
      "Epoch 70/100\n",
      "19/19 [==============================] - 0s 1ms/step - loss: 4.1903e-04\n",
      "Epoch 71/100\n",
      "19/19 [==============================] - 0s 1ms/step - loss: 4.1902e-04\n",
      "Epoch 72/100\n",
      "19/19 [==============================] - 0s 1ms/step - loss: 4.1901e-04\n",
      "Epoch 73/100\n",
      "19/19 [==============================] - 0s 1ms/step - loss: 4.1901e-04\n",
      "Epoch 74/100\n",
      "19/19 [==============================] - 0s 1ms/step - loss: 4.1900e-04\n",
      "Epoch 75/100\n",
      "19/19 [==============================] - 0s 1ms/step - loss: 4.1899e-04\n",
      "Epoch 76/100\n",
      "19/19 [==============================] - 0s 1ms/step - loss: 4.1898e-04\n",
      "Epoch 77/100\n",
      "19/19 [==============================] - 0s 1ms/step - loss: 4.1897e-04\n",
      "Epoch 78/100\n",
      "19/19 [==============================] - 0s 1ms/step - loss: 4.1897e-04\n",
      "Epoch 79/100\n",
      "19/19 [==============================] - 0s 1ms/step - loss: 4.1896e-04\n",
      "Epoch 80/100\n",
      "19/19 [==============================] - 0s 1ms/step - loss: 4.1895e-04\n",
      "Epoch 81/100\n",
      "19/19 [==============================] - 0s 1ms/step - loss: 4.1894e-04\n",
      "Epoch 82/100\n",
      "19/19 [==============================] - 0s 1ms/step - loss: 4.1894e-04\n",
      "Epoch 83/100\n",
      "19/19 [==============================] - 0s 1ms/step - loss: 4.1893e-04\n",
      "Epoch 84/100\n",
      "19/19 [==============================] - 0s 1ms/step - loss: 4.1892e-04\n",
      "Epoch 85/100\n",
      "19/19 [==============================] - 0s 1ms/step - loss: 4.1892e-04\n",
      "Epoch 86/100\n",
      "19/19 [==============================] - 0s 1ms/step - loss: 4.1891e-04\n",
      "Epoch 87/100\n",
      "19/19 [==============================] - 0s 1ms/step - loss: 4.1890e-04\n",
      "Epoch 88/100\n",
      "19/19 [==============================] - 0s 1ms/step - loss: 4.1890e-04\n",
      "Epoch 89/100\n",
      "19/19 [==============================] - 0s 1ms/step - loss: 4.1890e-04\n",
      "Epoch 90/100\n",
      "19/19 [==============================] - 0s 1ms/step - loss: 4.1889e-04\n",
      "Epoch 91/100\n",
      "19/19 [==============================] - 0s 1ms/step - loss: 4.1889e-04\n",
      "Epoch 92/100\n",
      "19/19 [==============================] - 0s 1ms/step - loss: 4.1888e-04\n",
      "Epoch 93/100\n",
      "19/19 [==============================] - 0s 1ms/step - loss: 4.1888e-04\n",
      "Epoch 94/100\n",
      "19/19 [==============================] - 0s 1ms/step - loss: 4.1887e-04\n",
      "Epoch 95/100\n",
      "19/19 [==============================] - 0s 1ms/step - loss: 4.1887e-04\n",
      "Epoch 96/100\n",
      "19/19 [==============================] - 0s 1ms/step - loss: 4.1887e-04\n",
      "Epoch 97/100\n"
     ]
    },
    {
     "name": "stdout",
     "output_type": "stream",
     "text": [
      "19/19 [==============================] - 0s 1ms/step - loss: 4.1886e-04\n",
      "Epoch 98/100\n",
      "19/19 [==============================] - 0s 1ms/step - loss: 4.1886e-04\n",
      "Epoch 99/100\n",
      "19/19 [==============================] - 0s 2ms/step - loss: 4.1886e-04\n",
      "Epoch 100/100\n",
      "19/19 [==============================] - 0s 2ms/step - loss: 4.1885e-04\n"
     ]
    },
    {
     "data": {
      "text/plain": [
       "[<matplotlib.lines.Line2D at 0x7ffcfa044a90>]"
      ]
     },
     "execution_count": 68,
     "metadata": {},
     "output_type": "execute_result"
    },
    {
     "data": {
      "image/png": "[encoded data removed]",
      "text/plain": [
       "<Figure size 432x288 with 1 Axes>"
      ]
     },
     "metadata": {
      "needs_background": "light"
     },
     "output_type": "display_data"
    }
   ],
   "source": [
    "history = model_extreme.fit(input_data, output_data, epochs=100)\n",
    "plt.plot(history.history['loss'])"
   ]
  },
  {
   "cell_type": "markdown",
   "metadata": {},
   "source": [
    "### Compute Test Loss"
   ]
  },
  {
   "cell_type": "code",
   "execution_count": 22,
   "metadata": {
    "scrolled": true
   },
   "outputs": [
    {
     "name": "stdout",
     "output_type": "stream",
     "text": [
      "Input Test Data: datatype: float64, shape: (85, 50)\n",
      "Output Test Data: datatype: float64, shape: (85, 1)\n",
      "\n",
      "Test Loss (CDF): 0.13448944687843323\n",
      "Test Loss (Actual): 161.95091247558594\n"
     ]
    }
   ],
   "source": [
    "input_data = []\n",
    "output_data = []\n",
    "output_actual = []\n",
    "\n",
    "for i in range(max(num_train, lag), n):\n",
    "    \n",
    "    if rainfall_series[i] > threshold:\n",
    "        input_data.append(rainfall_series[i - lag: i])\n",
    "        \n",
    "        exceedance = rainfall_series[i] - threshold\n",
    "        output_data.append(gpd_dist.cdf(exceedance))\n",
    "        \n",
    "        output_actual.append(rainfall_series[i])\n",
    "\n",
    "input_data = np.array(input_data)\n",
    "output_data = np.expand_dims(np.array(output_data), axis=1)\n",
    "output_actual = np.expand_dims(np.array(output_actual), axis=1)\n",
    "\n",
    "print(f'Input Test Data: datatype: {input_data.dtype}, shape: {input_data.shape}')\n",
    "print(f'Output Test Data: datatype: {output_data.dtype}, shape: {output_data.shape}')\n",
    "print('')\n",
    "\n",
    "true_val = output_data\n",
    "pred_val = model_extreme.predict(input_data)\n",
    "pred_actual = threshold + gpd_dist.computeQuantile(pred_val)\n",
    "\n",
    "test_loss_cdf = MeanSquaredError()(true_val, pred_val)\n",
    "print(f'Test Loss (CDF): {test_loss_cdf}')\n",
    "\n",
    "test_loss = MeanSquaredError()(output_actual, pred_actual)\n",
    "print(f'Test Loss (Actual): {test_loss}')"
   ]
  },
  {
   "cell_type": "markdown",
   "metadata": {},
   "source": [
    "## Part 2: Extreme Value Detection (Classification) Algorithm"
   ]
  },
  {
   "cell_type": "code",
   "execution_count": 140,
   "metadata": {},
   "outputs": [],
   "source": [
    "class MlpEnsemble:\n",
    "    \n",
    "    def get_model(self, lag):\n",
    "        \n",
    "        model = Sequential([\n",
    "            Dense(16, activation='relu'),\n",
    "            Dense(32, activation='relu'),\n",
    "            Dense(64, activation='relu'),\n",
    "            Dense(128, activation='relu'),\n",
    "            Dense(64, activation='relu'),\n",
    "            Dense(32, activation='relu'),\n",
    "            Dense(16, activation='relu'),\n",
    "            Dense(1, activation='linear'),\n",
    "        ])\n",
    "        \n",
    "        model.build(input_shape=(None, lag))\n",
    "        model.compile(\n",
    "            optimizer=Adam(\n",
    "                ExponentialDecay(\n",
    "                    1e-3, 50, 0.9\n",
    "                )\n",
    "            ),\n",
    "            loss=BinaryCrossentropy(from_logits=True)\n",
    "        )\n",
    "        \n",
    "        return model\n",
    "    \n",
    "    def __init__(self, lag, num_models=10):\n",
    "        \n",
    "        self.models = [self.get_model(lag) for _ in range(num_models)]\n",
    "        \n",
    "    def train(self, input_data, output_data, each_model_epochs):\n",
    "        \n",
    "        pos_data = []\n",
    "        neg_data = []\n",
    "        \n",
    "        for i in range(input_data.shape[0]):\n",
    "            \n",
    "            if output_data[i, 0] == 1:\n",
    "                pos_data.append((input_data[i], output_data[i]))\n",
    "                \n",
    "            else:\n",
    "                neg_data.append((input_data[i], output_data[i]))\n",
    "        \n",
    "        assert len(pos_data) < len(neg_data)\n",
    "        \n",
    "        losses = np.zeros(each_model_epochs)\n",
    "        \n",
    "        for model in self.models:\n",
    "            \n",
    "            data = pos_data.copy()\n",
    "            data.extend(random.sample(neg_data, k=len(pos_data)))\n",
    "            \n",
    "            input_data, output_data = [], []\n",
    "            for inp, out in data:\n",
    "                input_data.append(inp)\n",
    "                output_data.append(out)\n",
    "                \n",
    "            input_data = np.array(input_data)\n",
    "            output_data = np.array(output_data)\n",
    "        \n",
    "            history = model.fit(\n",
    "                input_data, \n",
    "                output_data, \n",
    "                epochs=each_model_epochs,\n",
    "                verbose=0\n",
    "            )\n",
    "            \n",
    "            losses += np.array(history.history['loss'])\n",
    "                \n",
    "        losses /= len(self.models)\n",
    "        return losses\n",
    "    \n",
    "    def predict(self, input_data):\n",
    "        \n",
    "        num_pos = np.zeros((input_data.shape[0], 1), dtype=np.int64)\n",
    "        num_neg = np.zeros((input_data.shape[0], 1), dtype=np.int64)\n",
    "        \n",
    "        for model in self.models:\n",
    "            \n",
    "            model_out = model.predict(input_data)\n",
    "            model_pred = (tf.sigmoid(model_out).numpy() > 0.5) \\\n",
    "                .astype(np.int64)\n",
    "            \n",
    "            num_pos += model_pred\n",
    "            num_neg += (1 - model_pred)\n",
    "            \n",
    "        pred = (num_pos > num_neg).astype(np.int64)\n",
    "        return pred"
   ]
  },
  {
   "cell_type": "code",
   "execution_count": 141,
   "metadata": {},
   "outputs": [],
   "source": [
    "model_detect = MlpEnsemble(lag=50, num_models=10)"
   ]
  },
  {
   "cell_type": "markdown",
   "metadata": {},
   "source": [
    "### Build Training Data"
   ]
  },
  {
   "cell_type": "code",
   "execution_count": 142,
   "metadata": {},
   "outputs": [
    {
     "name": "stdout",
     "output_type": "stream",
     "text": [
      "Input Data: datatype: float64, shape: (24832, 50)\n",
      "Output Data: datatype: int64, shape: (24832, 1)\n"
     ]
    }
   ],
   "source": [
    "input_data = []\n",
    "output_data = []\n",
    "\n",
    "for i in range(lag, num_train):\n",
    "    \n",
    "    input_data.append(rainfall_series[i - lag: i])\n",
    "    \n",
    "    if rainfall_series[i] > threshold:\n",
    "        output_data.append(1)\n",
    "    \n",
    "    else:\n",
    "        output_data.append(0)\n",
    "\n",
    "        \n",
    "input_data = np.array(input_data)\n",
    "output_data = np.expand_dims(np.array(output_data), axis=1)\n",
    "\n",
    "print(f'Input Data: datatype: {input_data.dtype}, shape: {input_data.shape}')\n",
    "print(f'Output Data: datatype: {output_data.dtype}, shape: {output_data.shape}')"
   ]
  },
  {
   "cell_type": "code",
   "execution_count": 143,
   "metadata": {
    "scrolled": true
   },
   "outputs": [
    {
     "name": "stdout",
     "output_type": "stream",
     "text": [
      "First few inputs:\n",
      "array([[ 0. ,  0. ,  2. ,  3.3,  0.3,  0. ,  0. ,  0. ,  9.9, 10.2, 14.7,\n",
      "         0.8,  0. ,  0. ,  0. ,  0. ,  0. ,  0. ,  0. ,  0. ,  0. ,  0. ,\n",
      "         0. , 11.4,  5.1, 19.3,  0. ,  0. ,  0. , 26.9,  5.6,  0. ,  0. ,\n",
      "         0. ,  0. , 41.4,  1.8,  2.5,  0. ,  3.8,  0.5,  0.5,  0.3,  0. ,\n",
      "         0. ,  0. ,  0. ,  0. , 34.3,  0.8],\n",
      "       [ 0. ,  2. ,  3.3,  0.3,  0. ,  0. ,  0. ,  9.9, 10.2, 14.7,  0.8,\n",
      "         0. ,  0. ,  0. ,  0. ,  0. ,  0. ,  0. ,  0. ,  0. ,  0. ,  0. ,\n",
      "        11.4,  5.1, 19.3,  0. ,  0. ,  0. , 26.9,  5.6,  0. ,  0. ,  0. ,\n",
      "         0. , 41.4,  1.8,  2.5,  0. ,  3.8,  0.5,  0.5,  0.3,  0. ,  0. ,\n",
      "         0. ,  0. ,  0. , 34.3,  0.8,  0. ],\n",
      "       [ 2. ,  3.3,  0.3,  0. ,  0. ,  0. ,  9.9, 10.2, 14.7,  0.8,  0. ,\n",
      "         0. ,  0. ,  0. ,  0. ,  0. ,  0. ,  0. ,  0. ,  0. ,  0. , 11.4,\n",
      "         5.1, 19.3,  0. ,  0. ,  0. , 26.9,  5.6,  0. ,  0. ,  0. ,  0. ,\n",
      "        41.4,  1.8,  2.5,  0. ,  3.8,  0.5,  0.5,  0.3,  0. ,  0. ,  0. ,\n",
      "         0. ,  0. , 34.3,  0.8,  0. , 34.3],\n",
      "       [ 3.3,  0.3,  0. ,  0. ,  0. ,  9.9, 10.2, 14.7,  0.8,  0. ,  0. ,\n",
      "         0. ,  0. ,  0. ,  0. ,  0. ,  0. ,  0. ,  0. ,  0. , 11.4,  5.1,\n",
      "        19.3,  0. ,  0. ,  0. , 26.9,  5.6,  0. ,  0. ,  0. ,  0. , 41.4,\n",
      "         1.8,  2.5,  0. ,  3.8,  0.5,  0.5,  0.3,  0. ,  0. ,  0. ,  0. ,\n",
      "         0. , 34.3,  0.8,  0. , 34.3,  6.1],\n",
      "       [ 0.3,  0. ,  0. ,  0. ,  9.9, 10.2, 14.7,  0.8,  0. ,  0. ,  0. ,\n",
      "         0. ,  0. ,  0. ,  0. ,  0. ,  0. ,  0. ,  0. , 11.4,  5.1, 19.3,\n",
      "         0. ,  0. ,  0. , 26.9,  5.6,  0. ,  0. ,  0. ,  0. , 41.4,  1.8,\n",
      "         2.5,  0. ,  3.8,  0.5,  0.5,  0.3,  0. ,  0. ,  0. ,  0. ,  0. ,\n",
      "        34.3,  0.8,  0. , 34.3,  6.1, 10.9]])\n",
      "\n",
      "First few outputs:\n",
      "array([[0],\n",
      "       [1],\n",
      "       [0],\n",
      "       [0],\n",
      "       [0]])\n",
      "\n",
      "Last few inputs:\n",
      "array([[ 9.8,  2.2,  0. ,  0. ,  0. ,  0. ,  1. ,  0. ,  0. ,  0. ,  0. ,\n",
      "         0. ,  0. ,  9.8,  1. ,  4.6,  1.4, 12.2,  0. ,  0. ,  8.2,  2.8,\n",
      "        14.8,  2.8,  0. ,  0. ,  0. ,  0. ,  1.2,  1.2,  0. ,  0. ,  0. ,\n",
      "         2. ,  0. ,  0. ,  0. ,  0. ,  0. ,  3.8,  1.4,  0. ,  0. ,  0. ,\n",
      "         0. ,  0. ,  0. ,  2.8,  0.6,  0. ],\n",
      "       [ 2.2,  0. ,  0. ,  0. ,  0. ,  1. ,  0. ,  0. ,  0. ,  0. ,  0. ,\n",
      "         0. ,  9.8,  1. ,  4.6,  1.4, 12.2,  0. ,  0. ,  8.2,  2.8, 14.8,\n",
      "         2.8,  0. ,  0. ,  0. ,  0. ,  1.2,  1.2,  0. ,  0. ,  0. ,  2. ,\n",
      "         0. ,  0. ,  0. ,  0. ,  0. ,  3.8,  1.4,  0. ,  0. ,  0. ,  0. ,\n",
      "         0. ,  0. ,  2.8,  0.6,  0. ,  0. ],\n",
      "       [ 0. ,  0. ,  0. ,  0. ,  1. ,  0. ,  0. ,  0. ,  0. ,  0. ,  0. ,\n",
      "         9.8,  1. ,  4.6,  1.4, 12.2,  0. ,  0. ,  8.2,  2.8, 14.8,  2.8,\n",
      "         0. ,  0. ,  0. ,  0. ,  1.2,  1.2,  0. ,  0. ,  0. ,  2. ,  0. ,\n",
      "         0. ,  0. ,  0. ,  0. ,  3.8,  1.4,  0. ,  0. ,  0. ,  0. ,  0. ,\n",
      "         0. ,  2.8,  0.6,  0. ,  0. ,  0. ],\n",
      "       [ 0. ,  0. ,  0. ,  1. ,  0. ,  0. ,  0. ,  0. ,  0. ,  0. ,  9.8,\n",
      "         1. ,  4.6,  1.4, 12.2,  0. ,  0. ,  8.2,  2.8, 14.8,  2.8,  0. ,\n",
      "         0. ,  0. ,  0. ,  1.2,  1.2,  0. ,  0. ,  0. ,  2. ,  0. ,  0. ,\n",
      "         0. ,  0. ,  0. ,  3.8,  1.4,  0. ,  0. ,  0. ,  0. ,  0. ,  0. ,\n",
      "         2.8,  0.6,  0. ,  0. ,  0. ,  0. ],\n",
      "       [ 0. ,  0. ,  1. ,  0. ,  0. ,  0. ,  0. ,  0. ,  0. ,  9.8,  1. ,\n",
      "         4.6,  1.4, 12.2,  0. ,  0. ,  8.2,  2.8, 14.8,  2.8,  0. ,  0. ,\n",
      "         0. ,  0. ,  1.2,  1.2,  0. ,  0. ,  0. ,  2. ,  0. ,  0. ,  0. ,\n",
      "         0. ,  0. ,  3.8,  1.4,  0. ,  0. ,  0. ,  0. ,  0. ,  0. ,  2.8,\n",
      "         0.6,  0. ,  0. ,  0. ,  0. ,  0. ]])\n",
      "\n",
      "Last few outputs:\n",
      "array([[0],\n",
      "       [0],\n",
      "       [0],\n",
      "       [0],\n",
      "       [0]])\n",
      "\n"
     ]
    }
   ],
   "source": [
    "# First Few Data Points\n",
    "first_few = 5\n",
    "\n",
    "print('First few inputs:')\n",
    "pprint(input_data[:first_few])\n",
    "print()\n",
    "\n",
    "print(f'First few outputs:')\n",
    "pprint(output_data[:first_few])\n",
    "print()\n",
    "\n",
    "# Last Few Data Points\n",
    "last_few = 5\n",
    "\n",
    "print('Last few inputs:')\n",
    "pprint(input_data[-first_few:])\n",
    "print()\n",
    "\n",
    "print(f'Last few outputs:')\n",
    "pprint(output_data[-first_few:])\n",
    "print()"
   ]
  },
  {
   "cell_type": "code",
   "execution_count": 144,
   "metadata": {
    "scrolled": true
   },
   "outputs": [
    {
     "data": {
      "text/plain": [
       "[<matplotlib.lines.Line2D at 0x7ffcf6eb6ef0>]"
      ]
     },
     "execution_count": 144,
     "metadata": {},
     "output_type": "execute_result"
    },
    {
     "data": {
      "image/png": "[encoded data removed]",
      "text/plain": [
       "<Figure size 432x288 with 1 Axes>"
      ]
     },
     "metadata": {
      "needs_background": "light"
     },
     "output_type": "display_data"
    }
   ],
   "source": [
    "losses = model_detect.train(input_data, output_data, 20)\n",
    "plt.plot(losses)"
   ]
  },
  {
   "cell_type": "code",
   "execution_count": 145,
   "metadata": {},
   "outputs": [
    {
     "name": "stdout",
     "output_type": "stream",
     "text": [
      "Train: True Pos: 581, Total Pos: 628\n",
      "Train: True Neg: 16954, Total Neg: 24204\n"
     ]
    }
   ],
   "source": [
    "is_pos = output_data == 1.\n",
    "\n",
    "num_true_pos = np.sum(model_detect.predict(input_data)[is_pos])\n",
    "total_pos = np.sum(is_pos)\n",
    "\n",
    "is_neg = np.logical_not(is_pos)\n",
    "num_true_neg = np.sum(1 - model_detect.predict(input_data)[is_neg])\n",
    "total_neg = np.sum(is_neg)\n",
    "\n",
    "print(f'Train: True Pos: {num_true_pos}, Total Pos: {total_pos}')\n",
    "print(f'Train: True Neg: {num_true_neg}, Total Neg: {total_neg}')"
   ]
  },
  {
   "cell_type": "markdown",
   "metadata": {},
   "source": [
    "## Part 3: Normal Value Prediction Algorithm"
   ]
  },
  {
   "cell_type": "code",
   "execution_count": 28,
   "metadata": {},
   "outputs": [
    {
     "name": "stdout",
     "output_type": "stream",
     "text": [
      "Input Test Data: datatype: float32, shape: (4148, 50)\n",
      "Output Test Data: datatype: float32, shape: (4148, 1)\n",
      "\n",
      "Test Loss: 1.6203299760818481\n"
     ]
    }
   ],
   "source": [
    "input_data = []\n",
    "output_data = []\n",
    "\n",
    "for i in range(max(num_train, lag), n):\n",
    "    \n",
    "    input_data.append(rainfall_series[i - lag: i])\n",
    "    \n",
    "    if rainfall_series[i] > threshold:\n",
    "        output_data.append(1.0)\n",
    "    \n",
    "    else:\n",
    "        output_data.append(0.0)\n",
    "\n",
    "input_data = np.array(input_data, dtype=np.float32)\n",
    "output_data = np.expand_dims(np.array(output_data, dtype=np.float32), axis=1)\n",
    "\n",
    "print(f'Input Test Data: datatype: {input_data.dtype}, shape: {input_data.shape}')\n",
    "print(f'Output Test Data: datatype: {output_data.dtype}, shape: {output_data.shape}')\n",
    "print('')\n",
    "\n",
    "true_val = output_data\n",
    "pred_val = model_detect.predict(input_data)\n",
    "\n",
    "test_loss = loss_func(true_val, pred_val)\n",
    "print(f'Test Loss: {test_loss}')"
   ]
  },
  {
   "cell_type": "code",
   "execution_count": 29,
   "metadata": {},
   "outputs": [
    {
     "name": "stdout",
     "output_type": "stream",
     "text": [
      "Test: True Pos: 85, Total Pos: 85\n",
      "Test: True Neg: 0, Total Neg: 4063\n"
     ]
    }
   ],
   "source": [
    "is_pos = output_data == 1.\n",
    "\n",
    "num_true_pos = np.sum(tf.sigmoid(model_detect.predict(input_data)[is_pos]).numpy() > 0.5)\n",
    "total_pos = np.sum(is_pos)\n",
    "\n",
    "is_neg = np.logical_not(is_pos)\n",
    "num_true_neg = np.sum(tf.sigmoid(model_detect.predict(input_data)[is_neg]).numpy() <= 0.5)\n",
    "total_neg = np.sum(is_neg)\n",
    "\n",
    "print(f'Test: True Pos: {num_true_pos}, Total Pos: {total_pos}')\n",
    "print(f'Test: True Neg: {num_true_neg}, Total Neg: {total_neg}')"
   ]
  },
  {
   "cell_type": "code",
   "execution_count": 30,
   "metadata": {},
   "outputs": [],
   "source": [
    "model_normal = Sequential([\n",
    "    Dense(16, activation='relu'),\n",
    "    Dense(32, activation='relu'),\n",
    "    Dense(64, activation='relu'),\n",
    "    Dense(32, activation='relu'),\n",
    "    Dense(16, activation='relu'),\n",
    "    Dense(1, activation='linear'),\n",
    "])    \n",
    "    \n",
    "model_normal.build(input_shape=(None, lag))\n",
    "model_normal.compile(\n",
    "    optimizer=Adam(\n",
    "        ExponentialDecay(\n",
    "            0.01, 50, 0.9\n",
    "        )\n",
    "    ),\n",
    "    loss=MeanSquaredError()\n",
    ")"
   ]
  },
  {
   "cell_type": "markdown",
   "metadata": {},
   "source": [
    "### Build Training Data"
   ]
  },
  {
   "cell_type": "code",
   "execution_count": 31,
   "metadata": {},
   "outputs": [
    {
     "name": "stdout",
     "output_type": "stream",
     "text": [
      "Input Data: datatype: float64, shape: (22848, 50)\n",
      "Output Data: datatype: float64, shape: (22848, 1)\n"
     ]
    }
   ],
   "source": [
    "input_data = []\n",
    "output_data = []\n",
    "\n",
    "for i in range(lag, num_train):\n",
    "    \n",
    "    if rainfall_series[i] <= threshold:\n",
    "        input_data.append(rainfall_series[i - lag: i])\n",
    "        output_data.append(rainfall_series[i])\n",
    "\n",
    "input_data = np.array(input_data)\n",
    "output_data = np.expand_dims(np.array(output_data), axis=1)\n",
    "\n",
    "print(f'Input Data: datatype: {input_data.dtype}, shape: {input_data.shape}')\n",
    "print(f'Output Data: datatype: {output_data.dtype}, shape: {output_data.shape}')"
   ]
  },
  {
   "cell_type": "code",
   "execution_count": 32,
   "metadata": {
    "scrolled": true
   },
   "outputs": [
    {
     "name": "stdout",
     "output_type": "stream",
     "text": [
      "First few inputs:\n",
      "array([[ 0. ,  0. ,  2. ,  3.3,  0.3,  0. ,  0. ,  0. ,  9.9, 10.2, 14.7,\n",
      "         0.8,  0. ,  0. ,  0. ,  0. ,  0. ,  0. ,  0. ,  0. ,  0. ,  0. ,\n",
      "         0. , 11.4,  5.1, 19.3,  0. ,  0. ,  0. , 26.9,  5.6,  0. ,  0. ,\n",
      "         0. ,  0. , 41.4,  1.8,  2.5,  0. ,  3.8,  0.5,  0.5,  0.3,  0. ,\n",
      "         0. ,  0. ,  0. ,  0. , 34.3,  0.8],\n",
      "       [ 2. ,  3.3,  0.3,  0. ,  0. ,  0. ,  9.9, 10.2, 14.7,  0.8,  0. ,\n",
      "         0. ,  0. ,  0. ,  0. ,  0. ,  0. ,  0. ,  0. ,  0. ,  0. , 11.4,\n",
      "         5.1, 19.3,  0. ,  0. ,  0. , 26.9,  5.6,  0. ,  0. ,  0. ,  0. ,\n",
      "        41.4,  1.8,  2.5,  0. ,  3.8,  0.5,  0.5,  0.3,  0. ,  0. ,  0. ,\n",
      "         0. ,  0. , 34.3,  0.8,  0. , 34.3],\n",
      "       [ 3.3,  0.3,  0. ,  0. ,  0. ,  9.9, 10.2, 14.7,  0.8,  0. ,  0. ,\n",
      "         0. ,  0. ,  0. ,  0. ,  0. ,  0. ,  0. ,  0. ,  0. , 11.4,  5.1,\n",
      "        19.3,  0. ,  0. ,  0. , 26.9,  5.6,  0. ,  0. ,  0. ,  0. , 41.4,\n",
      "         1.8,  2.5,  0. ,  3.8,  0.5,  0.5,  0.3,  0. ,  0. ,  0. ,  0. ,\n",
      "         0. , 34.3,  0.8,  0. , 34.3,  6.1],\n",
      "       [ 0.3,  0. ,  0. ,  0. ,  9.9, 10.2, 14.7,  0.8,  0. ,  0. ,  0. ,\n",
      "         0. ,  0. ,  0. ,  0. ,  0. ,  0. ,  0. ,  0. , 11.4,  5.1, 19.3,\n",
      "         0. ,  0. ,  0. , 26.9,  5.6,  0. ,  0. ,  0. ,  0. , 41.4,  1.8,\n",
      "         2.5,  0. ,  3.8,  0.5,  0.5,  0.3,  0. ,  0. ,  0. ,  0. ,  0. ,\n",
      "        34.3,  0.8,  0. , 34.3,  6.1, 10.9],\n",
      "       [ 0. ,  0. ,  0. ,  9.9, 10.2, 14.7,  0.8,  0. ,  0. ,  0. ,  0. ,\n",
      "         0. ,  0. ,  0. ,  0. ,  0. ,  0. ,  0. , 11.4,  5.1, 19.3,  0. ,\n",
      "         0. ,  0. , 26.9,  5.6,  0. ,  0. ,  0. ,  0. , 41.4,  1.8,  2.5,\n",
      "         0. ,  3.8,  0.5,  0.5,  0.3,  0. ,  0. ,  0. ,  0. ,  0. , 34.3,\n",
      "         0.8,  0. , 34.3,  6.1, 10.9,  0.8]])\n",
      "\n",
      "First few outputs:\n",
      "array([[ 0. ],\n",
      "       [ 6.1],\n",
      "       [10.9],\n",
      "       [ 0.8],\n",
      "       [ 5.6]])\n",
      "\n",
      "Last few inputs:\n",
      "array([[ 0. , 12.6,  2. , 19.8,  0. ,  3. ,  0. ,  0. ,  0. ,  0. ,  0. ,\n",
      "         1. ,  1.2,  0. ,  0. ,  0. ,  0. ,  0. ,  1. ,  1.2,  0. ,  0. ,\n",
      "         0. ,  0. ,  0. ,  0. ,  0. ,  0. ,  0. ,  1. ,  0. ,  0. ,  0. ,\n",
      "         0. ,  0. ,  0. ,  0. ,  0. ,  0. ,  0. ,  0. ,  0. ,  0. ,  0. ,\n",
      "         0. ,  0. ,  0. ,  0. ,  0. ,  0. ],\n",
      "       [12.6,  2. , 19.8,  0. ,  3. ,  0. ,  0. ,  0. ,  0. ,  0. ,  1. ,\n",
      "         1.2,  0. ,  0. ,  0. ,  0. ,  0. ,  1. ,  1.2,  0. ,  0. ,  0. ,\n",
      "         0. ,  0. ,  0. ,  0. ,  0. ,  0. ,  1. ,  0. ,  0. ,  0. ,  0. ,\n",
      "         0. ,  0. ,  0. ,  0. ,  0. ,  0. ,  0. ,  0. ,  0. ,  0. ,  0. ,\n",
      "         0. ,  0. ,  0. ,  0. ,  0. ,  0. ],\n",
      "       [ 2. , 19.8,  0. ,  3. ,  0. ,  0. ,  0. ,  0. ,  0. ,  1. ,  1.2,\n",
      "         0. ,  0. ,  0. ,  0. ,  0. ,  1. ,  1.2,  0. ,  0. ,  0. ,  0. ,\n",
      "         0. ,  0. ,  0. ,  0. ,  0. ,  1. ,  0. ,  0. ,  0. ,  0. ,  0. ,\n",
      "         0. ,  0. ,  0. ,  0. ,  0. ,  0. ,  0. ,  0. ,  0. ,  0. ,  0. ,\n",
      "         0. ,  0. ,  0. ,  0. ,  0. ,  0. ],\n",
      "       [19.8,  0. ,  3. ,  0. ,  0. ,  0. ,  0. ,  0. ,  1. ,  1.2,  0. ,\n",
      "         0. ,  0. ,  0. ,  0. ,  1. ,  1.2,  0. ,  0. ,  0. ,  0. ,  0. ,\n",
      "         0. ,  0. ,  0. ,  0. ,  1. ,  0. ,  0. ,  0. ,  0. ,  0. ,  0. ,\n",
      "         0. ,  0. ,  0. ,  0. ,  0. ,  0. ,  0. ,  0. ,  0. ,  0. ,  0. ,\n",
      "         0. ,  0. ,  0. ,  0. ,  0. ,  0. ],\n",
      "       [ 0. ,  3. ,  0. ,  0. ,  0. ,  0. ,  0. ,  1. ,  1.2,  0. ,  0. ,\n",
      "         0. ,  0. ,  0. ,  1. ,  1.2,  0. ,  0. ,  0. ,  0. ,  0. ,  0. ,\n",
      "         0. ,  0. ,  0. ,  1. ,  0. ,  0. ,  0. ,  0. ,  0. ,  0. ,  0. ,\n",
      "         0. ,  0. ,  0. ,  0. ,  0. ,  0. ,  0. ,  0. ,  0. ,  0. ,  0. ,\n",
      "         0. ,  0. ,  0. ,  0. ,  0. ,  0. ]])\n",
      "\n",
      "Last few outputs:\n",
      "array([[0.],\n",
      "       [0.],\n",
      "       [0.],\n",
      "       [0.],\n",
      "       [0.]])\n",
      "\n"
     ]
    }
   ],
   "source": [
    "# First Few Data Points\n",
    "first_few = 5\n",
    "\n",
    "print('First few inputs:')\n",
    "pprint(input_data[:first_few])\n",
    "print()\n",
    "\n",
    "print(f'First few outputs:')\n",
    "pprint(output_data[:first_few])\n",
    "print()\n",
    "\n",
    "# Last Few Data Points\n",
    "last_few = 5\n",
    "\n",
    "print('Last few inputs:')\n",
    "pprint(input_data[-first_few:])\n",
    "print()\n",
    "\n",
    "print(f'Last few outputs:')\n",
    "pprint(output_data[-first_few:])\n",
    "print()"
   ]
  },
  {
   "cell_type": "code",
   "execution_count": 33,
   "metadata": {
    "scrolled": true
   },
   "outputs": [
    {
     "name": "stdout",
     "output_type": "stream",
     "text": [
      "Epoch 1/100\n",
      "714/714 [==============================] - 1s 2ms/step - loss: 10.7859\n",
      "Epoch 2/100\n",
      "714/714 [==============================] - 1s 854us/step - loss: 10.4174\n",
      "Epoch 3/100\n",
      "714/714 [==============================] - 1s 751us/step - loss: 10.2692\n",
      "Epoch 4/100\n",
      "714/714 [==============================] - 1s 701us/step - loss: 10.2336\n",
      "Epoch 5/100\n",
      "714/714 [==============================] - 1s 746us/step - loss: 10.2235\n",
      "Epoch 6/100\n",
      "714/714 [==============================] - 1s 1ms/step - loss: 10.2213\n",
      "Epoch 7/100\n",
      "714/714 [==============================] - 1s 1ms/step - loss: 10.2208\n",
      "Epoch 8/100\n",
      "714/714 [==============================] - 1s 1ms/step - loss: 10.2207\n",
      "Epoch 9/100\n",
      "714/714 [==============================] - 1s 2ms/step - loss: 10.2206\n",
      "Epoch 10/100\n",
      "714/714 [==============================] - 1s 709us/step - loss: 10.2206\n",
      "Epoch 11/100\n",
      "714/714 [==============================] - 0s 684us/step - loss: 10.2206\n",
      "Epoch 12/100\n",
      "714/714 [==============================] - 0s 654us/step - loss: 10.2206\n",
      "Epoch 13/100\n",
      "714/714 [==============================] - 0s 657us/step - loss: 10.2206\n",
      "Epoch 14/100\n",
      "714/714 [==============================] - 1s 839us/step - loss: 10.2206\n",
      "Epoch 15/100\n",
      "714/714 [==============================] - 1s 912us/step - loss: 10.2206\n",
      "Epoch 16/100\n",
      "714/714 [==============================] - 1s 1ms/step - loss: 10.2206\n",
      "Epoch 17/100\n",
      "714/714 [==============================] - 1s 1ms/step - loss: 10.2206\n",
      "Epoch 18/100\n",
      "714/714 [==============================] - 1s 1ms/step - loss: 10.2206\n",
      "Epoch 19/100\n",
      "714/714 [==============================] - 1s 1ms/step - loss: 10.2206\n",
      "Epoch 20/100\n",
      "714/714 [==============================] - 1s 913us/step - loss: 10.2206\n",
      "Epoch 21/100\n",
      "714/714 [==============================] - 1s 1ms/step - loss: 10.2206\n",
      "Epoch 22/100\n",
      "714/714 [==============================] - 1s 1ms/step - loss: 10.2206: \n",
      "Epoch 23/100\n",
      "714/714 [==============================] - 1s 842us/step - loss: 10.2206\n",
      "Epoch 24/100\n",
      "714/714 [==============================] - 1s 1ms/step - loss: 10.2206\n",
      "Epoch 25/100\n",
      "714/714 [==============================] - 1s 862us/step - loss: 10.2206\n",
      "Epoch 26/100\n",
      "714/714 [==============================] - 1s 855us/step - loss: 10.2206\n",
      "Epoch 27/100\n",
      "714/714 [==============================] - 1s 1ms/step - loss: 10.2206\n",
      "Epoch 28/100\n",
      "714/714 [==============================] - 1s 1ms/step - loss: 10.2206\n",
      "Epoch 29/100\n",
      "714/714 [==============================] - 1s 1ms/step - loss: 10.2206\n",
      "Epoch 30/100\n",
      "714/714 [==============================] - 1s 1ms/step - loss: 10.2206\n",
      "Epoch 31/100\n",
      "714/714 [==============================] - 1s 1ms/step - loss: 10.2206\n",
      "Epoch 32/100\n",
      "714/714 [==============================] - 1s 1ms/step - loss: 10.2206\n",
      "Epoch 33/100\n",
      "714/714 [==============================] - 1s 738us/step - loss: 10.2206\n",
      "Epoch 34/100\n",
      "714/714 [==============================] - 1s 1ms/step - loss: 10.2206\n",
      "Epoch 35/100\n",
      "714/714 [==============================] - 1s 1ms/step - loss: 10.2206\n",
      "Epoch 36/100\n",
      "714/714 [==============================] - 1s 2ms/step - loss: 10.2206\n",
      "Epoch 37/100\n",
      "714/714 [==============================] - 1s 909us/step - loss: 10.2206\n",
      "Epoch 38/100\n",
      "714/714 [==============================] - 0s 659us/step - loss: 10.2206\n",
      "Epoch 39/100\n",
      "714/714 [==============================] - 0s 664us/step - loss: 10.2206\n",
      "Epoch 40/100\n",
      "714/714 [==============================] - 0s 662us/step - loss: 10.2206\n",
      "Epoch 41/100\n",
      "714/714 [==============================] - 0s 663us/step - loss: 10.2206\n",
      "Epoch 42/100\n",
      "714/714 [==============================] - 0s 657us/step - loss: 10.2206\n",
      "Epoch 43/100\n",
      "714/714 [==============================] - 0s 659us/step - loss: 10.2206\n",
      "Epoch 44/100\n",
      "714/714 [==============================] - 0s 656us/step - loss: 10.2206\n",
      "Epoch 45/100\n",
      "714/714 [==============================] - 0s 692us/step - loss: 10.2206\n",
      "Epoch 46/100\n",
      "714/714 [==============================] - 0s 672us/step - loss: 10.2206\n",
      "Epoch 47/100\n",
      "714/714 [==============================] - 1s 1ms/step - loss: 10.2206\n",
      "Epoch 48/100\n",
      "714/714 [==============================] - 0s 678us/step - loss: 10.2206\n",
      "Epoch 49/100\n",
      "714/714 [==============================] - 1s 1ms/step - loss: 10.2206\n",
      "Epoch 50/100\n",
      "714/714 [==============================] - 1s 1ms/step - loss: 10.2206\n",
      "Epoch 51/100\n",
      "714/714 [==============================] - 1s 746us/step - loss: 10.2206\n",
      "Epoch 52/100\n",
      "714/714 [==============================] - 0s 699us/step - loss: 10.2206\n",
      "Epoch 53/100\n",
      "714/714 [==============================] - 1s 711us/step - loss: 10.2206\n",
      "Epoch 54/100\n",
      "714/714 [==============================] - 0s 698us/step - loss: 10.2206\n",
      "Epoch 55/100\n",
      "714/714 [==============================] - 0s 693us/step - loss: 10.2206\n",
      "Epoch 56/100\n",
      "714/714 [==============================] - 0s 696us/step - loss: 10.2206\n",
      "Epoch 57/100\n",
      "714/714 [==============================] - 0s 695us/step - loss: 10.2206\n",
      "Epoch 58/100\n",
      "714/714 [==============================] - 0s 694us/step - loss: 10.2206\n",
      "Epoch 59/100\n",
      "714/714 [==============================] - 1s 741us/step - loss: 10.2206\n",
      "Epoch 60/100\n",
      "714/714 [==============================] - 1s 727us/step - loss: 10.2206\n",
      "Epoch 61/100\n",
      "714/714 [==============================] - 1s 942us/step - loss: 10.2206\n",
      "Epoch 62/100\n",
      "714/714 [==============================] - 1s 766us/step - loss: 10.2206\n",
      "Epoch 63/100\n",
      "714/714 [==============================] - 1s 746us/step - loss: 10.2206\n",
      "Epoch 64/100\n",
      "714/714 [==============================] - 1s 745us/step - loss: 10.2206\n",
      "Epoch 65/100\n",
      "714/714 [==============================] - 1s 747us/step - loss: 10.2206\n",
      "Epoch 66/100\n",
      "714/714 [==============================] - 1s 749us/step - loss: 10.2206\n",
      "Epoch 67/100\n",
      "714/714 [==============================] - 1s 795us/step - loss: 10.2206\n",
      "Epoch 68/100\n",
      "714/714 [==============================] - 1s 750us/step - loss: 10.2206\n",
      "Epoch 69/100\n",
      "714/714 [==============================] - 1s 751us/step - loss: 10.2206\n",
      "Epoch 70/100\n",
      "714/714 [==============================] - 1s 754us/step - loss: 10.2206\n",
      "Epoch 71/100\n",
      "714/714 [==============================] - 1s 784us/step - loss: 10.2206\n",
      "Epoch 72/100\n",
      "714/714 [==============================] - 1s 837us/step - loss: 10.2206\n",
      "Epoch 73/100\n",
      "714/714 [==============================] - 1s 819us/step - loss: 10.2206\n",
      "Epoch 74/100\n",
      "714/714 [==============================] - 1s 1ms/step - loss: 10.2206\n",
      "Epoch 75/100\n",
      "714/714 [==============================] - 1s 969us/step - loss: 10.2206\n",
      "Epoch 76/100\n",
      "714/714 [==============================] - 1s 1ms/step - loss: 10.2206\n",
      "Epoch 77/100\n",
      "714/714 [==============================] - 1s 1ms/step - loss: 10.2206\n",
      "Epoch 78/100\n",
      "714/714 [==============================] - 1s 788us/step - loss: 10.2206\n",
      "Epoch 79/100\n",
      "714/714 [==============================] - 1s 1ms/step - loss: 10.2206\n",
      "Epoch 80/100\n",
      "714/714 [==============================] - 1s 831us/step - loss: 10.2206\n",
      "Epoch 81/100\n",
      "714/714 [==============================] - 1s 755us/step - loss: 10.2206\n",
      "Epoch 82/100\n",
      "714/714 [==============================] - 1s 1ms/step - loss: 10.2206\n",
      "Epoch 83/100\n",
      "714/714 [==============================] - 0s 691us/step - loss: 10.2206\n",
      "Epoch 84/100\n",
      "714/714 [==============================] - 1s 860us/step - loss: 10.2206\n",
      "Epoch 85/100\n",
      "714/714 [==============================] - 0s 672us/step - loss: 10.2206\n",
      "Epoch 86/100\n",
      "714/714 [==============================] - 1s 833us/step - loss: 10.2206\n",
      "Epoch 87/100\n",
      "714/714 [==============================] - 1s 1ms/step - loss: 10.2206\n",
      "Epoch 88/100\n",
      "714/714 [==============================] - 1s 1ms/step - loss: 10.2206\n",
      "Epoch 89/100\n",
      "714/714 [==============================] - 1s 1ms/step - loss: 10.2206\n",
      "Epoch 90/100\n",
      "714/714 [==============================] - 1s 1ms/step - loss: 10.2206\n",
      "Epoch 91/100\n",
      "714/714 [==============================] - 1s 1ms/step - loss: 10.2206: 0s - los\n",
      "Epoch 92/100\n",
      "714/714 [==============================] - 1s 993us/step - loss: 10.2206\n",
      "Epoch 93/100\n",
      "714/714 [==============================] - 1s 780us/step - loss: 10.2206\n",
      "Epoch 94/100\n",
      "714/714 [==============================] - 1s 895us/step - loss: 10.2206\n",
      "Epoch 95/100\n",
      "714/714 [==============================] - 1s 1ms/step - loss: 10.2206\n",
      "Epoch 96/100\n",
      "714/714 [==============================] - 1s 1ms/step - loss: 10.2206\n",
      "Epoch 97/100\n"
     ]
    },
    {
     "name": "stdout",
     "output_type": "stream",
     "text": [
      "714/714 [==============================] - 1s 1ms/step - loss: 10.2206\n",
      "Epoch 98/100\n",
      "714/714 [==============================] - 1s 774us/step - loss: 10.2206\n",
      "Epoch 99/100\n",
      "714/714 [==============================] - 0s 677us/step - loss: 10.2206\n",
      "Epoch 100/100\n",
      "714/714 [==============================] - 0s 682us/step - loss: 10.2206\n"
     ]
    },
    {
     "data": {
      "text/plain": [
       "[<matplotlib.lines.Line2D at 0x7ffcfb2032e8>]"
      ]
     },
     "execution_count": 33,
     "metadata": {},
     "output_type": "execute_result"
    },
    {
     "data": {
      "image/png": "[encoded data removed]",
      "text/plain": [
       "<Figure size 432x288 with 1 Axes>"
      ]
     },
     "metadata": {
      "needs_background": "light"
     },
     "output_type": "display_data"
    }
   ],
   "source": [
    "history = model_normal.fit(input_data, output_data, epochs=100)\n",
    "plt.plot(history.history['loss'])"
   ]
  },
  {
   "cell_type": "markdown",
   "metadata": {},
   "source": [
    "## Compute Test Loss"
   ]
  },
  {
   "cell_type": "code",
   "execution_count": 34,
   "metadata": {},
   "outputs": [
    {
     "name": "stdout",
     "output_type": "stream",
     "text": [
      "Input Test Data: datatype: float64, shape: (4063, 50)\n",
      "Output Test Data: datatype: float64, shape: (4063, 1)\n",
      "\n",
      "Test Loss: 10.987689971923828\n"
     ]
    }
   ],
   "source": [
    "input_data = []\n",
    "output_data = []\n",
    "output_actual = []\n",
    "\n",
    "for i in range(max(num_train, lag), n):\n",
    "    \n",
    "    if rainfall_series[i] <= threshold:\n",
    "        input_data.append(rainfall_series[i - lag: i])\n",
    "        output_data.append(rainfall_series[i])\n",
    "\n",
    "input_data = np.array(input_data)\n",
    "output_data = np.expand_dims(np.array(output_data), axis=1)\n",
    "\n",
    "print(f'Input Test Data: datatype: {input_data.dtype}, shape: {input_data.shape}')\n",
    "print(f'Output Test Data: datatype: {output_data.dtype}, shape: {output_data.shape}')\n",
    "print('')\n",
    "\n",
    "true_val = output_data\n",
    "pred_val = model_extreme.predict(input_data)\n",
    "\n",
    "test_loss_cdf = MeanSquaredError()(true_val, pred_val)\n",
    "print(f'Test Loss: {test_loss_cdf}')"
   ]
  },
  {
   "cell_type": "markdown",
   "metadata": {},
   "source": [
    "# Combining Algorithms"
   ]
  },
  {
   "cell_type": "markdown",
   "metadata": {},
   "source": [
    "## Forecasting Training Data"
   ]
  },
  {
   "cell_type": "code",
   "execution_count": 146,
   "metadata": {},
   "outputs": [
    {
     "name": "stdout",
     "output_type": "stream",
     "text": [
      "Input Test Data: datatype: float64, shape: (24832, 50)\n",
      "Output Test Data: datatype: float64, shape: (24832, 1)\n",
      "\n"
     ]
    }
   ],
   "source": [
    "input_data = []\n",
    "output_data = []\n",
    "\n",
    "for i in range(lag, num_train):\n",
    "\n",
    "    input_data.append(rainfall_series[i - lag: i])\n",
    "    output_data.append(rainfall_series[i])\n",
    "\n",
    "input_data = np.array(input_data)\n",
    "output_data = np.expand_dims(np.array(output_data), axis=1)\n",
    "\n",
    "print(f'Input Test Data: datatype: {input_data.dtype}, shape: {input_data.shape}')\n",
    "print(f'Output Test Data: datatype: {output_data.dtype}, shape: {output_data.shape}')\n",
    "print('')"
   ]
  },
  {
   "cell_type": "code",
   "execution_count": 148,
   "metadata": {},
   "outputs": [],
   "source": [
    "is_extreme = model_detect.predict(input_data)\n",
    "\n",
    "pred_extreme = gpd_dist.computeQuantile(model_extreme.predict(input_data)) \\\n",
    "            + threshold\n",
    "\n",
    "pred_normal = model_normal.predict(input_data)\n",
    "\n",
    "pred_outputs = np.zeros(output_data.shape)\n",
    "\n",
    "for i in range(pred_outputs.shape[0]):\n",
    "    if is_extreme[i, 0]:\n",
    "        pred_outputs[i] = pred_extreme[i]\n",
    "    else:\n",
    "        pred_outputs[i] = pred_normal[i]"
   ]
  },
  {
   "cell_type": "code",
   "execution_count": 149,
   "metadata": {},
   "outputs": [
    {
     "data": {
      "image/png": "[encoded data removed]",
      "text/plain": [
       "<Figure size 432x288 with 1 Axes>"
      ]
     },
     "metadata": {
      "needs_background": "light"
     },
     "output_type": "display_data"
    }
   ],
   "source": [
    "plt.plot(output_data, label='true outputs')\n",
    "plt.plot(pred_outputs, label='pred outputs')\n",
    "plt.legend()\n",
    "plt.show()"
   ]
  },
  {
   "cell_type": "code",
   "execution_count": 150,
   "metadata": {},
   "outputs": [
    {
     "data": {
      "image/png": "[encoded data removed]",
      "text/plain": [
       "<Figure size 432x288 with 1 Axes>"
      ]
     },
     "metadata": {
      "needs_background": "light"
     },
     "output_type": "display_data"
    }
   ],
   "source": [
    "plt.plot(output_data, label='true outputs')\n",
    "plt.plot(pred_normal, label='normal pred outputs')\n",
    "plt.legend()\n",
    "plt.show()"
   ]
  },
  {
   "cell_type": "code",
   "execution_count": 151,
   "metadata": {},
   "outputs": [
    {
     "data": {
      "image/png": "[encoded data removed]",
      "text/plain": [
       "<Figure size 432x288 with 1 Axes>"
      ]
     },
     "metadata": {
      "needs_background": "light"
     },
     "output_type": "display_data"
    }
   ],
   "source": [
    "plt.plot(output_data, label='true outputs')\n",
    "plt.plot(pred_extreme, label='extreme pred outputs')\n",
    "plt.legend()\n",
    "plt.show()"
   ]
  },
  {
   "cell_type": "markdown",
   "metadata": {},
   "source": [
    "## Forecasting Test Data"
   ]
  },
  {
   "cell_type": "code",
   "execution_count": 152,
   "metadata": {},
   "outputs": [
    {
     "name": "stdout",
     "output_type": "stream",
     "text": [
      "Input Test Data: datatype: float64, shape: (2765, 50)\n",
      "Output Test Data: datatype: float64, shape: (2765, 1)\n",
      "\n"
     ]
    }
   ],
   "source": [
    "input_data = []\n",
    "output_data = []\n",
    "\n",
    "for i in range(max(num_train, lag), n):\n",
    "\n",
    "    input_data.append(rainfall_series[i - lag: i])\n",
    "    output_data.append(rainfall_series[i])\n",
    "\n",
    "input_data = np.array(input_data)\n",
    "output_data = np.expand_dims(np.array(output_data), axis=1)\n",
    "\n",
    "print(f'Input Test Data: datatype: {input_data.dtype}, shape: {input_data.shape}')\n",
    "print(f'Output Test Data: datatype: {output_data.dtype}, shape: {output_data.shape}')\n",
    "print('')"
   ]
  },
  {
   "cell_type": "code",
   "execution_count": 154,
   "metadata": {},
   "outputs": [],
   "source": [
    "is_extreme = model_detect.predict(input_data)\n",
    "\n",
    "pred_extreme = gpd_dist.computeQuantile(model_extreme.predict(input_data)) \\\n",
    "            + threshold\n",
    "\n",
    "pred_normal = model_normal.predict(input_data)\n",
    "\n",
    "pred_outputs = np.zeros(output_data.shape)\n",
    "\n",
    "for i in range(pred_outputs.shape[0]):\n",
    "    if is_extreme[i, 0]:\n",
    "        pred_outputs[i] = pred_extreme[i]\n",
    "    else:\n",
    "        pred_outputs[i] = pred_normal[i]"
   ]
  },
  {
   "cell_type": "code",
   "execution_count": 155,
   "metadata": {},
   "outputs": [
    {
     "data": {
      "image/png": "[encoded data removed]",
      "text/plain": [
       "<Figure size 432x288 with 1 Axes>"
      ]
     },
     "metadata": {
      "needs_background": "light"
     },
     "output_type": "display_data"
    }
   ],
   "source": [
    "plt.plot(output_data, label='true outputs')\n",
    "plt.plot(pred_outputs, label='pred outputs')\n",
    "plt.legend()\n",
    "plt.show()"
   ]
  },
  {
   "cell_type": "code",
   "execution_count": 156,
   "metadata": {},
   "outputs": [
    {
     "data": {
      "image/png": "[encoded data removed]",
      "text/plain": [
       "<Figure size 432x288 with 1 Axes>"
      ]
     },
     "metadata": {
      "needs_background": "light"
     },
     "output_type": "display_data"
    }
   ],
   "source": [
    "plt.plot(output_data, label='true outputs')\n",
    "plt.plot(pred_normal, label='normal pred outputs')\n",
    "plt.legend()\n",
    "plt.show()"
   ]
  },
  {
   "cell_type": "code",
   "execution_count": 44,
   "metadata": {},
   "outputs": [
    {
     "data": {
      "image/png": "[encoded data removed]",
      "text/plain": [
       "<Figure size 432x288 with 1 Axes>"
      ]
     },
     "metadata": {
      "needs_background": "light"
     },
     "output_type": "display_data"
    }
   ],
   "source": [
    "plt.plot(output_data, label='true outputs')\n",
    "plt.plot(pred_extreme, label='extreme pred outputs')\n",
    "plt.legend()\n",
    "plt.show()"
   ]
  },
  {
   "cell_type": "code",
   "execution_count": null,
   "metadata": {},
   "outputs": [],
   "source": []
  }
 ],
 "metadata": {
  "kernelspec": {
   "display_name": "Python 3",
   "language": "python",
   "name": "python3"
  },
  "language_info": {
   "codemirror_mode": {
    "name": "ipython",
    "version": 3
   },
   "file_extension": ".py",
   "mimetype": "text/x-python",
   "name": "python",
   "nbconvert_exporter": "python",
   "pygments_lexer": "ipython3",
   "version": "3.6.8"
  }
 },
 "nbformat": 4,
 "nbformat_minor": 2
}
