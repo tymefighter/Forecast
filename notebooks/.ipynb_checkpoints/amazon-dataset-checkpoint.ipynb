{
 "cells": [
  {
   "cell_type": "code",
   "execution_count": 1,
   "metadata": {},
   "outputs": [
    {
     "name": "stdout",
     "output_type": "stream",
     "text": [
      "Warning: Your Kaggle API key is readable by other users on this system! To fix this, you can run 'chmod 600 /Users/ahmed/.kaggle/kaggle.json'\n"
     ]
    }
   ],
   "source": [
    "from ts.data.dataset.univariate import AmazonStockPrice"
   ]
  },
  {
   "cell_type": "code",
   "execution_count": 2,
   "metadata": {},
   "outputs": [
    {
     "name": "stdout",
     "output_type": "stream",
     "text": [
      "Warning: Your Kaggle API key is readable by other users on this system! To fix this, you can run 'chmod 600 /Users/ahmed/.kaggle/kaggle.json'\n"
     ]
    }
   ],
   "source": [
    "targetSeries, exogenousSeries = AmazonStockPrice.loadData(\n",
    "    '/Users/ahmed/Downloads/Datasets/amazonStockPrice',\n",
    "    'Open'\n",
    ")"
   ]
  },
  {
   "cell_type": "code",
   "execution_count": 3,
   "metadata": {},
   "outputs": [
    {
     "name": "stdout",
     "output_type": "stream",
     "text": [
      "(5842,)\n",
      "float64\n",
      "[2.4375     1.96875    1.76041663 1.72916663 1.63541663 1.4375\n",
      " 1.40625    1.51041663 1.625      1.54166663]\n"
     ]
    }
   ],
   "source": [
    "print(targetSeries.shape)\n",
    "print(targetSeries.dtype)\n",
    "print(targetSeries[:10])"
   ]
  },
  {
   "cell_type": "code",
   "execution_count": 4,
   "metadata": {},
   "outputs": [
    {
     "name": "stdout",
     "output_type": "stream",
     "text": [
      "(5842, 5)\n",
      "float64\n",
      "[[2.50000000e+00 1.92708337e+00 1.95833337e+00 1.95833337e+00\n",
      "  7.21560000e+07]\n",
      " [1.97916663e+00 1.70833337e+00 1.72916663e+00 1.72916663e+00\n",
      "  1.47000000e+07]\n",
      " [1.77083337e+00 1.62500000e+00 1.70833337e+00 1.70833337e+00\n",
      "  6.10680000e+06]\n",
      " [1.75000000e+00 1.63541663e+00 1.63541663e+00 1.63541663e+00\n",
      "  5.46720000e+06]\n",
      " [1.64583337e+00 1.37500000e+00 1.42708337e+00 1.42708337e+00\n",
      "  1.88532000e+07]\n",
      " [1.44791663e+00 1.31250000e+00 1.39583337e+00 1.39583337e+00\n",
      "  1.17768000e+07]\n",
      " [1.52083337e+00 1.33333337e+00 1.50000000e+00 1.50000000e+00\n",
      "  1.59372000e+07]\n",
      " [1.64583337e+00 1.45833337e+00 1.58333337e+00 1.58333337e+00\n",
      "  8.69760000e+06]\n",
      " [1.63541663e+00 1.53125000e+00 1.53125000e+00 1.53125000e+00\n",
      "  4.57440000e+06]\n",
      " [1.54166663e+00 1.47916663e+00 1.50520837e+00 1.50520837e+00\n",
      "  3.47280000e+06]]\n"
     ]
    }
   ],
   "source": [
    "print(exogenousSeries.shape)\n",
    "print(exogenousSeries.dtype)\n",
    "print(exogenousSeries[:10])"
   ]
  }
 ],
 "metadata": {
  "kernelspec": {
   "display_name": "Python 3",
   "language": "python",
   "name": "python3"
  },
  "language_info": {
   "codemirror_mode": {
    "name": "ipython",
    "version": 3
   },
   "file_extension": ".py",
   "mimetype": "text/x-python",
   "name": "python",
   "nbconvert_exporter": "python",
   "pygments_lexer": "ipython3",
   "version": "3.6.8"
  }
 },
 "nbformat": 4,
 "nbformat_minor": 2
}
