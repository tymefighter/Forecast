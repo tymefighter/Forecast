{
 "cells": [
  {
   "cell_type": "code",
   "execution_count": 1,
   "metadata": {},
   "outputs": [
    {
     "data": {
      "text/plain": [
       "'2.3.0'"
      ]
     },
     "execution_count": 1,
     "metadata": {},
     "output_type": "execute_result"
    }
   ],
   "source": [
    "import tensorflow as tf\n",
    "import numpy as np\n",
    "import matplotlib.pyplot as plt\n",
    "import tensorflow.keras.backend as K\n",
    "from tensorflow.keras.layers import SimpleRNN, LSTM, GRU, Dense, TimeDistributed\n",
    "import model\n",
    "\n",
    "tf.__version__"
   ]
  },
  {
   "cell_type": "code",
   "execution_count": 2,
   "metadata": {},
   "outputs": [],
   "source": [
    "def generateArma(\n",
    "    n,\n",
    "    obsCoef,\n",
    "    noiseCoef,\n",
    "    noiseGenFunc,\n",
    "    noiseGenParams,\n",
    "    obsFunc = None,\n",
    "    noiseFunc = None\n",
    "):\n",
    "\n",
    "    p = len(obsCoef)\n",
    "    q = len(noiseCoef)    \n",
    "    \n",
    "    x = np.zeros(n)\n",
    "    eps = np.zeros(n)\n",
    "\n",
    "    for t in range(n):\n",
    "\n",
    "        obsVal = 0\n",
    "        for i in range(min(t, p)):\n",
    "            obsVal += obsCoef[i] * x[t - i - 1]\n",
    "        \n",
    "        if obsFunc is not None:\n",
    "            obsVal = obsFunc(obsVal)\n",
    "        x[t] += obsVal\n",
    "        \n",
    "        noiseVal = 0\n",
    "        for j in range(min(t, q)):\n",
    "            noiseVal += noiseCoef[j] * eps[t - j - 1]\n",
    "\n",
    "        if noiseFunc is not None:\n",
    "            noiseVal = noiseFunc(noiseVal)\n",
    "        x[t] += noiseVal\n",
    "\n",
    "        eps[t] = noiseGenFunc(*noiseGenParams)\n",
    "        x[t] += eps[t]\n",
    "\n",
    "    return x"
   ]
  },
  {
   "cell_type": "code",
   "execution_count": 3,
   "metadata": {},
   "outputs": [],
   "source": [
    "n = 1000\n",
    "P = 10\n",
    "Q = 10"
   ]
  },
  {
   "cell_type": "code",
   "execution_count": 4,
   "metadata": {},
   "outputs": [],
   "source": [
    "obsCoef = np.concatenate([\n",
    "    np.random.uniform(-0.1, 0, size = P // 2),\n",
    "    np.random.uniform(0, 0.1, size = P // 2)\n",
    "])\n",
    "\n",
    "noiseCoef = np.concatenate([\n",
    "    np.random.uniform(-0.01, 0, size = Q // 2),\n",
    "    np.random.uniform(0, 0.01, size = Q // 2)\n",
    "])\n",
    "\n",
    "noiseGenFunc = np.random.lognormal\n",
    "noiseGenParams = (1.0, 1.0)"
   ]
  },
  {
   "cell_type": "code",
   "execution_count": 5,
   "metadata": {},
   "outputs": [],
   "source": [
    "trainSeq = generateArma(n, obsCoef, noiseCoef, noiseGenFunc, noiseGenParams)"
   ]
  },
  {
   "cell_type": "code",
   "execution_count": 6,
   "metadata": {},
   "outputs": [
    {
     "name": "stdout",
     "output_type": "stream",
     "text": [
      "Plotting Sequence\n"
     ]
    },
    {
     "data": {
      "image/png": "[encoded data removed]",
      "text/plain": [
       "<Figure size 432x288 with 1 Axes>"
      ]
     },
     "metadata": {
      "needs_background": "light"
     },
     "output_type": "display_data"
    }
   ],
   "source": [
    "print('Plotting Sequence')\n",
    "plt.plot(trainSeq)\n",
    "plt.show()"
   ]
  },
  {
   "cell_type": "code",
   "execution_count": 7,
   "metadata": {},
   "outputs": [],
   "source": [
    "x = trainSeq[:n-1, np.newaxis]\n",
    "y = trainSeq[1:, np.newaxis]"
   ]
  },
  {
   "cell_type": "code",
   "execution_count": 8,
   "metadata": {
    "scrolled": false
   },
   "outputs": [],
   "source": [
    "timeModel = model.Model(\n",
    "    memorySize = 60,\n",
    "    windowSize = 40,\n",
    "    threshold = 20,\n",
    "    inputDimension = 1,\n",
    "    hiddenStateSize = 16,\n",
    "    extremeValueIndex = 2.5,\n",
    "    optimizer = tf.keras.optimizers.Adam(),\n",
    "    extremeLossWeight = 2.0,\n",
    ")"
   ]
  },
  {
   "cell_type": "code",
   "execution_count": null,
   "metadata": {},
   "outputs": [
    {
     "name": "stdout",
     "output_type": "stream",
     "text": [
      "WARNING:tensorflow:Layer gru_cell is casting an input tensor from dtype float64 to the layer's dtype of float32, which is new behavior in TensorFlow 2.  The layer has dtype float32 because its dtype defaults to floatx.\n",
      "\n",
      "If you intended to run this layer in float32, you can safely ignore this warning. If in doubt, this warning is likely only an issue if you are porting a TensorFlow 1.X model to TensorFlow 2.\n",
      "\n",
      "To change all layers to have dtype float64 by default, call `tf.keras.backend.set_floatx('float64')`. To change just this layer, pass dtype='float64' to the layer constructor. If you are the author of this layer, you can disable autocasting by passing autocast=False to the base Layer constructor.\n",
      "\n",
      "start timestep: 41 | end timestep: 240  | time taken:  509.85 sec | Loss: 1109109.5\n",
      "start timestep: 241 | end timestep: 440  | time taken:  504.51 sec | Loss: 1222577.125\n"
     ]
    }
   ],
   "source": [
    "timeModel.train(x, y, 200, verbose = 2)"
   ]
  }
 ],
 "metadata": {
  "kernelspec": {
   "display_name": "Python 3",
   "language": "python",
   "name": "python3"
  },
  "language_info": {
   "codemirror_mode": {
    "name": "ipython",
    "version": 3
   },
   "file_extension": ".py",
   "mimetype": "text/x-python",
   "name": "python",
   "nbconvert_exporter": "python",
   "pygments_lexer": "ipython3",
   "version": "3.6.8"
  }
 },
 "nbformat": 4,
 "nbformat_minor": 2
}
