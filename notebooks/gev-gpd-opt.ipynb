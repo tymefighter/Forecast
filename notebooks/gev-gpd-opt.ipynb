{
 "cells": [
  {
   "cell_type": "code",
   "execution_count": 1,
   "metadata": {},
   "outputs": [],
   "source": [
    "import numpy as np\n",
    "import matplotlib.pyplot as plt\n",
    "\n",
    "from ts.experimental import Pso"
   ]
  },
  {
   "cell_type": "markdown",
   "metadata": {},
   "source": [
    "# GEV(shape, location, scale)"
   ]
  },
  {
   "cell_type": "code",
   "execution_count": 2,
   "metadata": {},
   "outputs": [],
   "source": [
    "from ts.experimental import GeneralizedExtremeValueDistribution, GevEstimate"
   ]
  },
  {
   "cell_type": "code",
   "execution_count": 48,
   "metadata": {},
   "outputs": [],
   "source": [
    "def try_pso_gev(data, param_range, num_particles, num_iterations, num_tries):\n",
    "    \n",
    "    best_params = best_likelihood = None\n",
    "    \n",
    "    for _ in range(num_tries):\n",
    "        \n",
    "        initial_pos = Pso.computeInitialPos(param_range, num_particles)\n",
    "        params, likelihood, _ = GevEstimate.psoMethod(\n",
    "            data, initial_pos, numIterations=num_iterations\n",
    "        )\n",
    "        \n",
    "        if best_likelihood is None or best_likelihood < likelihood:\n",
    "            best_likelihood = likelihood\n",
    "            best_params = params\n",
    "            \n",
    "    return best_params, best_likelihood\n",
    "\n",
    "def sample_param(param_range):\n",
    "    \n",
    "    params = np.zeros((len(param_range),))\n",
    "    \n",
    "    for i in range(len(param_range)):\n",
    "        params[i] = np.random.uniform(*param_range[i])\n",
    "    \n",
    "    return params\n",
    "    \n",
    "def sample_valid_param(param_range, data):\n",
    "    \n",
    "    params = sample_param(param_range)\n",
    "    \n",
    "    while GeneralizedExtremeValueDistribution.logLikelihood(\n",
    "        params[0], params[1], params[2], data\n",
    "    ) is None:\n",
    "        \n",
    "        params = sample_param(param_range)\n",
    "    \n",
    "    return params\n",
    "\n",
    "def try_gdls_gev(\n",
    "    data, param_range, \n",
    "    learning_rate, learning_rate_mul, num_iterations,\n",
    "    num_tries\n",
    "):\n",
    "    \n",
    "    best_params = best_likelihood = None\n",
    "    \n",
    "    for _ in range(num_tries):\n",
    "        \n",
    "        init_params = sample_valid_param(param_range, data)\n",
    "        params, cost_values = GevEstimate.gradDescentLineSearch(\n",
    "            data,\n",
    "            init_params[0], init_params[1], init_params[2],\n",
    "            learning_rate, learning_rate_mul, num_iterations\n",
    "        )\n",
    "        \n",
    "        likelihood = -cost_values[-1]\n",
    "        \n",
    "        if best_likelihood is None or best_likelihood < likelihood:\n",
    "            best_likelihood = likelihood\n",
    "            best_params = params\n",
    "            \n",
    "    return best_params, best_likelihood"
   ]
  },
  {
   "cell_type": "markdown",
   "metadata": {},
   "source": [
    "## GEV(2, 0, 1)"
   ]
  },
  {
   "cell_type": "code",
   "execution_count": 53,
   "metadata": {},
   "outputs": [
    {
     "name": "stdout",
     "output_type": "stream",
     "text": [
      "PSO: shape: 1.9523502867568892, location: -0.02719809909962486, scale: 0.9243315829124951, log likelihood: -2622.5877720241165\n",
      "GDLS: shape: 1.3643848090160784, location: 0.19094535740293964, scale: 3.2038965809780837, log likelihood: -3326.6723298922716\n"
     ]
    }
   ],
   "source": [
    "n = 1000\n",
    "data = GeneralizedExtremeValueDistribution(2, 0, 1).sample((n,))\n",
    "param_range = [(0, 5), (-10, 10), (0.5, 5)]\n",
    "num_tries = 20\n",
    "\n",
    "num_particles_pso = 50\n",
    "num_iterations_pso = 150\n",
    "params_pso, likelihood_pso = try_pso_gev(\n",
    "    data, \n",
    "    param_range, \n",
    "    num_particles_pso,\n",
    "    num_iterations_pso, \n",
    "    num_tries\n",
    ")\n",
    "\n",
    "print(\n",
    "    f'PSO: shape: {params_pso[0]}, '\n",
    "    + f'location: {params_pso[1]}, '\n",
    "    + f'scale: {params_pso[2]}, '\n",
    "    + f'log likelihood: {likelihood_pso}'\n",
    ")\n",
    "\n",
    "learning_rate_gdls = 1e-7\n",
    "learning_rate_mul_gdls = 0.99\n",
    "num_iterations_gdls = 150\n",
    "params_gdls, likelihood_gdls = try_gdls_gev(\n",
    "    data, param_range, \n",
    "    learning_rate_gdls, learning_rate_mul_gdls, \n",
    "    num_iterations_gdls,\n",
    "    num_tries\n",
    ")\n",
    "\n",
    "print(\n",
    "    f'GDLS: shape: {params_gdls[0]}, '\n",
    "    + f'location: {params_gdls[1]}, '\n",
    "    + f'scale: {params_gdls[2]}, '\n",
    "    + f'log likelihood: {likelihood_gdls}'\n",
    ")"
   ]
  },
  {
   "cell_type": "markdown",
   "metadata": {},
   "source": [
    "## GEV(20, -15, 10)"
   ]
  },
  {
   "cell_type": "code",
   "execution_count": 50,
   "metadata": {},
   "outputs": [
    {
     "name": "stdout",
     "output_type": "stream",
     "text": [
      "PSO: shape: 19.309110940032003, location: -14.918712741696417, scale: 11.224140159270025, log likelihood: -29945.164575810308\n",
      "GDLS: shape: 14.734633276224537, location: -15.590603396217317, scale: 3.927694908784457, log likelihood: -37876.700258161065\n"
     ]
    }
   ],
   "source": [
    "n = 2000\n",
    "data = GeneralizedExtremeValueDistribution(20, -15, 10).sample((n,))\n",
    "param_range = [(0, 30), (-30, 5), (1, 20)]\n",
    "num_tries = 20\n",
    "\n",
    "num_particles_pso = 100\n",
    "num_iterations_pso = 200\n",
    "params_pso, likelihood_pso = try_pso_gev(\n",
    "    data, \n",
    "    param_range, \n",
    "    num_particles_pso,\n",
    "    num_iterations_pso, \n",
    "    num_tries\n",
    ")\n",
    "\n",
    "print(\n",
    "    f'PSO: shape: {params_pso[0]}, '\n",
    "    + f'location: {params_pso[1]}, '\n",
    "    + f'scale: {params_pso[2]}, '\n",
    "    + f'log likelihood: {likelihood_pso}'\n",
    ")\n",
    "\n",
    "learning_rate_gdls = 1e-7\n",
    "learning_rate_mul_gdls = 0.90\n",
    "num_iterations_gdls = 200\n",
    "params_gdls, likelihood_gdls = try_gdls_gev(\n",
    "    data, param_range, \n",
    "    learning_rate_gdls, learning_rate_mul_gdls, \n",
    "    num_iterations_gdls,\n",
    "    num_tries\n",
    ")\n",
    "\n",
    "print(\n",
    "    f'GDLS: shape: {params_gdls[0]}, '\n",
    "    + f'location: {params_gdls[1]}, '\n",
    "    + f'scale: {params_gdls[2]}, '\n",
    "    + f'log likelihood: {likelihood_gdls}'\n",
    ")"
   ]
  },
  {
   "cell_type": "markdown",
   "metadata": {},
   "source": [
    "## GEV(-10, 10, 5)"
   ]
  },
  {
   "cell_type": "code",
   "execution_count": 51,
   "metadata": {},
   "outputs": [
    {
     "name": "stdout",
     "output_type": "stream",
     "text": [
      "PSO: shape: -11.295113861969654, location: 10.435013164291872, scale: 6.381590639846108, log likelihood: 824.5402101226\n",
      "GDLS: shape: -8.395614889410911, location: 10.489864445379487, scale: 6.2549304254007385, log likelihood: -9644.442060267183\n"
     ]
    }
   ],
   "source": [
    "n = 2000\n",
    "data = GeneralizedExtremeValueDistribution(-10, 10, 10).sample((n,))\n",
    "param_range = [(-20, 0), (0, 20), (1, 10)]\n",
    "num_tries = 20\n",
    "\n",
    "num_particles_pso = 100\n",
    "num_iterations_pso = 200\n",
    "params_pso, likelihood_pso = try_pso_gev(\n",
    "    data, \n",
    "    param_range, \n",
    "    num_particles_pso,\n",
    "    num_iterations_pso, \n",
    "    num_tries\n",
    ")\n",
    "\n",
    "print(\n",
    "    f'PSO: shape: {params_pso[0]}, '\n",
    "    + f'location: {params_pso[1]}, '\n",
    "    + f'scale: {params_pso[2]}, '\n",
    "    + f'log likelihood: {likelihood_pso}'\n",
    ")\n",
    "\n",
    "learning_rate_gdls = 1e-7\n",
    "learning_rate_mul_gdls = 0.90\n",
    "num_iterations_gdls = 200\n",
    "params_gdls, likelihood_gdls = try_gdls_gev(\n",
    "    data, param_range, \n",
    "    learning_rate_gdls, learning_rate_mul_gdls, \n",
    "    num_iterations_gdls,\n",
    "    num_tries\n",
    ")\n",
    "\n",
    "print(\n",
    "    f'GDLS: shape: {params_gdls[0]}, '\n",
    "    + f'location: {params_gdls[1]}, '\n",
    "    + f'scale: {params_gdls[2]}, '\n",
    "    + f'log likelihood: {likelihood_gdls}'\n",
    ")"
   ]
  },
  {
   "cell_type": "markdown",
   "metadata": {},
   "source": [
    "## GEV(0, 0, 1)"
   ]
  },
  {
   "cell_type": "code",
   "execution_count": 52,
   "metadata": {},
   "outputs": [
    {
     "name": "stdout",
     "output_type": "stream",
     "text": [
      "PSO: shape: -0.02332677385757997, location: -0.004291841274372433, scale: 1.0271262021653809, log likelihood: -3184.435404758675\n",
      "GDLS: shape: -0.2310043472329169, location: -0.4739272575517193, scale: 2.7901401219547872, log likelihood: -4176.806588281901\n"
     ]
    }
   ],
   "source": [
    "n = 2000\n",
    "data = GeneralizedExtremeValueDistribution(0, 0, 1).sample((n,))\n",
    "param_range = [(-5, 5), (-5, 5), (0.01, 5)]\n",
    "num_tries = 20\n",
    "\n",
    "num_particles_pso = 100\n",
    "num_iterations_pso = 200\n",
    "params_pso, likelihood_pso = try_pso_gev(\n",
    "    data, \n",
    "    param_range, \n",
    "    num_particles_pso,\n",
    "    num_iterations_pso, \n",
    "    num_tries\n",
    ")\n",
    "\n",
    "print(\n",
    "    f'PSO: shape: {params_pso[0]}, '\n",
    "    + f'location: {params_pso[1]}, '\n",
    "    + f'scale: {params_pso[2]}, '\n",
    "    + f'log likelihood: {likelihood_pso}'\n",
    ")\n",
    "\n",
    "learning_rate_gdls = 1e-7\n",
    "learning_rate_mul_gdls = 0.90\n",
    "num_iterations_gdls = 200\n",
    "params_gdls, likelihood_gdls = try_gdls_gev(\n",
    "    data, param_range, \n",
    "    learning_rate_gdls, learning_rate_mul_gdls, \n",
    "    num_iterations_gdls,\n",
    "    num_tries\n",
    ")\n",
    "\n",
    "print(\n",
    "    f'GDLS: shape: {params_gdls[0]}, '\n",
    "    + f'location: {params_gdls[1]}, '\n",
    "    + f'scale: {params_gdls[2]}, '\n",
    "    + f'log likelihood: {likelihood_gdls}'\n",
    ")"
   ]
  },
  {
   "cell_type": "markdown",
   "metadata": {},
   "source": [
    "# GPD"
   ]
  },
  {
   "cell_type": "code",
   "execution_count": 54,
   "metadata": {},
   "outputs": [],
   "source": [
    "from ts.experimental import GeneralizedParetoDistribution, GpdEstimate"
   ]
  },
  {
   "cell_type": "code",
   "execution_count": 56,
   "metadata": {},
   "outputs": [],
   "source": [
    "def try_pso_gpd(data, param_range, num_particles, num_iterations, num_tries):\n",
    "    \n",
    "    best_params = best_likelihood = None\n",
    "    \n",
    "    for _ in range(num_tries):\n",
    "        \n",
    "        initial_pos = Pso.computeInitialPos(param_range, num_particles)\n",
    "        params, likelihood, _ = GpdEstimate.psoMethod(\n",
    "            data, initial_pos, numIterations=num_iterations\n",
    "        )\n",
    "        \n",
    "        if best_likelihood is None or best_likelihood < likelihood:\n",
    "            best_likelihood = likelihood\n",
    "            best_params = params\n",
    "            \n",
    "    return best_params, best_likelihood\n",
    "\n",
    "def sample_param(param_range):\n",
    "    \n",
    "    params = np.zeros((len(param_range),))\n",
    "    \n",
    "    for i in range(len(param_range)):\n",
    "        params[i] = np.random.uniform(*param_range[i])\n",
    "    \n",
    "    return params\n",
    "    \n",
    "def sample_valid_param(param_range, data):\n",
    "    \n",
    "    params = sample_param(param_range)\n",
    "    \n",
    "    while GeneralizedParetoDistribution.logLikelihood(\n",
    "        params[0], params[1], data\n",
    "    ) is None:\n",
    "        \n",
    "        params = sample_param(param_range)\n",
    "    \n",
    "    return params\n",
    "\n",
    "def try_gdls_gpd(\n",
    "    data, param_range, \n",
    "    learning_rate, learning_rate_mul, num_iterations,\n",
    "    num_tries\n",
    "):\n",
    "    \n",
    "    best_params = best_likelihood = None\n",
    "    \n",
    "    for _ in range(num_tries):\n",
    "        \n",
    "        init_params = sample_valid_param(param_range, data)\n",
    "        params, cost_values = GpdEstimate.gradDescentLineSearch(\n",
    "            data,\n",
    "            init_params[0], init_params[1],\n",
    "            learning_rate, learning_rate_mul, num_iterations\n",
    "        )\n",
    "        \n",
    "        likelihood = -cost_values[-1]\n",
    "        \n",
    "        if best_likelihood is None or best_likelihood < likelihood:\n",
    "            best_likelihood = likelihood\n",
    "            best_params = params\n",
    "            \n",
    "    return best_params, best_likelihood"
   ]
  },
  {
   "cell_type": "markdown",
   "metadata": {},
   "source": [
    "## GPD(5, 10)"
   ]
  },
  {
   "cell_type": "code",
   "execution_count": 58,
   "metadata": {},
   "outputs": [
    {
     "name": "stdout",
     "output_type": "stream",
     "text": [
      "PSO: shape: 4.860601362928738, scale: 8.397457350244148, log likelihood: -15977.060785991333\n",
      "GDLS: shape: 4.9039443610605735, scale: 7.743101524079995, log likelihood: -15977.644468320632\n"
     ]
    }
   ],
   "source": [
    "n = 2000\n",
    "data = GeneralizedParetoDistribution(5, 10).sample((n,))\n",
    "param_range = [(0, 10), (1, 20)]\n",
    "num_tries = 20\n",
    "\n",
    "num_particles_pso = 100\n",
    "num_iterations_pso = 200\n",
    "params_pso, likelihood_pso = try_pso_gpd(\n",
    "    data, \n",
    "    param_range, \n",
    "    num_particles_pso,\n",
    "    num_iterations_pso, \n",
    "    num_tries\n",
    ")\n",
    "\n",
    "print(\n",
    "    f'PSO: shape: {params_pso[0]}, '\n",
    "    + f'scale: {params_pso[1]}, '\n",
    "    + f'log likelihood: {likelihood_pso}'\n",
    ")\n",
    "\n",
    "learning_rate_gdls = 1e-7\n",
    "learning_rate_mul_gdls = 0.90\n",
    "num_iterations_gdls = 200\n",
    "params_gdls, likelihood_gdls = try_gdls_gpd(\n",
    "    data, param_range, \n",
    "    learning_rate_gdls, learning_rate_mul_gdls, \n",
    "    num_iterations_gdls,\n",
    "    num_tries\n",
    ")\n",
    "\n",
    "print(\n",
    "    f'GDLS: shape: {params_gdls[0]}, '\n",
    "    + f'scale: {params_gdls[1]}, '\n",
    "    + f'log likelihood: {likelihood_gdls}'\n",
    ")"
   ]
  },
  {
   "cell_type": "markdown",
   "metadata": {},
   "source": [
    "## GPD(-5, 4)"
   ]
  },
  {
   "cell_type": "code",
   "execution_count": 59,
   "metadata": {},
   "outputs": [
    {
     "name": "stdout",
     "output_type": "stream",
     "text": [
      "PSO: shape: -5.903207698062154, scale: 4.722566158449725, log likelihood: 5603.099115668561\n",
      "GDLS: shape: -7.940254330157523, scale: 6.35220346412602, log likelihood: 5467.2606142623945\n"
     ]
    }
   ],
   "source": [
    "n = 2000\n",
    "data = GeneralizedParetoDistribution(-5, 4).sample((n,))\n",
    "param_range = [(-20, 0), (1, 10)]\n",
    "num_tries = 20\n",
    "\n",
    "num_particles_pso = 100\n",
    "num_iterations_pso = 200\n",
    "params_pso, likelihood_pso = try_pso_gpd(\n",
    "    data, \n",
    "    param_range, \n",
    "    num_particles_pso,\n",
    "    num_iterations_pso, \n",
    "    num_tries\n",
    ")\n",
    "\n",
    "print(\n",
    "    f'PSO: shape: {params_pso[0]}, '\n",
    "    + f'scale: {params_pso[1]}, '\n",
    "    + f'log likelihood: {likelihood_pso}'\n",
    ")\n",
    "\n",
    "learning_rate_gdls = 1e-7\n",
    "learning_rate_mul_gdls = 0.90\n",
    "num_iterations_gdls = 200\n",
    "params_gdls, likelihood_gdls = try_gdls_gpd(\n",
    "    data, param_range, \n",
    "    learning_rate_gdls, learning_rate_mul_gdls, \n",
    "    num_iterations_gdls,\n",
    "    num_tries\n",
    ")\n",
    "\n",
    "print(\n",
    "    f'GDLS: shape: {params_gdls[0]}, '\n",
    "    + f'scale: {params_gdls[1]}, '\n",
    "    + f'log likelihood: {likelihood_gdls}'\n",
    ")"
   ]
  },
  {
   "cell_type": "markdown",
   "metadata": {},
   "source": [
    "## GPD(0, 1)"
   ]
  },
  {
   "cell_type": "code",
   "execution_count": 60,
   "metadata": {},
   "outputs": [
    {
     "name": "stdout",
     "output_type": "stream",
     "text": [
      "PSO: shape: 0.00023471686592812756, scale: 1.0192370202810075, log likelihood: -2038.5780286942772\n",
      "GDLS: shape: 1.323629924996449, scale: 0.6991081726624992, log likelihood: -2465.6275330648295\n"
     ]
    }
   ],
   "source": [
    "n = 2000\n",
    "data = GeneralizedParetoDistribution(0, 1).sample((n,))\n",
    "param_range = [(-5, 5), (0.01, 5)]\n",
    "num_tries = 20\n",
    "\n",
    "num_particles_pso = 100\n",
    "num_iterations_pso = 200\n",
    "params_pso, likelihood_pso = try_pso_gpd(\n",
    "    data, \n",
    "    param_range, \n",
    "    num_particles_pso,\n",
    "    num_iterations_pso, \n",
    "    num_tries\n",
    ")\n",
    "\n",
    "print(\n",
    "    f'PSO: shape: {params_pso[0]}, '\n",
    "    + f'scale: {params_pso[1]}, '\n",
    "    + f'log likelihood: {likelihood_pso}'\n",
    ")\n",
    "\n",
    "learning_rate_gdls = 1e-7\n",
    "learning_rate_mul_gdls = 0.90\n",
    "num_iterations_gdls = 200\n",
    "params_gdls, likelihood_gdls = try_gdls_gpd(\n",
    "    data, param_range, \n",
    "    learning_rate_gdls, learning_rate_mul_gdls, \n",
    "    num_iterations_gdls,\n",
    "    num_tries\n",
    ")\n",
    "\n",
    "print(\n",
    "    f'GDLS: shape: {params_gdls[0]}, '\n",
    "    + f'scale: {params_gdls[1]}, '\n",
    "    + f'log likelihood: {likelihood_gdls}'\n",
    ")"
   ]
  }
 ],
 "metadata": {
  "kernelspec": {
   "display_name": "Python 3",
   "language": "python",
   "name": "python3"
  },
  "language_info": {
   "codemirror_mode": {
    "name": "ipython",
    "version": 3
   },
   "file_extension": ".py",
   "mimetype": "text/x-python",
   "name": "python",
   "nbconvert_exporter": "python",
   "pygments_lexer": "ipython3",
   "version": "3.6.8"
  }
 },
 "nbformat": 4,
 "nbformat_minor": 2
}
